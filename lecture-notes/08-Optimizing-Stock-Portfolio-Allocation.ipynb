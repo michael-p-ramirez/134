{
 "cells": [
  {
   "cell_type": "markdown",
   "metadata": {
    "slideshow": {
     "slide_type": "slide"
    }
   },
   "source": [
    "# Optimizing Stock Portfolio Allocation <a class='tocSkip'>\n",
    "\n",
    "## Sang-Yun Oh <a class='tocSkip'>"
   ]
  },
  {
   "cell_type": "markdown",
   "metadata": {
    "slideshow": {
     "slide_type": "slide"
    }
   },
   "source": [
    "## Installing Packages in Python\n",
    "\n",
    "* Default package source for `pip` command is Python Package Index (PyPI)  \n",
    "    e.g., https://pypi.org/project/yfinance/\n",
    "* Can also install from github repository: \n",
    "    https://pypi.org/project/yfinance/"
   ]
  },
  {
   "cell_type": "code",
   "execution_count": 1,
   "metadata": {},
   "outputs": [
    {
     "name": "stdout",
     "output_type": "stream",
     "text": [
      "Collecting cvxpy\n",
      "\u001b[?25l  Downloading https://files.pythonhosted.org/packages/66/f8/a0990f6d6df5872f9d2cc62dd102242e05f7204b2f1ddf2e504fefeb9e25/cvxpy-1.1.7.tar.gz (1.0MB)\n",
      "\u001b[K     |████████████████████████████████| 1.0MB 5.3MB/s eta 0:00:01\n",
      "\u001b[?25h  Installing build dependencies ... \u001b[?25ldone\n",
      "\u001b[?25h  Getting requirements to build wheel ... \u001b[?25ldone\n",
      "\u001b[?25h    Preparing wheel metadata ... \u001b[?25ldone\n",
      "\u001b[?25hCollecting scs>=1.1.6\n",
      "\u001b[?25l  Downloading https://files.pythonhosted.org/packages/1a/72/33be87cce255d4e9dbbfef547e9fd6ec7ee94d0d0910bb2b13badea3fbbe/scs-2.1.2.tar.gz (3.5MB)\n",
      "\u001b[K     |████████████████████████████████| 3.6MB 12.1MB/s eta 0:00:01\n",
      "\u001b[?25hRequirement already satisfied: numpy>=1.15 in /opt/conda/lib/python3.7/site-packages (from cvxpy) (1.17.3)\n",
      "Requirement already satisfied: scipy>=1.1.0 in /opt/conda/lib/python3.7/site-packages (from cvxpy) (1.3.2)\n",
      "Collecting ecos>=2\n",
      "\u001b[?25l  Downloading https://files.pythonhosted.org/packages/d9/3a/a43dba25a6d0bec475574d1cc79eec0288cc931c4e99e643c157f77728e3/ecos-2.0.7.post1-cp37-cp37m-manylinux1_x86_64.whl (147kB)\n",
      "\u001b[K     |████████████████████████████████| 153kB 13.1MB/s eta 0:00:01\n",
      "\u001b[?25hCollecting osqp>=0.4.1\n",
      "\u001b[?25l  Downloading https://files.pythonhosted.org/packages/a8/14/3bde321e3f5d10967dda79edbfdc2e634ac55196d490c237d52d167f9d5b/osqp-0.6.1-cp37-cp37m-manylinux2010_x86_64.whl (211kB)\n",
      "\u001b[K     |████████████████████████████████| 215kB 11.2MB/s eta 0:00:01\n",
      "\u001b[?25hCollecting future\n",
      "\u001b[?25l  Downloading https://files.pythonhosted.org/packages/45/0b/38b06fd9b92dc2b68d58b75f900e97884c45bedd2ff83203d933cf5851c9/future-0.18.2.tar.gz (829kB)\n",
      "\u001b[K     |████████████████████████████████| 829kB 8.6MB/s eta 0:00:01\n",
      "\u001b[?25hBuilding wheels for collected packages: cvxpy\n",
      "  Building wheel for cvxpy (PEP 517) ... \u001b[?25ldone\n",
      "\u001b[?25h  Created wheel for cvxpy: filename=cvxpy-1.1.7-cp37-cp37m-linux_x86_64.whl size=2675380 sha256=adeb163303b18a712cbca2e9a4f24160c06098f71eb0965469cfeea1a2bebaa9\n",
      "  Stored in directory: /home/jovyan/.cache/pip/wheels/38/8d/38/5e12d1b5a701922dcf61973146aace7c06a7eaadc9792e51c0\n",
      "Successfully built cvxpy\n",
      "Building wheels for collected packages: scs, future\n",
      "  Building wheel for scs (setup.py) ... \u001b[?25ldone\n",
      "\u001b[?25h  Created wheel for scs: filename=scs-2.1.2-cp37-cp37m-linux_x86_64.whl size=529521 sha256=58564c8d2c7268d31a9e6635ea016f5cbbc2a23f7fd508a7e6c1bd21c327f028\n",
      "  Stored in directory: /home/jovyan/.cache/pip/wheels/df/d0/79/37ea880586da03c620ca9ecd5e42adbd86bc6ea84363965c5f\n",
      "  Building wheel for future (setup.py) ... \u001b[?25ldone\n",
      "\u001b[?25h  Created wheel for future: filename=future-0.18.2-cp37-none-any.whl size=491057 sha256=95b49ca65df7ae5f3a8a284fc416bfa7feff7882a49198398ab25990c06b1f77\n",
      "  Stored in directory: /home/jovyan/.cache/pip/wheels/8b/99/a0/81daf51dcd359a9377b110a8a886b3895921802d2fc1b2397e\n",
      "Successfully built scs future\n",
      "Installing collected packages: scs, ecos, future, osqp, cvxpy\n",
      "Successfully installed cvxpy-1.1.7 ecos-2.0.7.post1 future-0.18.2 osqp-0.6.1 scs-2.1.2\n"
     ]
    }
   ],
   "source": [
    "!pip install cvxpy"
   ]
  },
  {
   "cell_type": "code",
   "execution_count": 1,
   "metadata": {
    "slideshow": {
     "slide_type": "subslide"
    }
   },
   "outputs": [
    {
     "name": "stdout",
     "output_type": "stream",
     "text": [
      "Requirement already satisfied: yfinance in /opt/conda/lib/python3.7/site-packages (0.1.54)\n",
      "Requirement already satisfied: requests>=2.20 in /opt/conda/lib/python3.7/site-packages (from yfinance) (2.22.0)\n",
      "Requirement already satisfied: numpy>=1.15 in /opt/conda/lib/python3.7/site-packages (from yfinance) (1.18.1)\n",
      "Requirement already satisfied: pandas>=0.24 in /opt/conda/lib/python3.7/site-packages (from yfinance) (1.0.3)\n",
      "Requirement already satisfied: multitasking>=0.0.7 in /opt/conda/lib/python3.7/site-packages (from yfinance) (0.0.9)\n",
      "Requirement already satisfied: idna<2.9,>=2.5 in /opt/conda/lib/python3.7/site-packages (from requests>=2.20->yfinance) (2.8)\n",
      "Requirement already satisfied: certifi>=2017.4.17 in /opt/conda/lib/python3.7/site-packages (from requests>=2.20->yfinance) (2019.11.28)\n",
      "Requirement already satisfied: chardet<3.1.0,>=3.0.2 in /opt/conda/lib/python3.7/site-packages (from requests>=2.20->yfinance) (3.0.4)\n",
      "Requirement already satisfied: urllib3!=1.25.0,!=1.25.1,<1.26,>=1.21.1 in /opt/conda/lib/python3.7/site-packages (from requests>=2.20->yfinance) (1.25.7)\n",
      "Requirement already satisfied: pytz>=2017.2 in /opt/conda/lib/python3.7/site-packages (from pandas>=0.24->yfinance) (2019.3)\n",
      "Requirement already satisfied: python-dateutil>=2.6.1 in /opt/conda/lib/python3.7/site-packages (from pandas>=0.24->yfinance) (2.8.1)\n",
      "Requirement already satisfied: six>=1.5 in /opt/conda/lib/python3.7/site-packages (from python-dateutil>=2.6.1->pandas>=0.24->yfinance) (1.14.0)\n"
     ]
    }
   ],
   "source": [
    "# install from pypi\n",
    "!pip install yfinance"
   ]
  },
  {
   "cell_type": "code",
   "execution_count": 2,
   "metadata": {
    "hideCode": false,
    "slideshow": {
     "slide_type": "subslide"
    }
   },
   "outputs": [],
   "source": [
    "# install from github\n",
    "# ! pip install git+https://github.com/ranaroussi/yfinance"
   ]
  },
  {
   "cell_type": "code",
   "execution_count": 3,
   "metadata": {
    "slideshow": {
     "slide_type": "skip"
    }
   },
   "outputs": [],
   "source": [
    "import pandas as pd\n",
    "import numpy as np\n",
    "import pickle\n",
    "import cvxpy"
   ]
  },
  {
   "cell_type": "markdown",
   "metadata": {
    "slideshow": {
     "slide_type": "slide"
    }
   },
   "source": [
    "## Introduction to Portfolio Theory\n",
    "\n",
    "### Stock Prices vs. Returns \n",
    "\n",
    "* Model stock returns as random variables\n",
    "* Returns depend on change in stock prices:  \n",
    "    $$ R_t = \\frac{P_t - P_{t-1}}{P_{t-1}} = \\frac{P_t}{P_{t-1}} - 1 $$"
   ]
  },
  {
   "cell_type": "markdown",
   "metadata": {
    "slideshow": {
     "slide_type": "fragment"
    }
   },
   "source": [
    "* Linear approximation of $\\log(1+x)\\approx x$ when $x$ is small. \n",
    "* Since daily stock returns are small,\n",
    "$$ R_t \\approx \\log(1 + R_t) = \\log\\left(\\frac{P_t}{P_{t-1}}\\right) = \\log(P_t) - \\log(P_{t-1})$$"
   ]
  },
  {
   "cell_type": "markdown",
   "metadata": {
    "slideshow": {
     "slide_type": "fragment"
    }
   },
   "source": [
    "* Compute the log-returns then difference of log prices (converting data)"
   ]
  },
  {
   "cell_type": "markdown",
   "metadata": {
    "slideshow": {
     "slide_type": "subslide"
    }
   },
   "source": [
    "### Modeling Stock Returns\n",
    "\n",
    "* In classical portfolio theory, stock returns are normally distributed\n",
    "* Daily returns of two stocks: $R_A$ and $R_B$ of two stocks $A$ and $B$\n",
    "* Jointly normally distributed: bivariate normal distribution: \n",
    "$$\\begin{aligned}\n",
    "\\begin{pmatrix}\n",
    "R_A\\\\ R_B\n",
    "\\end{pmatrix}\n",
    "\\sim\n",
    "N\\left(\n",
    "\\begin{pmatrix}\n",
    "\\mu_A\\\\ \\mu_B\n",
    "\\end{pmatrix},\n",
    "\\begin{pmatrix}\n",
    "\\sigma_A^2 & \\sigma_{AB}\\\\\n",
    "\\sigma_{AB} & \\sigma_B^2\n",
    "\\end{pmatrix}\n",
    "\\right)\n",
    "\\end{aligned}$$"
   ]
  },
  {
   "cell_type": "markdown",
   "metadata": {
    "slideshow": {
     "slide_type": "fragment"
    }
   },
   "source": [
    "* Marginal distributions: \n",
    "$$R_A \\sim N(\\mu_A,\\sigma_A^2) \\text{, and } R_B \\sim N(\\mu_B,\\sigma_B^2),$$\n",
    "* Covariance and correlation are\n",
    "$$\\sigma_\\text{AB} = \\text{Cov}(R_A,R_B) \\text{, and } \\rho_\\text{AB} = \\frac{\\sigma_\\text{AB}}{\\sigma_A\\sigma_B}$$"
   ]
  },
  {
   "cell_type": "markdown",
   "metadata": {
    "slideshow": {
     "slide_type": "subslide"
    }
   },
   "source": [
    "### Modeling Portfolio Returns\n",
    "\n",
    "* Two-stock portfolio: Return for the portfolio $R_p$ is \n",
    "$$R_p = R_A x_A + R_B x_B,$$\n",
    "* Allocations: $x_A$ and $x_B$ are proportions of stocks $A$ and $B$ such that  \n",
    "$$x_A + x_B = 1$$"
   ]
  },
  {
   "cell_type": "markdown",
   "metadata": {
    "slideshow": {
     "slide_type": "fragment"
    }
   },
   "source": [
    "* $R_p$ is also normally distributed with following mean and variance:\n",
    "$$\\begin{aligned}\n",
    "\\mu_p &= \\text{E}(R_p) \\\\\n",
    "    &= \\text{E}(R_B)\\, x_A + \\text{E}(R_B)\\, x_B\\\\\n",
    "    &= \\mu_A x_A + \\mu_B x_B\\\\\n",
    "\\sigma_p^2 &= \\text{Var}(R_p) \\\\\n",
    "    &= \\text{E}\\left((R_p - \\text{E}(R_p))^2\\right) \\\\\n",
    "    &= \\sigma_A^2\\,x_A^2 + \\sigma_B^2\\,x_B^2 + 2\\sigma_{AB}x_A x_B.\n",
    "\\end{aligned}\n",
    "$$\n",
    "Note that $\\sigma_{AB} = \\rho_{AB}\\sigma_A\\sigma_B$.\n",
    "* Distribution of the portfolio return is\n",
    "$$ R_p \\sim N(\\mu_p, \\sigma_p^2) $$"
   ]
  },
  {
   "cell_type": "markdown",
   "metadata": {
    "slideshow": {
     "slide_type": "subslide"
    }
   },
   "source": [
    "### Hedging Portfolio Risk\n",
    "\n",
    "* Mean return ($\\mu_p$): weighted average of returns\n",
    "* Risk ($\\sigma_p^2$):  Risk of $p$ can be decreased if $\\rho<0$\n",
    "* Hedge risk by having negatively correlated stocks"
   ]
  },
  {
   "cell_type": "markdown",
   "metadata": {
    "slideshow": {
     "slide_type": "subslide"
    }
   },
   "source": [
    "## Toy Example: Simulating $R_A$ and $R_B$\n",
    "\n",
    "* $R_A\\sim N(0.15, 0.1^2)$ and $R_B\\sim N(0.1, 0.05^2)$\n",
    "* Correlation: $\\rho_{AB} = -0.15$\n",
    "* Portfolio weight distributed evenly: i.e. $x_A = x_B = 0.5$"
   ]
  },
  {
   "cell_type": "code",
   "execution_count": 4,
   "metadata": {
    "slideshow": {
     "slide_type": "-"
    }
   },
   "outputs": [],
   "source": [
    "A = {'mu': 0.15, 'sig': 0.1,  'proportion': 0.5}\n",
    "B = {'mu': 0.1,  'sig': 0.05, 'proportion': 0.5}"
   ]
  },
  {
   "cell_type": "markdown",
   "metadata": {
    "slideshow": {
     "slide_type": "subslide"
    }
   },
   "source": [
    "### Generate random returns"
   ]
  },
  {
   "cell_type": "code",
   "execution_count": 5,
   "metadata": {
    "slideshow": {
     "slide_type": "-"
    }
   },
   "outputs": [],
   "source": [
    "def simulate_returns(A, B, correlation, size=100):\n",
    "    \n",
    "    from numpy import sqrt\n",
    "    from numpy.random import multivariate_normal\n",
    "    from pandas import DataFrame\n",
    "    \n",
    "    # what could go wrong with rounding errors?\n",
    "    assert(A['proportion'] + B['proportion'] == 1) \n",
    "\n",
    "    # construct bivariate normal random variable\n",
    "    mu = [A['mu'], B['mu']]\n",
    "    sigma = [[A['sig']**2, correlation*A['sig']*B['sig']],\n",
    "             [correlation*A['sig']*B['sig'], B['sig']**2]]\n",
    "    \n",
    "    # get random observations\n",
    "    R = multivariate_normal(mu, sigma, size)\n",
    "    Rp = R[:,0]*A['proportion'] + R[:,1]*B['proportion']\n",
    "    \n",
    "    # simulated returns\n",
    "    R = np.hstack((R, Rp.reshape((-1,1))))\n",
    "    \n",
    "    # theoretical properties of portfolio returns\n",
    "    p = {\n",
    "        'mu': A['mu']*A['proportion'] + B['mu']*B['proportion'],\n",
    "        'sig': sqrt(\n",
    "            A['sig']**2*A['proportion']**2 + B['sig']**2*B['proportion']**2 \n",
    "            + 2*correlation*A['sig']*B['sig']*A['proportion']*B['proportion'])\n",
    "        }\n",
    "    \n",
    "    return p, DataFrame(R, columns=['A', 'B', 'p'])"
   ]
  },
  {
   "cell_type": "markdown",
   "metadata": {
    "slideshow": {
     "slide_type": "subslide"
    }
   },
   "source": [
    "### Empirical Returns"
   ]
  },
  {
   "cell_type": "code",
   "execution_count": 6,
   "metadata": {
    "slideshow": {
     "slide_type": "-"
    }
   },
   "outputs": [
    {
     "name": "stdout",
     "output_type": "stream",
     "text": [
      "A: mean = 0.15, std = 0.1003\n",
      "B: mean = 0.10, std = 0.0502\n",
      "p: mean = 0.13, std = 0.0297\n",
      "cor(R_A, R_B) = -0.8987\n"
     ]
    }
   ],
   "source": [
    "A = {'mu': 0.15, 'sig': 0.1,  'proportion': 0.5}\n",
    "B = {'mu': 0.1,  'sig': 0.05, 'proportion': 0.5}\n",
    "\n",
    "p, R = simulate_returns(A, B, -0.9, 10000)\n",
    "\n",
    "print('A: mean = %1.2f, std = %1.4f' % (R.A.mean(), R.A.std()))\n",
    "print('B: mean = %1.2f, std = %1.4f' % (R.B.mean(), R.B.std()))\n",
    "print('p: mean = %1.2f, std = %1.4f' % (R.p.mean(), R.p.std()))\n",
    "\n",
    "print('cor(R_A, R_B) = %1.4f' % np.corrcoef(R.A, R.B)[1,0])"
   ]
  },
  {
   "cell_type": "markdown",
   "metadata": {},
   "source": [
    "### Empirical Portfolio Returns"
   ]
  },
  {
   "cell_type": "code",
   "execution_count": 7,
   "metadata": {
    "slideshow": {
     "slide_type": "subslide"
    }
   },
   "outputs": [
    {
     "data": {
      "image/png": "[encoded data removed]",
      "text/plain": [
       "<Figure size 720x720 with 4 Axes>"
      ]
     },
     "metadata": {
      "needs_background": "light"
     },
     "output_type": "display_data"
    }
   ],
   "source": [
    "p, R = simulate_returns(A, B, -0.5, 1000)\n",
    "pd.plotting.scatter_matrix(R.loc[:,['A','B']], figsize=(10,10));"
   ]
  },
  {
   "cell_type": "markdown",
   "metadata": {
    "slideshow": {
     "slide_type": "subslide"
    }
   },
   "source": [
    "### Theoretical returns\n",
    "\n",
    "Calculate the volatility ($\\sigma^2$) and expected returns ($\\mu$):"
   ]
  },
  {
   "cell_type": "code",
   "execution_count": 8,
   "metadata": {
    "slideshow": {
     "slide_type": "-"
    }
   },
   "outputs": [
    {
     "name": "stdout",
     "output_type": "stream",
     "text": [
      "A: mean = 0.15, std = 0.1000\n",
      "B: mean = 0.10, std = 0.0500\n",
      "p: mean = 0.12, std = 0.0433\n"
     ]
    }
   ],
   "source": [
    "print('A: mean = %1.2f, std = %1.4f' % (A['mu'], A['sig']))\n",
    "print('B: mean = %1.2f, std = %1.4f' % (B['mu'], B['sig']))\n",
    "print('p: mean = %1.2f, std = %1.4f' % (p['mu'], p['sig']))"
   ]
  },
  {
   "cell_type": "markdown",
   "metadata": {
    "slideshow": {
     "slide_type": "subslide"
    }
   },
   "source": [
    "### Independent Portfolio Theoretical returns\n",
    "\n",
    "If stocks A and B were independent"
   ]
  },
  {
   "cell_type": "code",
   "execution_count": 9,
   "metadata": {
    "slideshow": {
     "slide_type": "-"
    }
   },
   "outputs": [
    {
     "name": "stdout",
     "output_type": "stream",
     "text": [
      "A: mean = 0.15, std = 0.1000\n",
      "B: mean = 0.10, std = 0.0500\n",
      "\n",
      "p: mean = 0.12, std = 0.0296 (if A and B are correlated )\n",
      "p: mean = 0.12, std = 0.0559 (if A and B are independent)\n"
     ]
    }
   ],
   "source": [
    "p, R = simulate_returns(A, B, -0.9, 10000)\n",
    "print('A: mean = %1.2f, std = %1.4f' % (A['mu'], A['sig']))\n",
    "print('B: mean = %1.2f, std = %1.4f' % (B['mu'], B['sig']))\n",
    "print('')\n",
    "print('p: mean = %1.2f, std = %1.4f (if A and B are correlated )' % (p['mu'], p['sig']))\n",
    "print('p: mean = %1.2f, std = %1.4f (if A and B are independent)' % (p['mu'], np.sqrt(0.5**2*A['sig']**2 + 0.5**2*B['sig']**2)))"
   ]
  },
  {
   "cell_type": "markdown",
   "metadata": {
    "slideshow": {
     "slide_type": "subslide"
    }
   },
   "source": [
    "#### Empirical (Data) Properties "
   ]
  },
  {
   "cell_type": "code",
   "execution_count": 10,
   "metadata": {
    "slideshow": {
     "slide_type": "-"
    }
   },
   "outputs": [
    {
     "name": "stdout",
     "output_type": "stream",
     "text": [
      "A: mean = 0.15, std = 0.0999\n",
      "B: mean = 0.10, std = 0.0504\n",
      "p: mean = 0.13, std = 0.0294\n",
      "corr(A, B) = -0.9018\n"
     ]
    }
   ],
   "source": [
    "print('A: mean = %1.2f, std = %1.4f' % (R.A.mean(), R.A.std()))\n",
    "print('B: mean = %1.2f, std = %1.4f' % (R.B.mean(), R.B.std()))\n",
    "print('p: mean = %1.2f, std = %1.4f' % (R.p.mean(), R.p.std()))\n",
    "print('corr(A, B) = %1.4f' % np.corrcoef(R.A, R.B)[0,1])"
   ]
  },
  {
   "cell_type": "markdown",
   "metadata": {
    "slideshow": {
     "slide_type": "subslide"
    }
   },
   "source": [
    "### Efficient frontier of portfolios\n",
    "\n",
    "* Consider all values of $x_A$ and $x_B$\n",
    "\n",
    "* For each combination, compute $\\mu_p$ and $\\sigma_p^2$."
   ]
  },
  {
   "cell_type": "code",
   "execution_count": 11,
   "metadata": {
    "slideshow": {
     "slide_type": "skip"
    }
   },
   "outputs": [],
   "source": [
    "xa = np.linspace(-1, 2, num=101)\n",
    "pf = pd.DataFrame({'xa':xa, 'xb':1-xa})\n",
    "\n",
    "# pf, R = simulate_returns(A, B, -0.5, 10000)\n",
    "\n",
    "corr = -0.5\n",
    "pf['mu'] = A['mu'] * pf.xa + B['mu'] * pf.xb\n",
    "pf['sig2'] = ((A['sig']**2 * pf.xa**2) + (B['sig']**2 * pf.xb**2) + (2 * corr * A['sig'] * B['sig'] * pf.xa * pf.xb))"
   ]
  },
  {
   "cell_type": "code",
   "execution_count": 12,
   "metadata": {
    "hideCode": true,
    "slideshow": {
     "slide_type": "-"
    }
   },
   "outputs": [
    {
     "data": {
      "image/png": "[encoded data removed]",
      "text/plain": [
       "<Figure size 936x576 with 1 Axes>"
      ]
     },
     "metadata": {
      "needs_background": "light"
     },
     "output_type": "display_data"
    }
   ],
   "source": [
    "%matplotlib inline\n",
    "import matplotlib.pyplot as plt\n",
    "fig, ax = plt.subplots(figsize=(13, 8))\n",
    "plt.plot(pf.sig2, pf.mu, color='b')\n",
    "plt.plot(pf.sig2[pf.xa<0], pf.mu[pf.xa<0], color='r') # sell stock A to fund purchase of stock B\n",
    "plt.plot(pf.sig2[pf.xb<0], pf.mu[pf.xb<0], color='g') # sell stock B to fund purchase of stock A\n",
    "plt.scatter([A['sig']**2, B['sig']**2], [A['mu'], B['mu']])\n",
    "ax.set_xlabel('Portfolio volatility')\n",
    "ax.set_ylabel('Portfolio return')\n",
    "plt.show(p)"
   ]
  },
  {
   "cell_type": "markdown",
   "metadata": {
    "slideshow": {
     "slide_type": "subslide"
    }
   },
   "source": [
    "* Line is called efficient frontier\n",
    "* Represents the lower boundary of achievable volatility\n",
    "* Return and volatility of $A$ and $B$"
   ]
  },
  {
   "cell_type": "markdown",
   "metadata": {},
   "source": [
    "#### Long and short positions\n",
    "\n",
    "* Note that `xa` can be negative\n",
    "* Positive $x_A$ : _long position_ for stock A and indicates a purchase\n",
    "* Negative $x_A$ : _short position_ stock A and indicates a sale\n",
    "* _You are selling stocks that you do not own with the expectation that the price of the stock will fall_\n",
    "* Shorting allows for higher long positions on other stocks."
   ]
  },
  {
   "cell_type": "markdown",
   "metadata": {
    "slideshow": {
     "slide_type": "subslide"
    }
   },
   "source": [
    "#### Minimum variance portfolio (MVP)\n",
    "\n",
    "What is the point at the tip of the parabola? This point indicates what is called the minimum variance portfolio that, regardless of the return, has the minimum volatility. Minimum variance portfolio (MVP) has the minimum volatility of any portfolio achievable.\n",
    "\n",
    "It can be shown that minimum variance portfolio would have the following allocation $x_A$:\n",
    "\n",
    "$$x_A = \\frac{\\sigma_B^2-\\sigma_\\text{AB}^2}{\\sigma_A^2 + \\sigma_B^2 – \\sigma_\\text{AB}^2}$$"
   ]
  },
  {
   "cell_type": "markdown",
   "metadata": {
    "slideshow": {
     "slide_type": "slide"
    }
   },
   "source": [
    "The mathematical problem to solve for the minimum variance portfolio can be stated as follows:\n",
    "$$ \\min_{x_A,x_B}\\ \\ \\sigma_p^2 = \\sigma_A^2 x_A^2 + \\sigma_B^2 x_B^2 + \\sigma_{AB} x_A x_B\\\\\n",
    "\\text{such that }x_A + x_B = 1$$\n",
    "Here, $\\sigma_p^2 = \\sigma_A^2 x_A^2 + \\sigma_B^2 x_B^2 + \\sigma_{AB} x_A x_B$ is called the objective function, and $x_A + x_B = 1$ is called the constraint.\n",
    "\n",
    "The constraint has to be satisfied exactly, and objective wants to be minimized with the freedom of changing the values of $x_A$ and $x_B$."
   ]
  },
  {
   "cell_type": "markdown",
   "metadata": {
    "slideshow": {
     "slide_type": "subslide"
    }
   },
   "source": [
    "### Using `cvxpy` for numerical optimization\n",
    "\n",
    "Calculating analytical solutions is not always possible. There are ways to compute solutions numerically. Although out of scope of our class, a large field in applied math called optimization. The tools from this area allow us to compute solutions for problems such as the one we have here. (For more information, visit the "
   ]
  },
  {
   "cell_type": "markdown",
   "metadata": {
    "slideshow": {
     "slide_type": "subslide"
    }
   },
   "source": [
    "### Higher dimensional portfolios\n",
    "\n",
    "In higher dimensions, the portfolio equantion is written in terms of vectors and matrices. For example, suppose we construct a portfolio consisting of $s$-assets. The portfolio allocation can be written as,\n",
    "$$\\mathbf{1}^\\intercal x = 1,$$\n",
    "where $x$ is an $s$-vector whose sum adds up to 1: i.e., $x_1 + x_2 + \\cdots + x_s = 1$.\n",
    "\n",
    "The portfolio volatility in matrix-vector form looks like:\n",
    "$$\n",
    "\\begin{pmatrix}x_1 & x_2 & \\cdots & x_s\\end{pmatrix}\n",
    "\\begin{pmatrix}\n",
    "\\sigma_1^2 & \\sigma_{12} & \\cdots & \\sigma_{1s}\\\\\n",
    "\\sigma_{21} & \\sigma_2^2 & \\cdots & \\sigma_{2s}\\\\\n",
    "\\vdots & \\vdots & & \\vdots \\\\\n",
    "\\sigma_{s1} & \\sigma_{s2} & \\cdots & \\sigma_s^2\\\\\n",
    "\\end{pmatrix}\n",
    "\\begin{pmatrix}x_1 \\\\ x_2 \\\\ \\vdots \\\\ x_s\\end{pmatrix}.\n",
    "$$\n",
    "To verify the two stock example result, we check $\\sigma_p^2$:\n",
    "$$\n",
    "\\sigma_p^2 = \\begin{pmatrix}x_1 & x_2\\end{pmatrix}\n",
    "\\begin{pmatrix}\n",
    "\\sigma_1^2 & \\sigma_{12}\\\\\n",
    "\\sigma_{21} & \\sigma_2^2\\\\\n",
    "\\end{pmatrix}\n",
    "\\begin{pmatrix}x_1 \\\\ x_2\\end{pmatrix} = \n",
    "\\begin{pmatrix}x_1 & x_2\\end{pmatrix}\n",
    "\\begin{pmatrix}\n",
    "\\sigma_1^2 x_1 + \\sigma_{12} x_2\\\\\n",
    "\\sigma_{21} x_1 + \\sigma_2^2 x_2\\\\\n",
    "\\end{pmatrix} = \n",
    "\\sigma_1^2 x_1^2 + \\sigma_2^2 x_2^2 + \\sigma_{12} x_1 x_2,\n",
    "$$\n",
    "which matches the result from before.\n",
    "\n",
    "With this notation, we can re-write the problem.\n",
    "\n",
    "$$ \\min_{x\\in\\mathbb{R}^s}\\ \\ x^\\intercal \\Sigma x\\\\\n",
    "\\text{subject to }\\mathbf{1}^\\intercal x = 1,$$\n",
    "\n",
    "It can be shown that the optimal solution to this problem is,\n",
    "$$ x^* = (\\mathbf{1}^\\intercal\\Sigma^{-1}\\mathbf{1})^{-1}\\Sigma^{-1}\\mathbf{1} $$."
   ]
  },
  {
   "cell_type": "markdown",
   "metadata": {
    "slideshow": {
     "slide_type": "subslide"
    }
   },
   "source": [
    "There are many variations of this problem. In fact the minimum variance portfolio is special case of a more general problem\n",
    "\n",
    "$$ \\min_{x\\in\\mathbb{R}^s}\\ \\ x^\\intercal \\Sigma x\\\\\n",
    "\\text{subject to }\\mu^\\intercal x\\geq \\mu^* \\text{, and } \\mathbf{1}^\\intercal x = 1,$$\n",
    "\n",
    "Note that in all of the above problems, the measure of $\\mu^*$, expected returns, and covariance matrix have to be provided. In practice, these quantities are estimated from data."
   ]
  },
  {
   "cell_type": "markdown",
   "metadata": {
    "slideshow": {
     "slide_type": "slide"
    }
   },
   "source": [
    "## Portfolio Allocation: Dow Jones component stocks\n",
    "\n",
    "Stock data can have irregularities such as missing data due stocks being added and removed from the index. Some examples are\n",
    "* Alcoa Corp. (AA) was removed in 2013\n",
    "* Apple (AAPL) was added in 2015\n",
    "* E.I. du Pont de Nemours & Company (DD) was removed and replaced with Dow du Pont (DWDP) as a continuation in 2017\n",
    "\n",
    "For simplicity the stocks we will use are based on the most recent DJIA constituent companies "
   ]
  },
  {
   "cell_type": "code",
   "execution_count": 13,
   "metadata": {
    "slideshow": {
     "slide_type": "subslide"
    }
   },
   "outputs": [
    {
     "name": "stdout",
     "output_type": "stream",
     "text": [
      "[*********************100%***********************]  29 of 29 completed\n"
     ]
    },
    {
     "data": {
      "text/html": [
       "<div>\n",
       "<style scoped>\n",
       "    .dataframe tbody tr th:only-of-type {\n",
       "        vertical-align: middle;\n",
       "    }\n",
       "\n",
       "    .dataframe tbody tr th {\n",
       "        vertical-align: top;\n",
       "    }\n",
       "\n",
       "    .dataframe thead tr th {\n",
       "        text-align: left;\n",
       "    }\n",
       "\n",
       "    .dataframe thead tr:last-of-type th {\n",
       "        text-align: right;\n",
       "    }\n",
       "</style>\n",
       "<table border=\"1\" class=\"dataframe\">\n",
       "  <thead>\n",
       "    <tr>\n",
       "      <th></th>\n",
       "      <th colspan=\"10\" halign=\"left\">Adj Close</th>\n",
       "      <th>...</th>\n",
       "      <th colspan=\"10\" halign=\"left\">Volume</th>\n",
       "    </tr>\n",
       "    <tr>\n",
       "      <th></th>\n",
       "      <th>AAPL</th>\n",
       "      <th>AXP</th>\n",
       "      <th>BA</th>\n",
       "      <th>BAC</th>\n",
       "      <th>CAT</th>\n",
       "      <th>CSCO</th>\n",
       "      <th>CVX</th>\n",
       "      <th>DD</th>\n",
       "      <th>DIS</th>\n",
       "      <th>GE</th>\n",
       "      <th>...</th>\n",
       "      <th>MRK</th>\n",
       "      <th>MSFT</th>\n",
       "      <th>PFE</th>\n",
       "      <th>PG</th>\n",
       "      <th>T</th>\n",
       "      <th>TRV</th>\n",
       "      <th>UTX</th>\n",
       "      <th>VZ</th>\n",
       "      <th>WMT</th>\n",
       "      <th>XOM</th>\n",
       "    </tr>\n",
       "    <tr>\n",
       "      <th>Date</th>\n",
       "      <th></th>\n",
       "      <th></th>\n",
       "      <th></th>\n",
       "      <th></th>\n",
       "      <th></th>\n",
       "      <th></th>\n",
       "      <th></th>\n",
       "      <th></th>\n",
       "      <th></th>\n",
       "      <th></th>\n",
       "      <th></th>\n",
       "      <th></th>\n",
       "      <th></th>\n",
       "      <th></th>\n",
       "      <th></th>\n",
       "      <th></th>\n",
       "      <th></th>\n",
       "      <th></th>\n",
       "      <th></th>\n",
       "      <th></th>\n",
       "      <th></th>\n",
       "    </tr>\n",
       "  </thead>\n",
       "  <tbody>\n",
       "    <tr>\n",
       "      <th>1999-12-31</th>\n",
       "      <td>NaN</td>\n",
       "      <td>NaN</td>\n",
       "      <td>NaN</td>\n",
       "      <td>NaN</td>\n",
       "      <td>NaN</td>\n",
       "      <td>NaN</td>\n",
       "      <td>NaN</td>\n",
       "      <td>NaN</td>\n",
       "      <td>NaN</td>\n",
       "      <td>NaN</td>\n",
       "      <td>...</td>\n",
       "      <td>NaN</td>\n",
       "      <td>NaN</td>\n",
       "      <td>NaN</td>\n",
       "      <td>NaN</td>\n",
       "      <td>NaN</td>\n",
       "      <td>NaN</td>\n",
       "      <td>NaN</td>\n",
       "      <td>NaN</td>\n",
       "      <td>NaN</td>\n",
       "      <td>NaN</td>\n",
       "    </tr>\n",
       "    <tr>\n",
       "      <th>2000-01-03</th>\n",
       "      <td>3.460857</td>\n",
       "      <td>34.683704</td>\n",
       "      <td>25.741438</td>\n",
       "      <td>14.306108</td>\n",
       "      <td>11.845388</td>\n",
       "      <td>41.433525</td>\n",
       "      <td>17.419516</td>\n",
       "      <td>31.433344</td>\n",
       "      <td>23.115221</td>\n",
       "      <td>26.297499</td>\n",
       "      <td>...</td>\n",
       "      <td>5978800.0</td>\n",
       "      <td>53228400.0</td>\n",
       "      <td>12213800.0</td>\n",
       "      <td>4275000.0</td>\n",
       "      <td>5791900.0</td>\n",
       "      <td>336400.0</td>\n",
       "      <td>2140400.0</td>\n",
       "      <td>4663700.0</td>\n",
       "      <td>8369900.0</td>\n",
       "      <td>13458200.0</td>\n",
       "    </tr>\n",
       "    <tr>\n",
       "      <th>2000-01-04</th>\n",
       "      <td>3.169071</td>\n",
       "      <td>33.374104</td>\n",
       "      <td>25.701408</td>\n",
       "      <td>13.456975</td>\n",
       "      <td>11.693136</td>\n",
       "      <td>39.109055</td>\n",
       "      <td>17.419516</td>\n",
       "      <td>30.574173</td>\n",
       "      <td>24.469255</td>\n",
       "      <td>25.245590</td>\n",
       "      <td>...</td>\n",
       "      <td>7533100.0</td>\n",
       "      <td>54119000.0</td>\n",
       "      <td>13481000.0</td>\n",
       "      <td>4270800.0</td>\n",
       "      <td>7173600.0</td>\n",
       "      <td>494400.0</td>\n",
       "      <td>3367000.0</td>\n",
       "      <td>5005800.0</td>\n",
       "      <td>6745100.0</td>\n",
       "      <td>14510800.0</td>\n",
       "    </tr>\n",
       "    <tr>\n",
       "      <th>2000-01-05</th>\n",
       "      <td>3.215448</td>\n",
       "      <td>32.526413</td>\n",
       "      <td>27.302753</td>\n",
       "      <td>13.604647</td>\n",
       "      <td>11.967190</td>\n",
       "      <td>38.989223</td>\n",
       "      <td>17.731968</td>\n",
       "      <td>31.566656</td>\n",
       "      <td>25.484774</td>\n",
       "      <td>25.201761</td>\n",
       "      <td>...</td>\n",
       "      <td>7598300.0</td>\n",
       "      <td>64059600.0</td>\n",
       "      <td>12316500.0</td>\n",
       "      <td>5098400.0</td>\n",
       "      <td>9090000.0</td>\n",
       "      <td>736000.0</td>\n",
       "      <td>3904600.0</td>\n",
       "      <td>6368500.0</td>\n",
       "      <td>7018700.0</td>\n",
       "      <td>17485000.0</td>\n",
       "    </tr>\n",
       "    <tr>\n",
       "      <th>2000-01-06</th>\n",
       "      <td>2.937188</td>\n",
       "      <td>33.189102</td>\n",
       "      <td>27.582977</td>\n",
       "      <td>14.767599</td>\n",
       "      <td>12.576205</td>\n",
       "      <td>38.342190</td>\n",
       "      <td>18.487068</td>\n",
       "      <td>32.455444</td>\n",
       "      <td>24.469255</td>\n",
       "      <td>25.538691</td>\n",
       "      <td>...</td>\n",
       "      <td>4760500.0</td>\n",
       "      <td>54976600.0</td>\n",
       "      <td>10545800.0</td>\n",
       "      <td>6524200.0</td>\n",
       "      <td>7153600.0</td>\n",
       "      <td>660400.0</td>\n",
       "      <td>6148600.0</td>\n",
       "      <td>4705600.0</td>\n",
       "      <td>6544500.0</td>\n",
       "      <td>19461600.0</td>\n",
       "    </tr>\n",
       "  </tbody>\n",
       "</table>\n",
       "<p>5 rows × 174 columns</p>\n",
       "</div>"
      ],
      "text/plain": [
       "           Adj Close                                                         \\\n",
       "                AAPL        AXP         BA        BAC        CAT       CSCO   \n",
       "Date                                                                          \n",
       "1999-12-31       NaN        NaN        NaN        NaN        NaN        NaN   \n",
       "2000-01-03  3.460857  34.683704  25.741438  14.306108  11.845388  41.433525   \n",
       "2000-01-04  3.169071  33.374104  25.701408  13.456975  11.693136  39.109055   \n",
       "2000-01-05  3.215448  32.526413  27.302753  13.604647  11.967190  38.989223   \n",
       "2000-01-06  2.937188  33.189102  27.582977  14.767599  12.576205  38.342190   \n",
       "\n",
       "                                                        ...     Volume  \\\n",
       "                  CVX         DD        DIS         GE  ...        MRK   \n",
       "Date                                                    ...              \n",
       "1999-12-31        NaN        NaN        NaN        NaN  ...        NaN   \n",
       "2000-01-03  17.419516  31.433344  23.115221  26.297499  ...  5978800.0   \n",
       "2000-01-04  17.419516  30.574173  24.469255  25.245590  ...  7533100.0   \n",
       "2000-01-05  17.731968  31.566656  25.484774  25.201761  ...  7598300.0   \n",
       "2000-01-06  18.487068  32.455444  24.469255  25.538691  ...  4760500.0   \n",
       "\n",
       "                                                                               \\\n",
       "                  MSFT         PFE         PG          T       TRV        UTX   \n",
       "Date                                                                            \n",
       "1999-12-31         NaN         NaN        NaN        NaN       NaN        NaN   \n",
       "2000-01-03  53228400.0  12213800.0  4275000.0  5791900.0  336400.0  2140400.0   \n",
       "2000-01-04  54119000.0  13481000.0  4270800.0  7173600.0  494400.0  3367000.0   \n",
       "2000-01-05  64059600.0  12316500.0  5098400.0  9090000.0  736000.0  3904600.0   \n",
       "2000-01-06  54976600.0  10545800.0  6524200.0  7153600.0  660400.0  6148600.0   \n",
       "\n",
       "                                              \n",
       "                   VZ        WMT         XOM  \n",
       "Date                                          \n",
       "1999-12-31        NaN        NaN         NaN  \n",
       "2000-01-03  4663700.0  8369900.0  13458200.0  \n",
       "2000-01-04  5005800.0  6745100.0  14510800.0  \n",
       "2000-01-05  6368500.0  7018700.0  17485000.0  \n",
       "2000-01-06  4705600.0  6544500.0  19461600.0  \n",
       "\n",
       "[5 rows x 174 columns]"
      ]
     },
     "execution_count": 13,
     "metadata": {},
     "output_type": "execute_result"
    }
   ],
   "source": [
    "dowjones_components = [\n",
    "    'AAPL','AXP','BA','BAC','CAT',\n",
    "    'CSCO','CVX','DD','DIS','GE',\n",
    "    'HD','HPQ','IBM','INTC','JNJ',\n",
    "    'JPM','KO','MCD','MMM',\n",
    "    'MRK','MSFT','PFE','PG','T',\n",
    "    'TRV','UTX','VZ','WMT','XOM'\n",
    "]\n",
    "\n",
    "symbols = pd.read_csv('data/tickers.csv').set_index('code')\n",
    "\n",
    "import yfinance as yf\n",
    "rawdata = yf.download(dowjones_components, start=\"2000-01-01\", end=\"2020-05-10\")\n",
    "rawdata.head()"
   ]
  },
  {
   "cell_type": "code",
   "execution_count": 14,
   "metadata": {
    "slideshow": {
     "slide_type": "subslide"
    }
   },
   "outputs": [
    {
     "data": {
      "text/html": [
       "<div>\n",
       "<style scoped>\n",
       "    .dataframe tbody tr th:only-of-type {\n",
       "        vertical-align: middle;\n",
       "    }\n",
       "\n",
       "    .dataframe tbody tr th {\n",
       "        vertical-align: top;\n",
       "    }\n",
       "\n",
       "    .dataframe thead th {\n",
       "        text-align: right;\n",
       "    }\n",
       "</style>\n",
       "<table border=\"1\" class=\"dataframe\">\n",
       "  <thead>\n",
       "    <tr style=\"text-align: right;\">\n",
       "      <th></th>\n",
       "      <th>name</th>\n",
       "    </tr>\n",
       "    <tr>\n",
       "      <th>code</th>\n",
       "      <th></th>\n",
       "    </tr>\n",
       "  </thead>\n",
       "  <tbody>\n",
       "    <tr>\n",
       "      <th>AAPL</th>\n",
       "      <td>Apple Inc (AAPL)</td>\n",
       "    </tr>\n",
       "    <tr>\n",
       "      <th>AXP</th>\n",
       "      <td>American Express Co. (AXP)</td>\n",
       "    </tr>\n",
       "    <tr>\n",
       "      <th>BA</th>\n",
       "      <td>The Boeing Co. (BA)</td>\n",
       "    </tr>\n",
       "    <tr>\n",
       "      <th>BAC</th>\n",
       "      <td>Bank of America Corp. (BAC)</td>\n",
       "    </tr>\n",
       "    <tr>\n",
       "      <th>CAT</th>\n",
       "      <td>Caterpillar Inc. (CAT)</td>\n",
       "    </tr>\n",
       "    <tr>\n",
       "      <th>CSCO</th>\n",
       "      <td>Cisco Systems Inc. (CSCO)</td>\n",
       "    </tr>\n",
       "    <tr>\n",
       "      <th>CVX</th>\n",
       "      <td>Chevron Corporation (CVX)</td>\n",
       "    </tr>\n",
       "    <tr>\n",
       "      <th>DD</th>\n",
       "      <td>E.I. du Pont de Nemours and Co. (DD)</td>\n",
       "    </tr>\n",
       "    <tr>\n",
       "      <th>DIS</th>\n",
       "      <td>Disney (Walt) Co. (The) (DIS)</td>\n",
       "    </tr>\n",
       "    <tr>\n",
       "      <th>GE</th>\n",
       "      <td>General Electric Co (GE)</td>\n",
       "    </tr>\n",
       "    <tr>\n",
       "      <th>HD</th>\n",
       "      <td>Home Depot Inc (HD)</td>\n",
       "    </tr>\n",
       "    <tr>\n",
       "      <th>HPQ</th>\n",
       "      <td>Hewlett-Packard Co (HPQ)</td>\n",
       "    </tr>\n",
       "    <tr>\n",
       "      <th>IBM</th>\n",
       "      <td>International Business Machines Corp (IBM)</td>\n",
       "    </tr>\n",
       "    <tr>\n",
       "      <th>INTC</th>\n",
       "      <td>Intel Corp (INTC)</td>\n",
       "    </tr>\n",
       "    <tr>\n",
       "      <th>JNJ</th>\n",
       "      <td>Johnson &amp; Johnson (JNJ)</td>\n",
       "    </tr>\n",
       "    <tr>\n",
       "      <th>JPM</th>\n",
       "      <td>JP Morgan Chase (JPM)</td>\n",
       "    </tr>\n",
       "    <tr>\n",
       "      <th>KO</th>\n",
       "      <td>Coca-Cola Co (The) (KO)</td>\n",
       "    </tr>\n",
       "    <tr>\n",
       "      <th>MCD</th>\n",
       "      <td>McDonald's Corp (MCD)</td>\n",
       "    </tr>\n",
       "    <tr>\n",
       "      <th>MMM</th>\n",
       "      <td>3M Co (MMM)</td>\n",
       "    </tr>\n",
       "    <tr>\n",
       "      <th>MRK</th>\n",
       "      <td>Merck &amp; Co. Inc (MRK)</td>\n",
       "    </tr>\n",
       "    <tr>\n",
       "      <th>MSFT</th>\n",
       "      <td>Microsoft Corporation (MSFT)</td>\n",
       "    </tr>\n",
       "    <tr>\n",
       "      <th>PFE</th>\n",
       "      <td>Pfizer Inc (PFE)</td>\n",
       "    </tr>\n",
       "    <tr>\n",
       "      <th>PG</th>\n",
       "      <td>Procter &amp; Gamble Co. (PG)</td>\n",
       "    </tr>\n",
       "    <tr>\n",
       "      <th>T</th>\n",
       "      <td>AT&amp;T Inc (T)</td>\n",
       "    </tr>\n",
       "    <tr>\n",
       "      <th>TRV</th>\n",
       "      <td>Travelers Companies Inc (The) (TRV)</td>\n",
       "    </tr>\n",
       "    <tr>\n",
       "      <th>UTX</th>\n",
       "      <td>United Technologies Corp. (UTX)</td>\n",
       "    </tr>\n",
       "    <tr>\n",
       "      <th>VZ</th>\n",
       "      <td>Verizon Communications Inc (VZ)</td>\n",
       "    </tr>\n",
       "    <tr>\n",
       "      <th>WMT</th>\n",
       "      <td>Wal-Mart Stores (WMT)</td>\n",
       "    </tr>\n",
       "    <tr>\n",
       "      <th>XOM</th>\n",
       "      <td>Exxon Mobil Corp. (XOM)</td>\n",
       "    </tr>\n",
       "  </tbody>\n",
       "</table>\n",
       "</div>"
      ],
      "text/plain": [
       "                                            name\n",
       "code                                            \n",
       "AAPL                            Apple Inc (AAPL)\n",
       "AXP                   American Express Co. (AXP)\n",
       "BA                           The Boeing Co. (BA)\n",
       "BAC                  Bank of America Corp. (BAC)\n",
       "CAT                       Caterpillar Inc. (CAT)\n",
       "CSCO                   Cisco Systems Inc. (CSCO)\n",
       "CVX                    Chevron Corporation (CVX)\n",
       "DD          E.I. du Pont de Nemours and Co. (DD)\n",
       "DIS                Disney (Walt) Co. (The) (DIS)\n",
       "GE                      General Electric Co (GE)\n",
       "HD                           Home Depot Inc (HD)\n",
       "HPQ                     Hewlett-Packard Co (HPQ)\n",
       "IBM   International Business Machines Corp (IBM)\n",
       "INTC                           Intel Corp (INTC)\n",
       "JNJ                      Johnson & Johnson (JNJ)\n",
       "JPM                        JP Morgan Chase (JPM)\n",
       "KO                       Coca-Cola Co (The) (KO)\n",
       "MCD                        McDonald's Corp (MCD)\n",
       "MMM                                  3M Co (MMM)\n",
       "MRK                        Merck & Co. Inc (MRK)\n",
       "MSFT                Microsoft Corporation (MSFT)\n",
       "PFE                             Pfizer Inc (PFE)\n",
       "PG                     Procter & Gamble Co. (PG)\n",
       "T                                   AT&T Inc (T)\n",
       "TRV          Travelers Companies Inc (The) (TRV)\n",
       "UTX              United Technologies Corp. (UTX)\n",
       "VZ               Verizon Communications Inc (VZ)\n",
       "WMT                        Wal-Mart Stores (WMT)\n",
       "XOM                      Exxon Mobil Corp. (XOM)"
      ]
     },
     "execution_count": 14,
     "metadata": {},
     "output_type": "execute_result"
    }
   ],
   "source": [
    "symbols # full company names"
   ]
  },
  {
   "cell_type": "markdown",
   "metadata": {
    "slideshow": {
     "slide_type": "subslide"
    }
   },
   "source": [
    "## Data Format\n",
    "\n",
    "### Hierarchical Indexing\n",
    "\n",
    "* Column indexing is hierarchical\n",
    "* Adjusted close, close, high, low, open, and volume are given for each stock symbol"
   ]
  },
  {
   "cell_type": "code",
   "execution_count": 15,
   "metadata": {
    "slideshow": {
     "slide_type": "-"
    }
   },
   "outputs": [
    {
     "data": {
      "text/plain": [
       "FrozenList([['Adj Close', 'Close', 'High', 'Low', 'Open', 'Volume'], ['AAPL', 'AXP', 'BA', 'BAC', 'CAT', 'CSCO', 'CVX', 'DD', 'DIS', 'GE', 'HD', 'HPQ', 'IBM', 'INTC', 'JNJ', 'JPM', 'KO', 'MCD', 'MMM', 'MRK', 'MSFT', 'PFE', 'PG', 'T', 'TRV', 'UTX', 'VZ', 'WMT', 'XOM']])"
      ]
     },
     "execution_count": 15,
     "metadata": {},
     "output_type": "execute_result"
    }
   ],
   "source": [
    "rawdata.columns.levels"
   ]
  },
  {
   "cell_type": "markdown",
   "metadata": {
    "slideshow": {
     "slide_type": "subslide"
    }
   },
   "source": [
    "* Column levels can be named:"
   ]
  },
  {
   "cell_type": "code",
   "execution_count": 16,
   "metadata": {
    "slideshow": {
     "slide_type": "-"
    }
   },
   "outputs": [
    {
     "data": {
      "text/html": [
       "<div>\n",
       "<style scoped>\n",
       "    .dataframe tbody tr th:only-of-type {\n",
       "        vertical-align: middle;\n",
       "    }\n",
       "\n",
       "    .dataframe tbody tr th {\n",
       "        vertical-align: top;\n",
       "    }\n",
       "\n",
       "    .dataframe thead tr th {\n",
       "        text-align: left;\n",
       "    }\n",
       "\n",
       "    .dataframe thead tr:last-of-type th {\n",
       "        text-align: right;\n",
       "    }\n",
       "</style>\n",
       "<table border=\"1\" class=\"dataframe\">\n",
       "  <thead>\n",
       "    <tr>\n",
       "      <th>Value</th>\n",
       "      <th colspan=\"10\" halign=\"left\">Adj Close</th>\n",
       "      <th>...</th>\n",
       "      <th colspan=\"10\" halign=\"left\">Volume</th>\n",
       "    </tr>\n",
       "    <tr>\n",
       "      <th>Symbol</th>\n",
       "      <th>AAPL</th>\n",
       "      <th>AXP</th>\n",
       "      <th>BA</th>\n",
       "      <th>BAC</th>\n",
       "      <th>CAT</th>\n",
       "      <th>CSCO</th>\n",
       "      <th>CVX</th>\n",
       "      <th>DD</th>\n",
       "      <th>DIS</th>\n",
       "      <th>GE</th>\n",
       "      <th>...</th>\n",
       "      <th>MRK</th>\n",
       "      <th>MSFT</th>\n",
       "      <th>PFE</th>\n",
       "      <th>PG</th>\n",
       "      <th>T</th>\n",
       "      <th>TRV</th>\n",
       "      <th>UTX</th>\n",
       "      <th>VZ</th>\n",
       "      <th>WMT</th>\n",
       "      <th>XOM</th>\n",
       "    </tr>\n",
       "    <tr>\n",
       "      <th>Date</th>\n",
       "      <th></th>\n",
       "      <th></th>\n",
       "      <th></th>\n",
       "      <th></th>\n",
       "      <th></th>\n",
       "      <th></th>\n",
       "      <th></th>\n",
       "      <th></th>\n",
       "      <th></th>\n",
       "      <th></th>\n",
       "      <th></th>\n",
       "      <th></th>\n",
       "      <th></th>\n",
       "      <th></th>\n",
       "      <th></th>\n",
       "      <th></th>\n",
       "      <th></th>\n",
       "      <th></th>\n",
       "      <th></th>\n",
       "      <th></th>\n",
       "      <th></th>\n",
       "    </tr>\n",
       "  </thead>\n",
       "  <tbody>\n",
       "    <tr>\n",
       "      <th>1999-12-31</th>\n",
       "      <td>NaN</td>\n",
       "      <td>NaN</td>\n",
       "      <td>NaN</td>\n",
       "      <td>NaN</td>\n",
       "      <td>NaN</td>\n",
       "      <td>NaN</td>\n",
       "      <td>NaN</td>\n",
       "      <td>NaN</td>\n",
       "      <td>NaN</td>\n",
       "      <td>NaN</td>\n",
       "      <td>...</td>\n",
       "      <td>NaN</td>\n",
       "      <td>NaN</td>\n",
       "      <td>NaN</td>\n",
       "      <td>NaN</td>\n",
       "      <td>NaN</td>\n",
       "      <td>NaN</td>\n",
       "      <td>NaN</td>\n",
       "      <td>NaN</td>\n",
       "      <td>NaN</td>\n",
       "      <td>NaN</td>\n",
       "    </tr>\n",
       "    <tr>\n",
       "      <th>2000-01-03</th>\n",
       "      <td>3.460857</td>\n",
       "      <td>34.683704</td>\n",
       "      <td>25.741438</td>\n",
       "      <td>14.306108</td>\n",
       "      <td>11.845388</td>\n",
       "      <td>41.433525</td>\n",
       "      <td>17.419516</td>\n",
       "      <td>31.433344</td>\n",
       "      <td>23.115221</td>\n",
       "      <td>26.297499</td>\n",
       "      <td>...</td>\n",
       "      <td>5978800.0</td>\n",
       "      <td>53228400.0</td>\n",
       "      <td>12213800.0</td>\n",
       "      <td>4275000.0</td>\n",
       "      <td>5791900.0</td>\n",
       "      <td>336400.0</td>\n",
       "      <td>2140400.0</td>\n",
       "      <td>4663700.0</td>\n",
       "      <td>8369900.0</td>\n",
       "      <td>13458200.0</td>\n",
       "    </tr>\n",
       "    <tr>\n",
       "      <th>2000-01-04</th>\n",
       "      <td>3.169071</td>\n",
       "      <td>33.374104</td>\n",
       "      <td>25.701408</td>\n",
       "      <td>13.456975</td>\n",
       "      <td>11.693136</td>\n",
       "      <td>39.109055</td>\n",
       "      <td>17.419516</td>\n",
       "      <td>30.574173</td>\n",
       "      <td>24.469255</td>\n",
       "      <td>25.245590</td>\n",
       "      <td>...</td>\n",
       "      <td>7533100.0</td>\n",
       "      <td>54119000.0</td>\n",
       "      <td>13481000.0</td>\n",
       "      <td>4270800.0</td>\n",
       "      <td>7173600.0</td>\n",
       "      <td>494400.0</td>\n",
       "      <td>3367000.0</td>\n",
       "      <td>5005800.0</td>\n",
       "      <td>6745100.0</td>\n",
       "      <td>14510800.0</td>\n",
       "    </tr>\n",
       "    <tr>\n",
       "      <th>2000-01-05</th>\n",
       "      <td>3.215448</td>\n",
       "      <td>32.526413</td>\n",
       "      <td>27.302753</td>\n",
       "      <td>13.604647</td>\n",
       "      <td>11.967190</td>\n",
       "      <td>38.989223</td>\n",
       "      <td>17.731968</td>\n",
       "      <td>31.566656</td>\n",
       "      <td>25.484774</td>\n",
       "      <td>25.201761</td>\n",
       "      <td>...</td>\n",
       "      <td>7598300.0</td>\n",
       "      <td>64059600.0</td>\n",
       "      <td>12316500.0</td>\n",
       "      <td>5098400.0</td>\n",
       "      <td>9090000.0</td>\n",
       "      <td>736000.0</td>\n",
       "      <td>3904600.0</td>\n",
       "      <td>6368500.0</td>\n",
       "      <td>7018700.0</td>\n",
       "      <td>17485000.0</td>\n",
       "    </tr>\n",
       "    <tr>\n",
       "      <th>2000-01-06</th>\n",
       "      <td>2.937188</td>\n",
       "      <td>33.189102</td>\n",
       "      <td>27.582977</td>\n",
       "      <td>14.767599</td>\n",
       "      <td>12.576205</td>\n",
       "      <td>38.342190</td>\n",
       "      <td>18.487068</td>\n",
       "      <td>32.455444</td>\n",
       "      <td>24.469255</td>\n",
       "      <td>25.538691</td>\n",
       "      <td>...</td>\n",
       "      <td>4760500.0</td>\n",
       "      <td>54976600.0</td>\n",
       "      <td>10545800.0</td>\n",
       "      <td>6524200.0</td>\n",
       "      <td>7153600.0</td>\n",
       "      <td>660400.0</td>\n",
       "      <td>6148600.0</td>\n",
       "      <td>4705600.0</td>\n",
       "      <td>6544500.0</td>\n",
       "      <td>19461600.0</td>\n",
       "    </tr>\n",
       "  </tbody>\n",
       "</table>\n",
       "<p>5 rows × 174 columns</p>\n",
       "</div>"
      ],
      "text/plain": [
       "Value      Adj Close                                                         \\\n",
       "Symbol          AAPL        AXP         BA        BAC        CAT       CSCO   \n",
       "Date                                                                          \n",
       "1999-12-31       NaN        NaN        NaN        NaN        NaN        NaN   \n",
       "2000-01-03  3.460857  34.683704  25.741438  14.306108  11.845388  41.433525   \n",
       "2000-01-04  3.169071  33.374104  25.701408  13.456975  11.693136  39.109055   \n",
       "2000-01-05  3.215448  32.526413  27.302753  13.604647  11.967190  38.989223   \n",
       "2000-01-06  2.937188  33.189102  27.582977  14.767599  12.576205  38.342190   \n",
       "\n",
       "Value                                                   ...     Volume  \\\n",
       "Symbol            CVX         DD        DIS         GE  ...        MRK   \n",
       "Date                                                    ...              \n",
       "1999-12-31        NaN        NaN        NaN        NaN  ...        NaN   \n",
       "2000-01-03  17.419516  31.433344  23.115221  26.297499  ...  5978800.0   \n",
       "2000-01-04  17.419516  30.574173  24.469255  25.245590  ...  7533100.0   \n",
       "2000-01-05  17.731968  31.566656  25.484774  25.201761  ...  7598300.0   \n",
       "2000-01-06  18.487068  32.455444  24.469255  25.538691  ...  4760500.0   \n",
       "\n",
       "Value                                                                          \\\n",
       "Symbol            MSFT         PFE         PG          T       TRV        UTX   \n",
       "Date                                                                            \n",
       "1999-12-31         NaN         NaN        NaN        NaN       NaN        NaN   \n",
       "2000-01-03  53228400.0  12213800.0  4275000.0  5791900.0  336400.0  2140400.0   \n",
       "2000-01-04  54119000.0  13481000.0  4270800.0  7173600.0  494400.0  3367000.0   \n",
       "2000-01-05  64059600.0  12316500.0  5098400.0  9090000.0  736000.0  3904600.0   \n",
       "2000-01-06  54976600.0  10545800.0  6524200.0  7153600.0  660400.0  6148600.0   \n",
       "\n",
       "Value                                         \n",
       "Symbol             VZ        WMT         XOM  \n",
       "Date                                          \n",
       "1999-12-31        NaN        NaN         NaN  \n",
       "2000-01-03  4663700.0  8369900.0  13458200.0  \n",
       "2000-01-04  5005800.0  6745100.0  14510800.0  \n",
       "2000-01-05  6368500.0  7018700.0  17485000.0  \n",
       "2000-01-06  4705600.0  6544500.0  19461600.0  \n",
       "\n",
       "[5 rows x 174 columns]"
      ]
     },
     "execution_count": 16,
     "metadata": {},
     "output_type": "execute_result"
    }
   ],
   "source": [
    "rawdata.columns = rawdata.columns.set_names(['Value', 'Symbol'])\n",
    "rawdata.head()"
   ]
  },
  {
   "cell_type": "markdown",
   "metadata": {
    "slideshow": {
     "slide_type": "subslide"
    }
   },
   "source": [
    "* Subsetting first level of hierarchical indexing: `Adj Close`"
   ]
  },
  {
   "cell_type": "code",
   "execution_count": 17,
   "metadata": {
    "slideshow": {
     "slide_type": "-"
    }
   },
   "outputs": [
    {
     "data": {
      "text/html": [
       "<div>\n",
       "<style scoped>\n",
       "    .dataframe tbody tr th:only-of-type {\n",
       "        vertical-align: middle;\n",
       "    }\n",
       "\n",
       "    .dataframe tbody tr th {\n",
       "        vertical-align: top;\n",
       "    }\n",
       "\n",
       "    .dataframe thead th {\n",
       "        text-align: right;\n",
       "    }\n",
       "</style>\n",
       "<table border=\"1\" class=\"dataframe\">\n",
       "  <thead>\n",
       "    <tr style=\"text-align: right;\">\n",
       "      <th>Symbol</th>\n",
       "      <th>AAPL</th>\n",
       "      <th>AXP</th>\n",
       "      <th>BA</th>\n",
       "      <th>BAC</th>\n",
       "      <th>CAT</th>\n",
       "      <th>CSCO</th>\n",
       "      <th>CVX</th>\n",
       "      <th>DD</th>\n",
       "      <th>DIS</th>\n",
       "      <th>GE</th>\n",
       "      <th>...</th>\n",
       "      <th>MRK</th>\n",
       "      <th>MSFT</th>\n",
       "      <th>PFE</th>\n",
       "      <th>PG</th>\n",
       "      <th>T</th>\n",
       "      <th>TRV</th>\n",
       "      <th>UTX</th>\n",
       "      <th>VZ</th>\n",
       "      <th>WMT</th>\n",
       "      <th>XOM</th>\n",
       "    </tr>\n",
       "    <tr>\n",
       "      <th>Date</th>\n",
       "      <th></th>\n",
       "      <th></th>\n",
       "      <th></th>\n",
       "      <th></th>\n",
       "      <th></th>\n",
       "      <th></th>\n",
       "      <th></th>\n",
       "      <th></th>\n",
       "      <th></th>\n",
       "      <th></th>\n",
       "      <th></th>\n",
       "      <th></th>\n",
       "      <th></th>\n",
       "      <th></th>\n",
       "      <th></th>\n",
       "      <th></th>\n",
       "      <th></th>\n",
       "      <th></th>\n",
       "      <th></th>\n",
       "      <th></th>\n",
       "      <th></th>\n",
       "    </tr>\n",
       "  </thead>\n",
       "  <tbody>\n",
       "    <tr>\n",
       "      <th>1999-12-31</th>\n",
       "      <td>NaN</td>\n",
       "      <td>NaN</td>\n",
       "      <td>NaN</td>\n",
       "      <td>NaN</td>\n",
       "      <td>NaN</td>\n",
       "      <td>NaN</td>\n",
       "      <td>NaN</td>\n",
       "      <td>NaN</td>\n",
       "      <td>NaN</td>\n",
       "      <td>NaN</td>\n",
       "      <td>...</td>\n",
       "      <td>NaN</td>\n",
       "      <td>NaN</td>\n",
       "      <td>NaN</td>\n",
       "      <td>NaN</td>\n",
       "      <td>NaN</td>\n",
       "      <td>NaN</td>\n",
       "      <td>NaN</td>\n",
       "      <td>NaN</td>\n",
       "      <td>NaN</td>\n",
       "      <td>NaN</td>\n",
       "    </tr>\n",
       "    <tr>\n",
       "      <th>2000-01-03</th>\n",
       "      <td>3.460857</td>\n",
       "      <td>34.683704</td>\n",
       "      <td>25.741438</td>\n",
       "      <td>14.306108</td>\n",
       "      <td>11.845388</td>\n",
       "      <td>41.433525</td>\n",
       "      <td>17.419516</td>\n",
       "      <td>31.433344</td>\n",
       "      <td>23.115221</td>\n",
       "      <td>26.297499</td>\n",
       "      <td>...</td>\n",
       "      <td>31.689192</td>\n",
       "      <td>37.393559</td>\n",
       "      <td>15.987980</td>\n",
       "      <td>30.989897</td>\n",
       "      <td>17.282593</td>\n",
       "      <td>19.621847</td>\n",
       "      <td>19.131641</td>\n",
       "      <td>21.479733</td>\n",
       "      <td>45.984715</td>\n",
       "      <td>21.818495</td>\n",
       "    </tr>\n",
       "    <tr>\n",
       "      <th>2000-01-04</th>\n",
       "      <td>3.169071</td>\n",
       "      <td>33.374104</td>\n",
       "      <td>25.701408</td>\n",
       "      <td>13.456975</td>\n",
       "      <td>11.693136</td>\n",
       "      <td>39.109055</td>\n",
       "      <td>17.419516</td>\n",
       "      <td>30.574173</td>\n",
       "      <td>24.469255</td>\n",
       "      <td>25.245590</td>\n",
       "      <td>...</td>\n",
       "      <td>30.576269</td>\n",
       "      <td>36.130390</td>\n",
       "      <td>15.392351</td>\n",
       "      <td>30.393608</td>\n",
       "      <td>16.271378</td>\n",
       "      <td>19.361706</td>\n",
       "      <td>18.347233</td>\n",
       "      <td>20.785389</td>\n",
       "      <td>44.264072</td>\n",
       "      <td>21.400583</td>\n",
       "    </tr>\n",
       "    <tr>\n",
       "      <th>2000-01-05</th>\n",
       "      <td>3.215448</td>\n",
       "      <td>32.526413</td>\n",
       "      <td>27.302753</td>\n",
       "      <td>13.604647</td>\n",
       "      <td>11.967190</td>\n",
       "      <td>38.989223</td>\n",
       "      <td>17.731968</td>\n",
       "      <td>31.566656</td>\n",
       "      <td>25.484774</td>\n",
       "      <td>25.201761</td>\n",
       "      <td>...</td>\n",
       "      <td>31.777040</td>\n",
       "      <td>36.511333</td>\n",
       "      <td>15.643135</td>\n",
       "      <td>29.815363</td>\n",
       "      <td>16.524181</td>\n",
       "      <td>19.213058</td>\n",
       "      <td>17.983746</td>\n",
       "      <td>21.479733</td>\n",
       "      <td>43.360710</td>\n",
       "      <td>22.567265</td>\n",
       "    </tr>\n",
       "    <tr>\n",
       "      <th>2000-01-06</th>\n",
       "      <td>2.937188</td>\n",
       "      <td>33.189102</td>\n",
       "      <td>27.582977</td>\n",
       "      <td>14.767599</td>\n",
       "      <td>12.576205</td>\n",
       "      <td>38.342190</td>\n",
       "      <td>18.487068</td>\n",
       "      <td>32.455444</td>\n",
       "      <td>24.469255</td>\n",
       "      <td>25.538691</td>\n",
       "      <td>...</td>\n",
       "      <td>32.040642</td>\n",
       "      <td>35.288280</td>\n",
       "      <td>16.207415</td>\n",
       "      <td>31.188662</td>\n",
       "      <td>16.175280</td>\n",
       "      <td>19.584684</td>\n",
       "      <td>18.844660</td>\n",
       "      <td>21.370630</td>\n",
       "      <td>43.833904</td>\n",
       "      <td>23.733942</td>\n",
       "    </tr>\n",
       "  </tbody>\n",
       "</table>\n",
       "<p>5 rows × 29 columns</p>\n",
       "</div>"
      ],
      "text/plain": [
       "Symbol          AAPL        AXP         BA        BAC        CAT       CSCO  \\\n",
       "Date                                                                          \n",
       "1999-12-31       NaN        NaN        NaN        NaN        NaN        NaN   \n",
       "2000-01-03  3.460857  34.683704  25.741438  14.306108  11.845388  41.433525   \n",
       "2000-01-04  3.169071  33.374104  25.701408  13.456975  11.693136  39.109055   \n",
       "2000-01-05  3.215448  32.526413  27.302753  13.604647  11.967190  38.989223   \n",
       "2000-01-06  2.937188  33.189102  27.582977  14.767599  12.576205  38.342190   \n",
       "\n",
       "Symbol            CVX         DD        DIS         GE  ...        MRK  \\\n",
       "Date                                                    ...              \n",
       "1999-12-31        NaN        NaN        NaN        NaN  ...        NaN   \n",
       "2000-01-03  17.419516  31.433344  23.115221  26.297499  ...  31.689192   \n",
       "2000-01-04  17.419516  30.574173  24.469255  25.245590  ...  30.576269   \n",
       "2000-01-05  17.731968  31.566656  25.484774  25.201761  ...  31.777040   \n",
       "2000-01-06  18.487068  32.455444  24.469255  25.538691  ...  32.040642   \n",
       "\n",
       "Symbol           MSFT        PFE         PG          T        TRV        UTX  \\\n",
       "Date                                                                           \n",
       "1999-12-31        NaN        NaN        NaN        NaN        NaN        NaN   \n",
       "2000-01-03  37.393559  15.987980  30.989897  17.282593  19.621847  19.131641   \n",
       "2000-01-04  36.130390  15.392351  30.393608  16.271378  19.361706  18.347233   \n",
       "2000-01-05  36.511333  15.643135  29.815363  16.524181  19.213058  17.983746   \n",
       "2000-01-06  35.288280  16.207415  31.188662  16.175280  19.584684  18.844660   \n",
       "\n",
       "Symbol             VZ        WMT        XOM  \n",
       "Date                                         \n",
       "1999-12-31        NaN        NaN        NaN  \n",
       "2000-01-03  21.479733  45.984715  21.818495  \n",
       "2000-01-04  20.785389  44.264072  21.400583  \n",
       "2000-01-05  21.479733  43.360710  22.567265  \n",
       "2000-01-06  21.370630  43.833904  23.733942  \n",
       "\n",
       "[5 rows x 29 columns]"
      ]
     },
     "execution_count": 17,
     "metadata": {},
     "output_type": "execute_result"
    }
   ],
   "source": [
    "rawdata['Adj Close'].head()"
   ]
  },
  {
   "cell_type": "markdown",
   "metadata": {
    "slideshow": {
     "slide_type": "subslide"
    }
   },
   "source": [
    "* Subsetting first level of hierarchical indexing: `Volume`"
   ]
  },
  {
   "cell_type": "code",
   "execution_count": 18,
   "metadata": {
    "slideshow": {
     "slide_type": "-"
    }
   },
   "outputs": [
    {
     "data": {
      "text/html": [
       "<div>\n",
       "<style scoped>\n",
       "    .dataframe tbody tr th:only-of-type {\n",
       "        vertical-align: middle;\n",
       "    }\n",
       "\n",
       "    .dataframe tbody tr th {\n",
       "        vertical-align: top;\n",
       "    }\n",
       "\n",
       "    .dataframe thead th {\n",
       "        text-align: right;\n",
       "    }\n",
       "</style>\n",
       "<table border=\"1\" class=\"dataframe\">\n",
       "  <thead>\n",
       "    <tr style=\"text-align: right;\">\n",
       "      <th>Symbol</th>\n",
       "      <th>AAPL</th>\n",
       "      <th>AXP</th>\n",
       "      <th>BA</th>\n",
       "      <th>BAC</th>\n",
       "      <th>CAT</th>\n",
       "      <th>CSCO</th>\n",
       "      <th>CVX</th>\n",
       "      <th>DD</th>\n",
       "      <th>DIS</th>\n",
       "      <th>GE</th>\n",
       "      <th>...</th>\n",
       "      <th>MRK</th>\n",
       "      <th>MSFT</th>\n",
       "      <th>PFE</th>\n",
       "      <th>PG</th>\n",
       "      <th>T</th>\n",
       "      <th>TRV</th>\n",
       "      <th>UTX</th>\n",
       "      <th>VZ</th>\n",
       "      <th>WMT</th>\n",
       "      <th>XOM</th>\n",
       "    </tr>\n",
       "    <tr>\n",
       "      <th>Date</th>\n",
       "      <th></th>\n",
       "      <th></th>\n",
       "      <th></th>\n",
       "      <th></th>\n",
       "      <th></th>\n",
       "      <th></th>\n",
       "      <th></th>\n",
       "      <th></th>\n",
       "      <th></th>\n",
       "      <th></th>\n",
       "      <th></th>\n",
       "      <th></th>\n",
       "      <th></th>\n",
       "      <th></th>\n",
       "      <th></th>\n",
       "      <th></th>\n",
       "      <th></th>\n",
       "      <th></th>\n",
       "      <th></th>\n",
       "      <th></th>\n",
       "      <th></th>\n",
       "    </tr>\n",
       "  </thead>\n",
       "  <tbody>\n",
       "    <tr>\n",
       "      <th>1999-12-31</th>\n",
       "      <td>NaN</td>\n",
       "      <td>NaN</td>\n",
       "      <td>NaN</td>\n",
       "      <td>NaN</td>\n",
       "      <td>NaN</td>\n",
       "      <td>NaN</td>\n",
       "      <td>NaN</td>\n",
       "      <td>NaN</td>\n",
       "      <td>NaN</td>\n",
       "      <td>NaN</td>\n",
       "      <td>...</td>\n",
       "      <td>NaN</td>\n",
       "      <td>NaN</td>\n",
       "      <td>NaN</td>\n",
       "      <td>NaN</td>\n",
       "      <td>NaN</td>\n",
       "      <td>NaN</td>\n",
       "      <td>NaN</td>\n",
       "      <td>NaN</td>\n",
       "      <td>NaN</td>\n",
       "      <td>NaN</td>\n",
       "    </tr>\n",
       "    <tr>\n",
       "      <th>2000-01-03</th>\n",
       "      <td>133949200.0</td>\n",
       "      <td>6471200.0</td>\n",
       "      <td>2638200.0</td>\n",
       "      <td>13705800.0</td>\n",
       "      <td>5055000.0</td>\n",
       "      <td>53076000.0</td>\n",
       "      <td>4387600.0</td>\n",
       "      <td>1296000.0</td>\n",
       "      <td>8402200.0</td>\n",
       "      <td>22952500.0</td>\n",
       "      <td>...</td>\n",
       "      <td>5978800.0</td>\n",
       "      <td>53228400.0</td>\n",
       "      <td>12213800.0</td>\n",
       "      <td>4275000.0</td>\n",
       "      <td>5791900.0</td>\n",
       "      <td>336400.0</td>\n",
       "      <td>2140400.0</td>\n",
       "      <td>4663700.0</td>\n",
       "      <td>8369900.0</td>\n",
       "      <td>13458200.0</td>\n",
       "    </tr>\n",
       "    <tr>\n",
       "      <th>2000-01-04</th>\n",
       "      <td>128094400.0</td>\n",
       "      <td>10440800.0</td>\n",
       "      <td>3592100.0</td>\n",
       "      <td>27293400.0</td>\n",
       "      <td>6181400.0</td>\n",
       "      <td>50805600.0</td>\n",
       "      <td>3702400.0</td>\n",
       "      <td>2073600.0</td>\n",
       "      <td>16051100.0</td>\n",
       "      <td>23006200.0</td>\n",
       "      <td>...</td>\n",
       "      <td>7533100.0</td>\n",
       "      <td>54119000.0</td>\n",
       "      <td>13481000.0</td>\n",
       "      <td>4270800.0</td>\n",
       "      <td>7173600.0</td>\n",
       "      <td>494400.0</td>\n",
       "      <td>3367000.0</td>\n",
       "      <td>5005800.0</td>\n",
       "      <td>6745100.0</td>\n",
       "      <td>14510800.0</td>\n",
       "    </tr>\n",
       "    <tr>\n",
       "      <th>2000-01-05</th>\n",
       "      <td>194580400.0</td>\n",
       "      <td>8646200.0</td>\n",
       "      <td>7631700.0</td>\n",
       "      <td>22855600.0</td>\n",
       "      <td>6398600.0</td>\n",
       "      <td>68524000.0</td>\n",
       "      <td>5567600.0</td>\n",
       "      <td>3653200.0</td>\n",
       "      <td>19823800.0</td>\n",
       "      <td>28384500.0</td>\n",
       "      <td>...</td>\n",
       "      <td>7598300.0</td>\n",
       "      <td>64059600.0</td>\n",
       "      <td>12316500.0</td>\n",
       "      <td>5098400.0</td>\n",
       "      <td>9090000.0</td>\n",
       "      <td>736000.0</td>\n",
       "      <td>3904600.0</td>\n",
       "      <td>6368500.0</td>\n",
       "      <td>7018700.0</td>\n",
       "      <td>17485000.0</td>\n",
       "    </tr>\n",
       "    <tr>\n",
       "      <th>2000-01-06</th>\n",
       "      <td>191993200.0</td>\n",
       "      <td>10990900.0</td>\n",
       "      <td>4922200.0</td>\n",
       "      <td>17307000.0</td>\n",
       "      <td>5140600.0</td>\n",
       "      <td>48242600.0</td>\n",
       "      <td>4353400.0</td>\n",
       "      <td>4885500.0</td>\n",
       "      <td>7903100.0</td>\n",
       "      <td>20668100.0</td>\n",
       "      <td>...</td>\n",
       "      <td>4760500.0</td>\n",
       "      <td>54976600.0</td>\n",
       "      <td>10545800.0</td>\n",
       "      <td>6524200.0</td>\n",
       "      <td>7153600.0</td>\n",
       "      <td>660400.0</td>\n",
       "      <td>6148600.0</td>\n",
       "      <td>4705600.0</td>\n",
       "      <td>6544500.0</td>\n",
       "      <td>19461600.0</td>\n",
       "    </tr>\n",
       "  </tbody>\n",
       "</table>\n",
       "<p>5 rows × 29 columns</p>\n",
       "</div>"
      ],
      "text/plain": [
       "Symbol             AAPL         AXP         BA         BAC        CAT  \\\n",
       "Date                                                                    \n",
       "1999-12-31          NaN         NaN        NaN         NaN        NaN   \n",
       "2000-01-03  133949200.0   6471200.0  2638200.0  13705800.0  5055000.0   \n",
       "2000-01-04  128094400.0  10440800.0  3592100.0  27293400.0  6181400.0   \n",
       "2000-01-05  194580400.0   8646200.0  7631700.0  22855600.0  6398600.0   \n",
       "2000-01-06  191993200.0  10990900.0  4922200.0  17307000.0  5140600.0   \n",
       "\n",
       "Symbol            CSCO        CVX         DD         DIS          GE  ...  \\\n",
       "Date                                                                  ...   \n",
       "1999-12-31         NaN        NaN        NaN         NaN         NaN  ...   \n",
       "2000-01-03  53076000.0  4387600.0  1296000.0   8402200.0  22952500.0  ...   \n",
       "2000-01-04  50805600.0  3702400.0  2073600.0  16051100.0  23006200.0  ...   \n",
       "2000-01-05  68524000.0  5567600.0  3653200.0  19823800.0  28384500.0  ...   \n",
       "2000-01-06  48242600.0  4353400.0  4885500.0   7903100.0  20668100.0  ...   \n",
       "\n",
       "Symbol            MRK        MSFT         PFE         PG          T       TRV  \\\n",
       "Date                                                                            \n",
       "1999-12-31        NaN         NaN         NaN        NaN        NaN       NaN   \n",
       "2000-01-03  5978800.0  53228400.0  12213800.0  4275000.0  5791900.0  336400.0   \n",
       "2000-01-04  7533100.0  54119000.0  13481000.0  4270800.0  7173600.0  494400.0   \n",
       "2000-01-05  7598300.0  64059600.0  12316500.0  5098400.0  9090000.0  736000.0   \n",
       "2000-01-06  4760500.0  54976600.0  10545800.0  6524200.0  7153600.0  660400.0   \n",
       "\n",
       "Symbol            UTX         VZ        WMT         XOM  \n",
       "Date                                                     \n",
       "1999-12-31        NaN        NaN        NaN         NaN  \n",
       "2000-01-03  2140400.0  4663700.0  8369900.0  13458200.0  \n",
       "2000-01-04  3367000.0  5005800.0  6745100.0  14510800.0  \n",
       "2000-01-05  3904600.0  6368500.0  7018700.0  17485000.0  \n",
       "2000-01-06  6148600.0  4705600.0  6544500.0  19461600.0  \n",
       "\n",
       "[5 rows x 29 columns]"
      ]
     },
     "execution_count": 18,
     "metadata": {},
     "output_type": "execute_result"
    }
   ],
   "source": [
    "rawdata.loc[:, 'Volume'].head()"
   ]
  },
  {
   "cell_type": "markdown",
   "metadata": {
    "slideshow": {
     "slide_type": "subslide"
    }
   },
   "source": [
    "* Subsetting second level is slightly harder: `AAPL`"
   ]
  },
  {
   "cell_type": "code",
   "execution_count": 19,
   "metadata": {
    "slideshow": {
     "slide_type": "-"
    }
   },
   "outputs": [
    {
     "data": {
      "text/html": [
       "<div>\n",
       "<style scoped>\n",
       "    .dataframe tbody tr th:only-of-type {\n",
       "        vertical-align: middle;\n",
       "    }\n",
       "\n",
       "    .dataframe tbody tr th {\n",
       "        vertical-align: top;\n",
       "    }\n",
       "\n",
       "    .dataframe thead tr th {\n",
       "        text-align: left;\n",
       "    }\n",
       "\n",
       "    .dataframe thead tr:last-of-type th {\n",
       "        text-align: right;\n",
       "    }\n",
       "</style>\n",
       "<table border=\"1\" class=\"dataframe\">\n",
       "  <thead>\n",
       "    <tr>\n",
       "      <th>Value</th>\n",
       "      <th>Adj Close</th>\n",
       "      <th>Close</th>\n",
       "      <th>High</th>\n",
       "      <th>Low</th>\n",
       "      <th>Open</th>\n",
       "      <th>Volume</th>\n",
       "    </tr>\n",
       "    <tr>\n",
       "      <th>Symbol</th>\n",
       "      <th>AAPL</th>\n",
       "      <th>AAPL</th>\n",
       "      <th>AAPL</th>\n",
       "      <th>AAPL</th>\n",
       "      <th>AAPL</th>\n",
       "      <th>AAPL</th>\n",
       "    </tr>\n",
       "    <tr>\n",
       "      <th>Date</th>\n",
       "      <th></th>\n",
       "      <th></th>\n",
       "      <th></th>\n",
       "      <th></th>\n",
       "      <th></th>\n",
       "      <th></th>\n",
       "    </tr>\n",
       "  </thead>\n",
       "  <tbody>\n",
       "    <tr>\n",
       "      <th>1999-12-31</th>\n",
       "      <td>NaN</td>\n",
       "      <td>NaN</td>\n",
       "      <td>NaN</td>\n",
       "      <td>NaN</td>\n",
       "      <td>NaN</td>\n",
       "      <td>NaN</td>\n",
       "    </tr>\n",
       "    <tr>\n",
       "      <th>2000-01-03</th>\n",
       "      <td>3.460857</td>\n",
       "      <td>3.997768</td>\n",
       "      <td>4.017857</td>\n",
       "      <td>3.631696</td>\n",
       "      <td>3.745536</td>\n",
       "      <td>133949200.0</td>\n",
       "    </tr>\n",
       "    <tr>\n",
       "      <th>2000-01-04</th>\n",
       "      <td>3.169071</td>\n",
       "      <td>3.660714</td>\n",
       "      <td>3.950893</td>\n",
       "      <td>3.613839</td>\n",
       "      <td>3.866071</td>\n",
       "      <td>128094400.0</td>\n",
       "    </tr>\n",
       "    <tr>\n",
       "      <th>2000-01-05</th>\n",
       "      <td>3.215448</td>\n",
       "      <td>3.714286</td>\n",
       "      <td>3.948661</td>\n",
       "      <td>3.678571</td>\n",
       "      <td>3.705357</td>\n",
       "      <td>194580400.0</td>\n",
       "    </tr>\n",
       "    <tr>\n",
       "      <th>2000-01-06</th>\n",
       "      <td>2.937188</td>\n",
       "      <td>3.392857</td>\n",
       "      <td>3.821429</td>\n",
       "      <td>3.392857</td>\n",
       "      <td>3.790179</td>\n",
       "      <td>191993200.0</td>\n",
       "    </tr>\n",
       "  </tbody>\n",
       "</table>\n",
       "</div>"
      ],
      "text/plain": [
       "Value      Adj Close     Close      High       Low      Open       Volume\n",
       "Symbol          AAPL      AAPL      AAPL      AAPL      AAPL         AAPL\n",
       "Date                                                                     \n",
       "1999-12-31       NaN       NaN       NaN       NaN       NaN          NaN\n",
       "2000-01-03  3.460857  3.997768  4.017857  3.631696  3.745536  133949200.0\n",
       "2000-01-04  3.169071  3.660714  3.950893  3.613839  3.866071  128094400.0\n",
       "2000-01-05  3.215448  3.714286  3.948661  3.678571  3.705357  194580400.0\n",
       "2000-01-06  2.937188  3.392857  3.821429  3.392857  3.790179  191993200.0"
      ]
     },
     "execution_count": 19,
     "metadata": {},
     "output_type": "execute_result"
    }
   ],
   "source": [
    "idx = pd.IndexSlice\n",
    "rawdata.loc[:, idx[:, 'AAPL']].head()"
   ]
  },
  {
   "cell_type": "markdown",
   "metadata": {
    "slideshow": {
     "slide_type": "subslide"
    }
   },
   "source": [
    "* Subsetting `Open`, `High`, `Low`, and `Close` (OHLC) for `AAPL`:"
   ]
  },
  {
   "cell_type": "code",
   "execution_count": 20,
   "metadata": {
    "slideshow": {
     "slide_type": "-"
    }
   },
   "outputs": [
    {
     "data": {
      "text/html": [
       "<div>\n",
       "<style scoped>\n",
       "    .dataframe tbody tr th:only-of-type {\n",
       "        vertical-align: middle;\n",
       "    }\n",
       "\n",
       "    .dataframe tbody tr th {\n",
       "        vertical-align: top;\n",
       "    }\n",
       "\n",
       "    .dataframe thead tr th {\n",
       "        text-align: left;\n",
       "    }\n",
       "\n",
       "    .dataframe thead tr:last-of-type th {\n",
       "        text-align: right;\n",
       "    }\n",
       "</style>\n",
       "<table border=\"1\" class=\"dataframe\">\n",
       "  <thead>\n",
       "    <tr>\n",
       "      <th>Value</th>\n",
       "      <th>Close</th>\n",
       "      <th>High</th>\n",
       "      <th>Low</th>\n",
       "      <th>Open</th>\n",
       "    </tr>\n",
       "    <tr>\n",
       "      <th>Symbol</th>\n",
       "      <th>AAPL</th>\n",
       "      <th>AAPL</th>\n",
       "      <th>AAPL</th>\n",
       "      <th>AAPL</th>\n",
       "    </tr>\n",
       "    <tr>\n",
       "      <th>Date</th>\n",
       "      <th></th>\n",
       "      <th></th>\n",
       "      <th></th>\n",
       "      <th></th>\n",
       "    </tr>\n",
       "  </thead>\n",
       "  <tbody>\n",
       "    <tr>\n",
       "      <th>1999-12-31</th>\n",
       "      <td>NaN</td>\n",
       "      <td>NaN</td>\n",
       "      <td>NaN</td>\n",
       "      <td>NaN</td>\n",
       "    </tr>\n",
       "    <tr>\n",
       "      <th>2000-01-03</th>\n",
       "      <td>3.997768</td>\n",
       "      <td>4.017857</td>\n",
       "      <td>3.631696</td>\n",
       "      <td>3.745536</td>\n",
       "    </tr>\n",
       "    <tr>\n",
       "      <th>2000-01-04</th>\n",
       "      <td>3.660714</td>\n",
       "      <td>3.950893</td>\n",
       "      <td>3.613839</td>\n",
       "      <td>3.866071</td>\n",
       "    </tr>\n",
       "    <tr>\n",
       "      <th>2000-01-05</th>\n",
       "      <td>3.714286</td>\n",
       "      <td>3.948661</td>\n",
       "      <td>3.678571</td>\n",
       "      <td>3.705357</td>\n",
       "    </tr>\n",
       "    <tr>\n",
       "      <th>2000-01-06</th>\n",
       "      <td>3.392857</td>\n",
       "      <td>3.821429</td>\n",
       "      <td>3.392857</td>\n",
       "      <td>3.790179</td>\n",
       "    </tr>\n",
       "  </tbody>\n",
       "</table>\n",
       "</div>"
      ],
      "text/plain": [
       "Value          Close      High       Low      Open\n",
       "Symbol          AAPL      AAPL      AAPL      AAPL\n",
       "Date                                              \n",
       "1999-12-31       NaN       NaN       NaN       NaN\n",
       "2000-01-03  3.997768  4.017857  3.631696  3.745536\n",
       "2000-01-04  3.660714  3.950893  3.613839  3.866071\n",
       "2000-01-05  3.714286  3.948661  3.678571  3.705357\n",
       "2000-01-06  3.392857  3.821429  3.392857  3.790179"
      ]
     },
     "execution_count": 20,
     "metadata": {},
     "output_type": "execute_result"
    }
   ],
   "source": [
    "aapl = rawdata.loc[:, idx['Close':'Open', 'AAPL']]\n",
    "aapl.head()"
   ]
  },
  {
   "cell_type": "markdown",
   "metadata": {
    "slideshow": {
     "slide_type": "subslide"
    }
   },
   "source": [
    "* Drop redudant index level, `AAPL`:"
   ]
  },
  {
   "cell_type": "code",
   "execution_count": 21,
   "metadata": {
    "slideshow": {
     "slide_type": "-"
    }
   },
   "outputs": [
    {
     "data": {
      "text/html": [
       "<div>\n",
       "<style scoped>\n",
       "    .dataframe tbody tr th:only-of-type {\n",
       "        vertical-align: middle;\n",
       "    }\n",
       "\n",
       "    .dataframe tbody tr th {\n",
       "        vertical-align: top;\n",
       "    }\n",
       "\n",
       "    .dataframe thead th {\n",
       "        text-align: right;\n",
       "    }\n",
       "</style>\n",
       "<table border=\"1\" class=\"dataframe\">\n",
       "  <thead>\n",
       "    <tr style=\"text-align: right;\">\n",
       "      <th>Value</th>\n",
       "      <th>Close</th>\n",
       "      <th>High</th>\n",
       "      <th>Low</th>\n",
       "      <th>Open</th>\n",
       "    </tr>\n",
       "    <tr>\n",
       "      <th>Date</th>\n",
       "      <th></th>\n",
       "      <th></th>\n",
       "      <th></th>\n",
       "      <th></th>\n",
       "    </tr>\n",
       "  </thead>\n",
       "  <tbody>\n",
       "    <tr>\n",
       "      <th>2020-02-13</th>\n",
       "      <td>324.869995</td>\n",
       "      <td>326.220001</td>\n",
       "      <td>323.350006</td>\n",
       "      <td>324.190002</td>\n",
       "    </tr>\n",
       "    <tr>\n",
       "      <th>2020-02-14</th>\n",
       "      <td>324.950012</td>\n",
       "      <td>325.980011</td>\n",
       "      <td>322.850006</td>\n",
       "      <td>324.739990</td>\n",
       "    </tr>\n",
       "    <tr>\n",
       "      <th>2020-02-18</th>\n",
       "      <td>319.000000</td>\n",
       "      <td>319.750000</td>\n",
       "      <td>314.609985</td>\n",
       "      <td>315.359985</td>\n",
       "    </tr>\n",
       "    <tr>\n",
       "      <th>2020-02-19</th>\n",
       "      <td>323.619995</td>\n",
       "      <td>324.570007</td>\n",
       "      <td>320.000000</td>\n",
       "      <td>320.000000</td>\n",
       "    </tr>\n",
       "    <tr>\n",
       "      <th>2020-02-20</th>\n",
       "      <td>320.299988</td>\n",
       "      <td>324.649994</td>\n",
       "      <td>318.209991</td>\n",
       "      <td>322.630005</td>\n",
       "    </tr>\n",
       "  </tbody>\n",
       "</table>\n",
       "</div>"
      ],
      "text/plain": [
       "Value            Close        High         Low        Open\n",
       "Date                                                      \n",
       "2020-02-13  324.869995  326.220001  323.350006  324.190002\n",
       "2020-02-14  324.950012  325.980011  322.850006  324.739990\n",
       "2020-02-18  319.000000  319.750000  314.609985  315.359985\n",
       "2020-02-19  323.619995  324.570007  320.000000  320.000000\n",
       "2020-02-20  320.299988  324.649994  318.209991  322.630005"
      ]
     },
     "execution_count": 21,
     "metadata": {},
     "output_type": "execute_result"
    }
   ],
   "source": [
    "aapl = rawdata.loc[:, idx['Close':'Open', 'AAPL']].droplevel('Symbol', axis=1).tail(60)\n",
    "aapl.head()"
   ]
  },
  {
   "cell_type": "markdown",
   "metadata": {
    "slideshow": {
     "slide_type": "slide"
    }
   },
   "source": [
    "### Example Figure: Candlestick Chart for 3M"
   ]
  },
  {
   "cell_type": "code",
   "execution_count": 22,
   "metadata": {
    "slideshow": {
     "slide_type": "-"
    }
   },
   "outputs": [
    {
     "data": {
      "text/html": [
       "\n",
       "<div id=\"altair-viz-75d782c936c945028a80ded7d4ee83a5\"></div>\n",
       "<script type=\"text/javascript\">\n",
       "  (function(spec, embedOpt){\n",
       "    let outputDiv = document.currentScript.previousElementSibling;\n",
       "    if (outputDiv.id !== \"altair-viz-75d782c936c945028a80ded7d4ee83a5\") {\n",
       "      outputDiv = document.getElementById(\"altair-viz-75d782c936c945028a80ded7d4ee83a5\");\n",
       "    }\n",
       "    const paths = {\n",
       "      \"vega\": \"https://cdn.jsdelivr.net/npm//vega@5?noext\",\n",
       "      \"vega-lib\": \"https://cdn.jsdelivr.net/npm//vega-lib?noext\",\n",
       "      \"vega-lite\": \"https://cdn.jsdelivr.net/npm//vega-lite@4.8.1?noext\",\n",
       "      \"vega-embed\": \"https://cdn.jsdelivr.net/npm//vega-embed@6?noext\",\n",
       "    };\n",
       "\n",
       "    function loadScript(lib) {\n",
       "      return new Promise(function(resolve, reject) {\n",
       "        var s = document.createElement('script');\n",
       "        s.src = paths[lib];\n",
       "        s.async = true;\n",
       "        s.onload = () => resolve(paths[lib]);\n",
       "        s.onerror = () => reject(`Error loading script: ${paths[lib]}`);\n",
       "        document.getElementsByTagName(\"head\")[0].appendChild(s);\n",
       "      });\n",
       "    }\n",
       "\n",
       "    function showError(err) {\n",
       "      outputDiv.innerHTML = `<div class=\"error\" style=\"color:red;\">${err}</div>`;\n",
       "      throw err;\n",
       "    }\n",
       "\n",
       "    function displayChart(vegaEmbed) {\n",
       "      vegaEmbed(outputDiv, spec, embedOpt)\n",
       "        .catch(err => showError(`Javascript Error: ${err.message}<br>This usually means there's a typo in your chart specification. See the javascript console for the full traceback.`));\n",
       "    }\n",
       "\n",
       "    if(typeof define === \"function\" && define.amd) {\n",
       "      requirejs.config({paths});\n",
       "      require([\"vega-embed\"], displayChart, err => showError(`Error loading script: ${err.message}`));\n",
       "    } else if (typeof vegaEmbed === \"function\") {\n",
       "      displayChart(vegaEmbed);\n",
       "    } else {\n",
       "      loadScript(\"vega\")\n",
       "        .then(() => loadScript(\"vega-lite\"))\n",
       "        .then(() => loadScript(\"vega-embed\"))\n",
       "        .catch(showError)\n",
       "        .then(() => displayChart(vegaEmbed));\n",
       "    }\n",
       "  })({\"config\": {\"view\": {\"continuousWidth\": 400, \"continuousHeight\": 300}}, \"layer\": [{\"mark\": \"rule\", \"encoding\": {\"color\": {\"condition\": {\"value\": \"#06982d\", \"test\": \"datum.Open <= datum.Close\"}, \"value\": \"#ae1325\"}, \"x\": {\"type\": \"temporal\", \"axis\": {\"format\": \"%m-%d-%Y\", \"labelAngle\": -90}, \"field\": \"Date\"}, \"y\": {\"type\": \"quantitative\", \"field\": \"Low\", \"scale\": {\"zero\": false}, \"title\": \"Price\"}, \"y2\": {\"field\": \"High\"}}}, {\"mark\": \"bar\", \"encoding\": {\"color\": {\"condition\": {\"value\": \"#06982d\", \"test\": \"datum.Open <= datum.Close\"}, \"value\": \"#ae1325\"}, \"x\": {\"type\": \"temporal\", \"axis\": {\"format\": \"%m-%d-%Y\", \"labelAngle\": -90}, \"field\": \"Date\"}, \"y\": {\"type\": \"quantitative\", \"field\": \"Open\"}, \"y2\": {\"field\": \"Close\"}}}], \"data\": {\"name\": \"data-54d40a30da7e6efa24a74783e29586f0\"}, \"$schema\": \"https://vega.github.io/schema/vega-lite/v4.8.1.json\", \"datasets\": {\"data-54d40a30da7e6efa24a74783e29586f0\": [{\"Date\": \"2020-02-13T00:00:00\", \"Close\": 159.75999450683594, \"High\": 161.8699951171875, \"Low\": 159.0, \"Open\": 161.75999450683594}, {\"Date\": \"2020-02-14T00:00:00\", \"Close\": 161.00999450683594, \"High\": 161.13999938964844, \"Low\": 158.82000732421875, \"Open\": 159.85000610351562}, {\"Date\": \"2020-02-18T00:00:00\", \"Close\": 158.8800048828125, \"High\": 160.52999877929688, \"Low\": 158.0399932861328, \"Open\": 160.36000061035156}, {\"Date\": \"2020-02-19T00:00:00\", \"Close\": 159.33999633789062, \"High\": 160.47000122070312, \"Low\": 158.36000061035156, \"Open\": 159.0800018310547}, {\"Date\": \"2020-02-20T00:00:00\", \"Close\": 158.55999755859375, \"High\": 161.38999938964844, \"Low\": 158.5, \"Open\": 159.0}, {\"Date\": \"2020-02-21T00:00:00\", \"Close\": 156.92999267578125, \"High\": 158.58999633789062, \"Low\": 156.1199951171875, \"Open\": 158.3300018310547}, {\"Date\": \"2020-02-24T00:00:00\", \"Close\": 152.5500030517578, \"High\": 154.7100067138672, \"Low\": 152.22000122070312, \"Open\": 154.4499969482422}, {\"Date\": \"2020-02-25T00:00:00\", \"Close\": 146.85000610351562, \"High\": 153.44000244140625, \"Low\": 145.97000122070312, \"Open\": 153.30999755859375}, {\"Date\": \"2020-02-26T00:00:00\", \"Close\": 148.9600067138672, \"High\": 151.82000732421875, \"Low\": 148.08999633789062, \"Open\": 149.57000732421875}, {\"Date\": \"2020-02-27T00:00:00\", \"Close\": 150.16000366210938, \"High\": 155.42999267578125, \"Low\": 149.0, \"Open\": 151.22999572753906}, {\"Date\": \"2020-02-28T00:00:00\", \"Close\": 149.24000549316406, \"High\": 156.72000122070312, \"Low\": 146.0, \"Open\": 154.08999633789062}, {\"Date\": \"2020-03-02T00:00:00\", \"Close\": 153.02000427246094, \"High\": 153.42999267578125, \"Low\": 148.3699951171875, \"Open\": 151.33999633789062}, {\"Date\": \"2020-03-03T00:00:00\", \"Close\": 145.24000549316406, \"High\": 154.0, \"Low\": 144.44000244140625, \"Open\": 152.44000244140625}, {\"Date\": \"2020-03-04T00:00:00\", \"Close\": 153.97999572753906, \"High\": 154.0, \"Low\": 145.99000549316406, \"Open\": 147.02000427246094}, {\"Date\": \"2020-03-05T00:00:00\", \"Close\": 151.41000366210938, \"High\": 154.35000610351562, \"Low\": 149.5500030517578, \"Open\": 150.8000030517578}, {\"Date\": \"2020-03-06T00:00:00\", \"Close\": 153.64999389648438, \"High\": 154.74000549316406, \"Low\": 147.8699951171875, \"Open\": 149.58999633789062}, {\"Date\": \"2020-03-09T00:00:00\", \"Close\": 144.05999755859375, \"High\": 149.4600067138672, \"Low\": 143.5500030517578, \"Open\": 146.58999633789062}, {\"Date\": \"2020-03-10T00:00:00\", \"Close\": 153.3000030517578, \"High\": 153.3800048828125, \"Low\": 144.8800048828125, \"Open\": 149.02000427246094}, {\"Date\": \"2020-03-11T00:00:00\", \"Close\": 147.24000549316406, \"High\": 149.72999572753906, \"Low\": 146.47000122070312, \"Open\": 149.72999572753906}, {\"Date\": \"2020-03-12T00:00:00\", \"Close\": 133.5800018310547, \"High\": 141.7100067138672, \"Low\": 130.33999633789062, \"Open\": 139.9600067138672}, {\"Date\": \"2020-03-13T00:00:00\", \"Close\": 141.67999267578125, \"High\": 141.69000244140625, \"Low\": 131.0, \"Open\": 141.00999450683594}, {\"Date\": \"2020-03-16T00:00:00\", \"Close\": 130.91000366210938, \"High\": 135.5, \"Low\": 128.00999450683594, \"Open\": 129.86000061035156}, {\"Date\": \"2020-03-17T00:00:00\", \"Close\": 134.44000244140625, \"High\": 136.77000427246094, \"Low\": 129.61000061035156, \"Open\": 131.94000244140625}, {\"Date\": \"2020-03-18T00:00:00\", \"Close\": 137.02000427246094, \"High\": 139.3699951171875, \"Low\": 128.38999938964844, \"Open\": 128.4600067138672}, {\"Date\": \"2020-03-19T00:00:00\", \"Close\": 137.50999450683594, \"High\": 140.17999267578125, \"Low\": 132.92999267578125, \"Open\": 137.7100067138672}, {\"Date\": \"2020-03-20T00:00:00\", \"Close\": 124.88999938964844, \"High\": 139.24000549316406, \"Low\": 122.70999908447266, \"Open\": 138.07000732421875}, {\"Date\": \"2020-03-23T00:00:00\", \"Close\": 117.87000274658203, \"High\": 128.39999389648438, \"Low\": 114.04000091552734, \"Open\": 128.16000366210938}, {\"Date\": \"2020-03-24T00:00:00\", \"Close\": 132.72000122070312, \"High\": 133.4499969482422, \"Low\": 121.0, \"Open\": 122.29000091552734}, {\"Date\": \"2020-03-25T00:00:00\", \"Close\": 131.5399932861328, \"High\": 134.69000244140625, \"Low\": 126.80000305175781, \"Open\": 133.14999389648438}, {\"Date\": \"2020-03-26T00:00:00\", \"Close\": 136.17999267578125, \"High\": 136.3800048828125, \"Low\": 130.61000061035156, \"Open\": 131.7899932861328}, {\"Date\": \"2020-03-27T00:00:00\", \"Close\": 133.24000549316406, \"High\": 137.07000732421875, \"Low\": 130.91000366210938, \"Open\": 132.8300018310547}, {\"Date\": \"2020-03-30T00:00:00\", \"Close\": 137.74000549316406, \"High\": 138.00999450683594, \"Low\": 131.05999755859375, \"Open\": 132.25}, {\"Date\": \"2020-03-31T00:00:00\", \"Close\": 136.50999450683594, \"High\": 139.44000244140625, \"Low\": 135.67999267578125, \"Open\": 135.69000244140625}, {\"Date\": \"2020-04-01T00:00:00\", \"Close\": 133.13999938964844, \"High\": 135.83999633789062, \"Low\": 131.00999450683594, \"Open\": 132.0}, {\"Date\": \"2020-04-02T00:00:00\", \"Close\": 137.91000366210938, \"High\": 138.2100067138672, \"Low\": 132.10000610351562, \"Open\": 132.36000061035156}, {\"Date\": \"2020-04-03T00:00:00\", \"Close\": 133.7899932861328, \"High\": 137.44000244140625, \"Low\": 132.89999389648438, \"Open\": 136.00999450683594}, {\"Date\": \"2020-04-06T00:00:00\", \"Close\": 140.6999969482422, \"High\": 141.25, \"Low\": 136.89999389648438, \"Open\": 137.86000061035156}, {\"Date\": \"2020-04-07T00:00:00\", \"Close\": 144.60000610351562, \"High\": 150.63999938964844, \"Low\": 144.39999389648438, \"Open\": 147.5}, {\"Date\": \"2020-04-08T00:00:00\", \"Close\": 148.99000549316406, \"High\": 149.72000122070312, \"Low\": 143.91000366210938, \"Open\": 145.72999572753906}, {\"Date\": \"2020-04-09T00:00:00\", \"Close\": 147.77999877929688, \"High\": 149.72999572753906, \"Low\": 146.5399932861328, \"Open\": 148.4600067138672}, {\"Date\": \"2020-04-13T00:00:00\", \"Close\": 146.39999389648438, \"High\": 148.5800018310547, \"Low\": 145.3000030517578, \"Open\": 147.5}, {\"Date\": \"2020-04-14T00:00:00\", \"Close\": 150.13999938964844, \"High\": 150.97999572753906, \"Low\": 148.0500030517578, \"Open\": 149.6199951171875}, {\"Date\": \"2020-04-15T00:00:00\", \"Close\": 145.16000366210938, \"High\": 148.5500030517578, \"Low\": 144.89999389648438, \"Open\": 148.19000244140625}, {\"Date\": \"2020-04-16T00:00:00\", \"Close\": 144.89999389648438, \"High\": 146.4499969482422, \"Low\": 143.22999572753906, \"Open\": 145.27000427246094}, {\"Date\": \"2020-04-17T00:00:00\", \"Close\": 146.4600067138672, \"High\": 148.5, \"Low\": 144.8000030517578, \"Open\": 147.44000244140625}, {\"Date\": \"2020-04-20T00:00:00\", \"Close\": 143.6699981689453, \"High\": 147.02000427246094, \"Low\": 143.64999389648438, \"Open\": 144.75}, {\"Date\": \"2020-04-21T00:00:00\", \"Close\": 141.6300048828125, \"High\": 142.77000427246094, \"Low\": 140.5, \"Open\": 142.25}, {\"Date\": \"2020-04-22T00:00:00\", \"Close\": 143.61000061035156, \"High\": 144.47999572753906, \"Low\": 141.7100067138672, \"Open\": 143.36000061035156}, {\"Date\": \"2020-04-23T00:00:00\", \"Close\": 144.3300018310547, \"High\": 147.5800018310547, \"Low\": 143.8800048828125, \"Open\": 144.5800018310547}, {\"Date\": \"2020-04-24T00:00:00\", \"Close\": 147.0, \"High\": 147.33999633789062, \"Low\": 144.30999755859375, \"Open\": 145.1699981689453}, {\"Date\": \"2020-04-27T00:00:00\", \"Close\": 153.64999389648438, \"High\": 154.49000549316406, \"Low\": 147.88999938964844, \"Open\": 148.0}, {\"Date\": \"2020-04-28T00:00:00\", \"Close\": 157.61000061035156, \"High\": 163.0800018310547, \"Low\": 155.1999969482422, \"Open\": 160.02999877929688}, {\"Date\": \"2020-04-29T00:00:00\", \"Close\": 156.25999450683594, \"High\": 160.22000122070312, \"Low\": 155.1699981689453, \"Open\": 158.5399932861328}, {\"Date\": \"2020-04-30T00:00:00\", \"Close\": 151.9199981689453, \"High\": 154.94000244140625, \"Low\": 151.75, \"Open\": 154.30999755859375}, {\"Date\": \"2020-05-01T00:00:00\", \"Close\": 148.60000610351562, \"High\": 150.0399932861328, \"Low\": 147.72999572753906, \"Open\": 149.3000030517578}, {\"Date\": \"2020-05-04T00:00:00\", \"Close\": 148.39999389648438, \"High\": 148.55999755859375, \"Low\": 146.05999755859375, \"Open\": 148.5399932861328}, {\"Date\": \"2020-05-05T00:00:00\", \"Close\": 147.42999267578125, \"High\": 150.0, \"Low\": 147.10000610351562, \"Open\": 149.88999938964844}, {\"Date\": \"2020-05-06T00:00:00\", \"Close\": 146.1999969482422, \"High\": 148.1699981689453, \"Low\": 145.99000549316406, \"Open\": 147.7899932861328}, {\"Date\": \"2020-05-07T00:00:00\", \"Close\": 145.74000549316406, \"High\": 147.85000610351562, \"Low\": 144.89999389648438, \"Open\": 147.6999969482422}, {\"Date\": \"2020-05-08T00:00:00\", \"Close\": 148.50999450683594, \"High\": 149.17999267578125, \"Low\": 146.3800048828125, \"Open\": 147.0800018310547}]}}, {\"mode\": \"vega-lite\"});\n",
       "</script>"
      ],
      "text/plain": [
       "alt.LayerChart(...)"
      ]
     },
     "execution_count": 22,
     "metadata": {},
     "output_type": "execute_result"
    }
   ],
   "source": [
    "mmm = rawdata.loc[:, idx['Close':'Open', 'MMM']].droplevel('Symbol', axis=1).tail(60)\n",
    "\n",
    "import altair as alt\n",
    "\n",
    "open_close_color = alt.condition(\n",
    "    \"datum.Open <= datum.Close\",\n",
    "    alt.value(\"#06982d\"), # green for increase\n",
    "    alt.value(\"#ae1325\"), # red for decrease\n",
    ") \n",
    "\n",
    "base = alt.Chart(mmm.reset_index()).encode(\n",
    "    alt.X('Date:T',\n",
    "          axis=alt.Axis(\n",
    "              format='%m-%d-%Y',\n",
    "              labelAngle=-90)\n",
    "    ),\n",
    "    color=open_close_color\n",
    ")\n",
    "\n",
    "rule = base.mark_rule().encode(\n",
    "    alt.Y(\n",
    "        'Low:Q',\n",
    "        title='Price',\n",
    "        scale=alt.Scale(zero=False),\n",
    "    ),\n",
    "    alt.Y2('High:Q')\n",
    ")\n",
    "\n",
    "bar = base.mark_bar().encode(\n",
    "    alt.Y('Open:Q'),\n",
    "    alt.Y2('Close:Q')\n",
    ")\n",
    "\n",
    "rule + bar"
   ]
  },
  {
   "cell_type": "markdown",
   "metadata": {
    "slideshow": {
     "slide_type": "subslide"
    }
   },
   "source": [
    "### Example Figure: Adjusted close prices"
   ]
  },
  {
   "cell_type": "code",
   "execution_count": 23,
   "metadata": {
    "slideshow": {
     "slide_type": "-"
    }
   },
   "outputs": [
    {
     "data": {
      "text/html": [
       "<div>\n",
       "<style scoped>\n",
       "    .dataframe tbody tr th:only-of-type {\n",
       "        vertical-align: middle;\n",
       "    }\n",
       "\n",
       "    .dataframe tbody tr th {\n",
       "        vertical-align: top;\n",
       "    }\n",
       "\n",
       "    .dataframe thead tr th {\n",
       "        text-align: left;\n",
       "    }\n",
       "\n",
       "    .dataframe thead tr:last-of-type th {\n",
       "        text-align: right;\n",
       "    }\n",
       "</style>\n",
       "<table border=\"1\" class=\"dataframe\">\n",
       "  <thead>\n",
       "    <tr>\n",
       "      <th>Value</th>\n",
       "      <th colspan=\"5\" halign=\"left\">Adj Close</th>\n",
       "    </tr>\n",
       "    <tr>\n",
       "      <th>Symbol</th>\n",
       "      <th>JNJ</th>\n",
       "      <th>MMM</th>\n",
       "      <th>MRK</th>\n",
       "      <th>PFE</th>\n",
       "      <th>PG</th>\n",
       "    </tr>\n",
       "    <tr>\n",
       "      <th>Date</th>\n",
       "      <th></th>\n",
       "      <th></th>\n",
       "      <th></th>\n",
       "      <th></th>\n",
       "      <th></th>\n",
       "    </tr>\n",
       "  </thead>\n",
       "  <tbody>\n",
       "    <tr>\n",
       "      <th>2020-02-13</th>\n",
       "      <td>149.138992</td>\n",
       "      <td>159.759995</td>\n",
       "      <td>81.298386</td>\n",
       "      <td>36.565590</td>\n",
       "      <td>124.132164</td>\n",
       "    </tr>\n",
       "    <tr>\n",
       "      <th>2020-02-14</th>\n",
       "      <td>149.178741</td>\n",
       "      <td>161.009995</td>\n",
       "      <td>81.972816</td>\n",
       "      <td>36.149734</td>\n",
       "      <td>125.304344</td>\n",
       "    </tr>\n",
       "    <tr>\n",
       "      <th>2020-02-18</th>\n",
       "      <td>148.195007</td>\n",
       "      <td>158.880005</td>\n",
       "      <td>81.784370</td>\n",
       "      <td>35.961609</td>\n",
       "      <td>124.042763</td>\n",
       "    </tr>\n",
       "    <tr>\n",
       "      <th>2020-02-19</th>\n",
       "      <td>147.996277</td>\n",
       "      <td>159.339996</td>\n",
       "      <td>81.328140</td>\n",
       "      <td>35.872498</td>\n",
       "      <td>124.608986</td>\n",
       "    </tr>\n",
       "    <tr>\n",
       "      <th>2020-02-20</th>\n",
       "      <td>147.429886</td>\n",
       "      <td>158.559998</td>\n",
       "      <td>81.814125</td>\n",
       "      <td>35.496246</td>\n",
       "      <td>125.741432</td>\n",
       "    </tr>\n",
       "  </tbody>\n",
       "</table>\n",
       "</div>"
      ],
      "text/plain": [
       "Value        Adj Close                                              \n",
       "Symbol             JNJ         MMM        MRK        PFE          PG\n",
       "Date                                                                \n",
       "2020-02-13  149.138992  159.759995  81.298386  36.565590  124.132164\n",
       "2020-02-14  149.178741  161.009995  81.972816  36.149734  125.304344\n",
       "2020-02-18  148.195007  158.880005  81.784370  35.961609  124.042763\n",
       "2020-02-19  147.996277  159.339996  81.328140  35.872498  124.608986\n",
       "2020-02-20  147.429886  158.559998  81.814125  35.496246  125.741432"
      ]
     },
     "execution_count": 23,
     "metadata": {},
     "output_type": "execute_result"
    }
   ],
   "source": [
    "first10 = rawdata.loc[:, idx['Adj Close', ['MMM', 'MRK', 'PFE', 'PG', 'UNH', 'JNJ']]].tail(60)\n",
    "first10.head()"
   ]
  },
  {
   "cell_type": "markdown",
   "metadata": {
    "slideshow": {
     "slide_type": "subslide"
    }
   },
   "source": [
    "* Stacking transforms data into long-format:  \n",
    "    _Note: unstack does the opposite_"
   ]
  },
  {
   "cell_type": "code",
   "execution_count": 24,
   "metadata": {
    "slideshow": {
     "slide_type": "-"
    }
   },
   "outputs": [
    {
     "data": {
      "text/html": [
       "<div>\n",
       "<style scoped>\n",
       "    .dataframe tbody tr th:only-of-type {\n",
       "        vertical-align: middle;\n",
       "    }\n",
       "\n",
       "    .dataframe tbody tr th {\n",
       "        vertical-align: top;\n",
       "    }\n",
       "\n",
       "    .dataframe thead th {\n",
       "        text-align: right;\n",
       "    }\n",
       "</style>\n",
       "<table border=\"1\" class=\"dataframe\">\n",
       "  <thead>\n",
       "    <tr style=\"text-align: right;\">\n",
       "      <th></th>\n",
       "      <th>Value</th>\n",
       "      <th>Adj Close</th>\n",
       "    </tr>\n",
       "    <tr>\n",
       "      <th>Date</th>\n",
       "      <th>Symbol</th>\n",
       "      <th></th>\n",
       "    </tr>\n",
       "  </thead>\n",
       "  <tbody>\n",
       "    <tr>\n",
       "      <th rowspan=\"5\" valign=\"top\">2020-02-13</th>\n",
       "      <th>JNJ</th>\n",
       "      <td>149.138992</td>\n",
       "    </tr>\n",
       "    <tr>\n",
       "      <th>MMM</th>\n",
       "      <td>159.759995</td>\n",
       "    </tr>\n",
       "    <tr>\n",
       "      <th>MRK</th>\n",
       "      <td>81.298386</td>\n",
       "    </tr>\n",
       "    <tr>\n",
       "      <th>PFE</th>\n",
       "      <td>36.565590</td>\n",
       "    </tr>\n",
       "    <tr>\n",
       "      <th>PG</th>\n",
       "      <td>124.132164</td>\n",
       "    </tr>\n",
       "    <tr>\n",
       "      <th>...</th>\n",
       "      <th>...</th>\n",
       "      <td>...</td>\n",
       "    </tr>\n",
       "    <tr>\n",
       "      <th rowspan=\"5\" valign=\"top\">2020-05-08</th>\n",
       "      <th>JNJ</th>\n",
       "      <td>148.699997</td>\n",
       "    </tr>\n",
       "    <tr>\n",
       "      <th>MMM</th>\n",
       "      <td>148.509995</td>\n",
       "    </tr>\n",
       "    <tr>\n",
       "      <th>MRK</th>\n",
       "      <td>76.400002</td>\n",
       "    </tr>\n",
       "    <tr>\n",
       "      <th>PFE</th>\n",
       "      <td>37.220001</td>\n",
       "    </tr>\n",
       "    <tr>\n",
       "      <th>PG</th>\n",
       "      <td>115.949997</td>\n",
       "    </tr>\n",
       "  </tbody>\n",
       "</table>\n",
       "<p>300 rows × 1 columns</p>\n",
       "</div>"
      ],
      "text/plain": [
       "Value               Adj Close\n",
       "Date       Symbol            \n",
       "2020-02-13 JNJ     149.138992\n",
       "           MMM     159.759995\n",
       "           MRK      81.298386\n",
       "           PFE      36.565590\n",
       "           PG      124.132164\n",
       "...                       ...\n",
       "2020-05-08 JNJ     148.699997\n",
       "           MMM     148.509995\n",
       "           MRK      76.400002\n",
       "           PFE      37.220001\n",
       "           PG      115.949997\n",
       "\n",
       "[300 rows x 1 columns]"
      ]
     },
     "execution_count": 24,
     "metadata": {},
     "output_type": "execute_result"
    }
   ],
   "source": [
    "healthcare = first10.stack('Symbol')\n",
    "healthcare"
   ]
  },
  {
   "cell_type": "code",
   "execution_count": 25,
   "metadata": {
    "slideshow": {
     "slide_type": "subslide"
    }
   },
   "outputs": [
    {
     "data": {
      "text/html": [
       "\n",
       "<div id=\"altair-viz-4481ffa086f347ef979d6c1d96187a0d\"></div>\n",
       "<script type=\"text/javascript\">\n",
       "  (function(spec, embedOpt){\n",
       "    let outputDiv = document.currentScript.previousElementSibling;\n",
       "    if (outputDiv.id !== \"altair-viz-4481ffa086f347ef979d6c1d96187a0d\") {\n",
       "      outputDiv = document.getElementById(\"altair-viz-4481ffa086f347ef979d6c1d96187a0d\");\n",
       "    }\n",
       "    const paths = {\n",
       "      \"vega\": \"https://cdn.jsdelivr.net/npm//vega@5?noext\",\n",
       "      \"vega-lib\": \"https://cdn.jsdelivr.net/npm//vega-lib?noext\",\n",
       "      \"vega-lite\": \"https://cdn.jsdelivr.net/npm//vega-lite@4.8.1?noext\",\n",
       "      \"vega-embed\": \"https://cdn.jsdelivr.net/npm//vega-embed@6?noext\",\n",
       "    };\n",
       "\n",
       "    function loadScript(lib) {\n",
       "      return new Promise(function(resolve, reject) {\n",
       "        var s = document.createElement('script');\n",
       "        s.src = paths[lib];\n",
       "        s.async = true;\n",
       "        s.onload = () => resolve(paths[lib]);\n",
       "        s.onerror = () => reject(`Error loading script: ${paths[lib]}`);\n",
       "        document.getElementsByTagName(\"head\")[0].appendChild(s);\n",
       "      });\n",
       "    }\n",
       "\n",
       "    function showError(err) {\n",
       "      outputDiv.innerHTML = `<div class=\"error\" style=\"color:red;\">${err}</div>`;\n",
       "      throw err;\n",
       "    }\n",
       "\n",
       "    function displayChart(vegaEmbed) {\n",
       "      vegaEmbed(outputDiv, spec, embedOpt)\n",
       "        .catch(err => showError(`Javascript Error: ${err.message}<br>This usually means there's a typo in your chart specification. See the javascript console for the full traceback.`));\n",
       "    }\n",
       "\n",
       "    if(typeof define === \"function\" && define.amd) {\n",
       "      requirejs.config({paths});\n",
       "      require([\"vega-embed\"], displayChart, err => showError(`Error loading script: ${err.message}`));\n",
       "    } else if (typeof vegaEmbed === \"function\") {\n",
       "      displayChart(vegaEmbed);\n",
       "    } else {\n",
       "      loadScript(\"vega\")\n",
       "        .then(() => loadScript(\"vega-lite\"))\n",
       "        .then(() => loadScript(\"vega-embed\"))\n",
       "        .catch(showError)\n",
       "        .then(() => displayChart(vegaEmbed));\n",
       "    }\n",
       "  })({\"config\": {\"view\": {\"continuousWidth\": 400, \"continuousHeight\": 300}}, \"data\": {\"name\": \"data-b8b0f7ff92ed249a734280e9120f95ad\"}, \"mark\": \"line\", \"encoding\": {\"color\": {\"type\": \"nominal\", \"field\": \"Symbol\"}, \"x\": {\"type\": \"temporal\", \"axis\": {\"format\": \"%m-%d-%Y\", \"labelAngle\": -90}, \"field\": \"Date\"}, \"y\": {\"type\": \"quantitative\", \"field\": \"Adj Close\"}}, \"$schema\": \"https://vega.github.io/schema/vega-lite/v4.8.1.json\", \"datasets\": {\"data-b8b0f7ff92ed249a734280e9120f95ad\": [{\"Date\": \"2020-02-13T00:00:00\", \"Symbol\": \"JNJ\", \"Adj Close\": 149.1389923095703}, {\"Date\": \"2020-02-13T00:00:00\", \"Symbol\": \"MMM\", \"Adj Close\": 159.75999450683594}, {\"Date\": \"2020-02-13T00:00:00\", \"Symbol\": \"MRK\", \"Adj Close\": 81.29838562011719}, {\"Date\": \"2020-02-13T00:00:00\", \"Symbol\": \"PFE\", \"Adj Close\": 36.565589904785156}, {\"Date\": \"2020-02-13T00:00:00\", \"Symbol\": \"PG\", \"Adj Close\": 124.13216400146484}, {\"Date\": \"2020-02-14T00:00:00\", \"Symbol\": \"JNJ\", \"Adj Close\": 149.17874145507812}, {\"Date\": \"2020-02-14T00:00:00\", \"Symbol\": \"MMM\", \"Adj Close\": 161.00999450683594}, {\"Date\": \"2020-02-14T00:00:00\", \"Symbol\": \"MRK\", \"Adj Close\": 81.97281646728516}, {\"Date\": \"2020-02-14T00:00:00\", \"Symbol\": \"PFE\", \"Adj Close\": 36.14973449707031}, {\"Date\": \"2020-02-14T00:00:00\", \"Symbol\": \"PG\", \"Adj Close\": 125.3043441772461}, {\"Date\": \"2020-02-18T00:00:00\", \"Symbol\": \"JNJ\", \"Adj Close\": 148.19500732421875}, {\"Date\": \"2020-02-18T00:00:00\", \"Symbol\": \"MMM\", \"Adj Close\": 158.8800048828125}, {\"Date\": \"2020-02-18T00:00:00\", \"Symbol\": \"MRK\", \"Adj Close\": 81.78437042236328}, {\"Date\": \"2020-02-18T00:00:00\", \"Symbol\": \"PFE\", \"Adj Close\": 35.96160888671875}, {\"Date\": \"2020-02-18T00:00:00\", \"Symbol\": \"PG\", \"Adj Close\": 124.04276275634766}, {\"Date\": \"2020-02-19T00:00:00\", \"Symbol\": \"JNJ\", \"Adj Close\": 147.99627685546875}, {\"Date\": \"2020-02-19T00:00:00\", \"Symbol\": \"MMM\", \"Adj Close\": 159.33999633789062}, {\"Date\": \"2020-02-19T00:00:00\", \"Symbol\": \"MRK\", \"Adj Close\": 81.32814025878906}, {\"Date\": \"2020-02-19T00:00:00\", \"Symbol\": \"PFE\", \"Adj Close\": 35.87249755859375}, {\"Date\": \"2020-02-19T00:00:00\", \"Symbol\": \"PG\", \"Adj Close\": 124.6089859008789}, {\"Date\": \"2020-02-20T00:00:00\", \"Symbol\": \"JNJ\", \"Adj Close\": 147.4298858642578}, {\"Date\": \"2020-02-20T00:00:00\", \"Symbol\": \"MMM\", \"Adj Close\": 158.55999755859375}, {\"Date\": \"2020-02-20T00:00:00\", \"Symbol\": \"MRK\", \"Adj Close\": 81.81412506103516}, {\"Date\": \"2020-02-20T00:00:00\", \"Symbol\": \"PFE\", \"Adj Close\": 35.496246337890625}, {\"Date\": \"2020-02-20T00:00:00\", \"Symbol\": \"PG\", \"Adj Close\": 125.7414321899414}, {\"Date\": \"2020-02-21T00:00:00\", \"Symbol\": \"JNJ\", \"Adj Close\": 148.97999572753906}, {\"Date\": \"2020-02-21T00:00:00\", \"Symbol\": \"MMM\", \"Adj Close\": 156.92999267578125}, {\"Date\": \"2020-02-21T00:00:00\", \"Symbol\": \"MRK\", \"Adj Close\": 81.66535186767578}, {\"Date\": \"2020-02-21T00:00:00\", \"Symbol\": \"PFE\", \"Adj Close\": 35.367530822753906}, {\"Date\": \"2020-02-21T00:00:00\", \"Symbol\": \"PG\", \"Adj Close\": 125.86063385009766}, {\"Date\": \"2020-02-24T00:00:00\", \"Symbol\": \"JNJ\", \"Adj Close\": 145.91000366210938}, {\"Date\": \"2020-02-24T00:00:00\", \"Symbol\": \"MMM\", \"Adj Close\": 152.5500030517578}, {\"Date\": \"2020-02-24T00:00:00\", \"Symbol\": \"MRK\", \"Adj Close\": 80.66362762451172}, {\"Date\": \"2020-02-24T00:00:00\", \"Symbol\": \"PFE\", \"Adj Close\": 34.32788848876953}, {\"Date\": \"2020-02-24T00:00:00\", \"Symbol\": \"PG\", \"Adj Close\": 122.48316192626953}, {\"Date\": \"2020-02-25T00:00:00\", \"Symbol\": \"JNJ\", \"Adj Close\": 144.64999389648438}, {\"Date\": \"2020-02-25T00:00:00\", \"Symbol\": \"MMM\", \"Adj Close\": 146.85000610351562}, {\"Date\": \"2020-02-25T00:00:00\", \"Symbol\": \"MRK\", \"Adj Close\": 79.61231231689453}, {\"Date\": \"2020-02-25T00:00:00\", \"Symbol\": \"PFE\", \"Adj Close\": 33.59519577026367}, {\"Date\": \"2020-02-25T00:00:00\", \"Symbol\": \"PG\", \"Adj Close\": 120.62554931640625}, {\"Date\": \"2020-02-26T00:00:00\", \"Symbol\": \"JNJ\", \"Adj Close\": 143.67999267578125}, {\"Date\": \"2020-02-26T00:00:00\", \"Symbol\": \"MMM\", \"Adj Close\": 148.9600067138672}, {\"Date\": \"2020-02-26T00:00:00\", \"Symbol\": \"MRK\", \"Adj Close\": 79.28501892089844}, {\"Date\": \"2020-02-26T00:00:00\", \"Symbol\": \"PFE\", \"Adj Close\": 34.37739944458008}, {\"Date\": \"2020-02-26T00:00:00\", \"Symbol\": \"PG\", \"Adj Close\": 119.36396789550781}, {\"Date\": \"2020-02-27T00:00:00\", \"Symbol\": \"JNJ\", \"Adj Close\": 139.1199951171875}, {\"Date\": \"2020-02-27T00:00:00\", \"Symbol\": \"MMM\", \"Adj Close\": 150.16000366210938}, {\"Date\": \"2020-02-27T00:00:00\", \"Symbol\": \"MRK\", \"Adj Close\": 77.44026184082031}, {\"Date\": \"2020-02-27T00:00:00\", \"Symbol\": \"PFE\", \"Adj Close\": 33.76351547241211}, {\"Date\": \"2020-02-27T00:00:00\", \"Symbol\": \"PG\", \"Adj Close\": 112.74808502197266}, {\"Date\": \"2020-02-28T00:00:00\", \"Symbol\": \"JNJ\", \"Adj Close\": 134.47999572753906}, {\"Date\": \"2020-02-28T00:00:00\", \"Symbol\": \"MMM\", \"Adj Close\": 149.24000549316406}, {\"Date\": \"2020-02-28T00:00:00\", \"Symbol\": \"MRK\", \"Adj Close\": 75.93270874023438}, {\"Date\": \"2020-02-28T00:00:00\", \"Symbol\": \"PFE\", \"Adj Close\": 33.09022521972656}, {\"Date\": \"2020-02-28T00:00:00\", \"Symbol\": \"PG\", \"Adj Close\": 112.47987365722656}, {\"Date\": \"2020-03-02T00:00:00\", \"Symbol\": \"JNJ\", \"Adj Close\": 140.02000427246094}, {\"Date\": \"2020-03-02T00:00:00\", \"Symbol\": \"MMM\", \"Adj Close\": 153.02000427246094}, {\"Date\": \"2020-03-02T00:00:00\", \"Symbol\": \"MRK\", \"Adj Close\": 80.70330047607422}, {\"Date\": \"2020-03-02T00:00:00\", \"Symbol\": \"PFE\", \"Adj Close\": 34.53582000732422}, {\"Date\": \"2020-03-02T00:00:00\", \"Symbol\": \"PG\", \"Adj Close\": 118.76793670654297}, {\"Date\": \"2020-03-03T00:00:00\", \"Symbol\": \"JNJ\", \"Adj Close\": 135.58999633789062}, {\"Date\": \"2020-03-03T00:00:00\", \"Symbol\": \"MMM\", \"Adj Close\": 145.24000549316406}, {\"Date\": \"2020-03-03T00:00:00\", \"Symbol\": \"MRK\", \"Adj Close\": 78.48165130615234}, {\"Date\": \"2020-03-03T00:00:00\", \"Symbol\": \"PFE\", \"Adj Close\": 33.961544036865234}, {\"Date\": \"2020-03-03T00:00:00\", \"Symbol\": \"PG\", \"Adj Close\": 117.38714599609375}, {\"Date\": \"2020-03-04T00:00:00\", \"Symbol\": \"JNJ\", \"Adj Close\": 143.47999572753906}, {\"Date\": \"2020-03-04T00:00:00\", \"Symbol\": \"MMM\", \"Adj Close\": 153.97999572753906}, {\"Date\": \"2020-03-04T00:00:00\", \"Symbol\": \"MRK\", \"Adj Close\": 82.29019165039062}, {\"Date\": \"2020-03-04T00:00:00\", \"Symbol\": \"PFE\", \"Adj Close\": 36.04082107543945}, {\"Date\": \"2020-03-04T00:00:00\", \"Symbol\": \"PG\", \"Adj Close\": 123.67520904541016}, {\"Date\": \"2020-03-05T00:00:00\", \"Symbol\": \"JNJ\", \"Adj Close\": 142.00999450683594}, {\"Date\": \"2020-03-05T00:00:00\", \"Symbol\": \"MMM\", \"Adj Close\": 151.41000366210938}, {\"Date\": \"2020-03-05T00:00:00\", \"Symbol\": \"MRK\", \"Adj Close\": 80.91158294677734}, {\"Date\": \"2020-03-05T00:00:00\", \"Symbol\": \"PFE\", \"Adj Close\": 35.1100959777832}, {\"Date\": \"2020-03-05T00:00:00\", \"Symbol\": \"PG\", \"Adj Close\": 120.82421875}, {\"Date\": \"2020-03-06T00:00:00\", \"Symbol\": \"JNJ\", \"Adj Close\": 142.02999877929688}, {\"Date\": \"2020-03-06T00:00:00\", \"Symbol\": \"MMM\", \"Adj Close\": 153.64999389648438}, {\"Date\": \"2020-03-06T00:00:00\", \"Symbol\": \"MRK\", \"Adj Close\": 81.52649688720703}, {\"Date\": \"2020-03-06T00:00:00\", \"Symbol\": \"PFE\", \"Adj Close\": 34.6744384765625}, {\"Date\": \"2020-03-06T00:00:00\", \"Symbol\": \"PG\", \"Adj Close\": 120.8540267944336}, {\"Date\": \"2020-03-09T00:00:00\", \"Symbol\": \"JNJ\", \"Adj Close\": 136.44000244140625}, {\"Date\": \"2020-03-09T00:00:00\", \"Symbol\": \"MMM\", \"Adj Close\": 144.05999755859375}, {\"Date\": \"2020-03-09T00:00:00\", \"Symbol\": \"MRK\", \"Adj Close\": 78.31304931640625}, {\"Date\": \"2020-03-09T00:00:00\", \"Symbol\": \"PFE\", \"Adj Close\": 33.4268684387207}, {\"Date\": \"2020-03-09T00:00:00\", \"Symbol\": \"PG\", \"Adj Close\": 115.29112243652344}, {\"Date\": \"2020-03-10T00:00:00\", \"Symbol\": \"JNJ\", \"Adj Close\": 141.63999938964844}, {\"Date\": \"2020-03-10T00:00:00\", \"Symbol\": \"MMM\", \"Adj Close\": 153.3000030517578}, {\"Date\": \"2020-03-10T00:00:00\", \"Symbol\": \"MRK\", \"Adj Close\": 81.34796905517578}, {\"Date\": \"2020-03-10T00:00:00\", \"Symbol\": \"PFE\", \"Adj Close\": 34.248680114746094}, {\"Date\": \"2020-03-10T00:00:00\", \"Symbol\": \"PG\", \"Adj Close\": 119.75138092041016}, {\"Date\": \"2020-03-11T00:00:00\", \"Symbol\": \"JNJ\", \"Adj Close\": 131.8000030517578}, {\"Date\": \"2020-03-11T00:00:00\", \"Symbol\": \"MMM\", \"Adj Close\": 147.24000549316406}, {\"Date\": \"2020-03-11T00:00:00\", \"Symbol\": \"MRK\", \"Adj Close\": 78.60066986083984}, {\"Date\": \"2020-03-11T00:00:00\", \"Symbol\": \"PFE\", \"Adj Close\": 31.85256004333496}, {\"Date\": \"2020-03-11T00:00:00\", \"Symbol\": \"PG\", \"Adj Close\": 110.8507308959961}, {\"Date\": \"2020-03-12T00:00:00\", \"Symbol\": \"JNJ\", \"Adj Close\": 125.41000366210938}, {\"Date\": \"2020-03-12T00:00:00\", \"Symbol\": \"MMM\", \"Adj Close\": 133.5800018310547}, {\"Date\": \"2020-03-12T00:00:00\", \"Symbol\": \"MRK\", \"Adj Close\": 73.83999633789062}, {\"Date\": \"2020-03-12T00:00:00\", \"Symbol\": \"PFE\", \"Adj Close\": 29.72377586364746}, {\"Date\": \"2020-03-12T00:00:00\", \"Symbol\": \"PG\", \"Adj Close\": 101.16532135009766}, {\"Date\": \"2020-03-13T00:00:00\", \"Symbol\": \"JNJ\", \"Adj Close\": 134.2899932861328}, {\"Date\": \"2020-03-13T00:00:00\", \"Symbol\": \"MMM\", \"Adj Close\": 141.67999267578125}, {\"Date\": \"2020-03-13T00:00:00\", \"Symbol\": \"MRK\", \"Adj Close\": 76.75}, {\"Date\": \"2020-03-13T00:00:00\", \"Symbol\": \"PFE\", \"Adj Close\": 32.387229919433594}, {\"Date\": \"2020-03-13T00:00:00\", \"Symbol\": \"PG\", \"Adj Close\": 113.3143081665039}, {\"Date\": \"2020-03-16T00:00:00\", \"Symbol\": \"JNJ\", \"Adj Close\": 127.12999725341797}, {\"Date\": \"2020-03-16T00:00:00\", \"Symbol\": \"MMM\", \"Adj Close\": 130.91000366210938}, {\"Date\": \"2020-03-16T00:00:00\", \"Symbol\": \"MRK\", \"Adj Close\": 69.91999816894531}, {\"Date\": \"2020-03-16T00:00:00\", \"Symbol\": \"PFE\", \"Adj Close\": 29.882198333740234}, {\"Date\": \"2020-03-16T00:00:00\", \"Symbol\": \"PG\", \"Adj Close\": 107.78120422363281}, {\"Date\": \"2020-03-17T00:00:00\", \"Symbol\": \"JNJ\", \"Adj Close\": 136.58999633789062}, {\"Date\": \"2020-03-17T00:00:00\", \"Symbol\": \"MMM\", \"Adj Close\": 134.44000244140625}, {\"Date\": \"2020-03-17T00:00:00\", \"Symbol\": \"MRK\", \"Adj Close\": 74.4800033569336}, {\"Date\": \"2020-03-17T00:00:00\", \"Symbol\": \"PFE\", \"Adj Close\": 31.84265899658203}, {\"Date\": \"2020-03-17T00:00:00\", \"Symbol\": \"PG\", \"Adj Close\": 117.45668029785156}, {\"Date\": \"2020-03-18T00:00:00\", \"Symbol\": \"JNJ\", \"Adj Close\": 134.9600067138672}, {\"Date\": \"2020-03-18T00:00:00\", \"Symbol\": \"MMM\", \"Adj Close\": 137.02000427246094}, {\"Date\": \"2020-03-18T00:00:00\", \"Symbol\": \"MRK\", \"Adj Close\": 71.62999725341797}, {\"Date\": \"2020-03-18T00:00:00\", \"Symbol\": \"PFE\", \"Adj Close\": 32.040687561035156}, {\"Date\": \"2020-03-18T00:00:00\", \"Symbol\": \"PG\", \"Adj Close\": 116.67191314697266}, {\"Date\": \"2020-03-19T00:00:00\", \"Symbol\": \"JNJ\", \"Adj Close\": 127.05000305175781}, {\"Date\": \"2020-03-19T00:00:00\", \"Symbol\": \"MMM\", \"Adj Close\": 137.50999450683594}, {\"Date\": \"2020-03-19T00:00:00\", \"Symbol\": \"MRK\", \"Adj Close\": 70.7300033569336}, {\"Date\": \"2020-03-19T00:00:00\", \"Symbol\": \"PFE\", \"Adj Close\": 30.119829177856445}, {\"Date\": \"2020-03-19T00:00:00\", \"Symbol\": \"PG\", \"Adj Close\": 110.09577178955078}, {\"Date\": \"2020-03-20T00:00:00\", \"Symbol\": \"JNJ\", \"Adj Close\": 119.88999938964844}, {\"Date\": \"2020-03-20T00:00:00\", \"Symbol\": \"MMM\", \"Adj Close\": 124.88999938964844}, {\"Date\": \"2020-03-20T00:00:00\", \"Symbol\": \"MRK\", \"Adj Close\": 71.36000061035156}, {\"Date\": \"2020-03-20T00:00:00\", \"Symbol\": \"PFE\", \"Adj Close\": 28.723743438720703}, {\"Date\": \"2020-03-20T00:00:00\", \"Symbol\": \"PG\", \"Adj Close\": 101.75141906738281}, {\"Date\": \"2020-03-23T00:00:00\", \"Symbol\": \"JNJ\", \"Adj Close\": 111.13999938964844}, {\"Date\": \"2020-03-23T00:00:00\", \"Symbol\": \"MMM\", \"Adj Close\": 117.87000274658203}, {\"Date\": \"2020-03-23T00:00:00\", \"Symbol\": \"MRK\", \"Adj Close\": 66.4000015258789}, {\"Date\": \"2020-03-23T00:00:00\", \"Symbol\": \"PFE\", \"Adj Close\": 28.208873748779297}, {\"Date\": \"2020-03-23T00:00:00\", \"Symbol\": \"PG\", \"Adj Close\": 97.05274963378906}, {\"Date\": \"2020-03-24T00:00:00\", \"Symbol\": \"JNJ\", \"Adj Close\": 119.18000030517578}, {\"Date\": \"2020-03-24T00:00:00\", \"Symbol\": \"MMM\", \"Adj Close\": 132.72000122070312}, {\"Date\": \"2020-03-24T00:00:00\", \"Symbol\": \"MRK\", \"Adj Close\": 69.05000305175781}, {\"Date\": \"2020-03-24T00:00:00\", \"Symbol\": \"PFE\", \"Adj Close\": 29.40693473815918}, {\"Date\": \"2020-03-24T00:00:00\", \"Symbol\": \"PG\", \"Adj Close\": 102.58585357666016}, {\"Date\": \"2020-03-25T00:00:00\", \"Symbol\": \"JNJ\", \"Adj Close\": 119.4000015258789}, {\"Date\": \"2020-03-25T00:00:00\", \"Symbol\": \"MMM\", \"Adj Close\": 131.5399932861328}, {\"Date\": \"2020-03-25T00:00:00\", \"Symbol\": \"MRK\", \"Adj Close\": 68.22000122070312}, {\"Date\": \"2020-03-25T00:00:00\", \"Symbol\": \"PFE\", \"Adj Close\": 29.456439971923828}, {\"Date\": \"2020-03-25T00:00:00\", \"Symbol\": \"PG\", \"Adj Close\": 100.25141906738281}, {\"Date\": \"2020-03-26T00:00:00\", \"Symbol\": \"JNJ\", \"Adj Close\": 126.56999969482422}, {\"Date\": \"2020-03-26T00:00:00\", \"Symbol\": \"MMM\", \"Adj Close\": 136.17999267578125}, {\"Date\": \"2020-03-26T00:00:00\", \"Symbol\": \"MRK\", \"Adj Close\": 73.52999877929688}, {\"Date\": \"2020-03-26T00:00:00\", \"Symbol\": \"PFE\", \"Adj Close\": 31.436704635620117}, {\"Date\": \"2020-03-26T00:00:00\", \"Symbol\": \"PG\", \"Adj Close\": 106.66862487792969}, {\"Date\": \"2020-03-27T00:00:00\", \"Symbol\": \"JNJ\", \"Adj Close\": 123.16000366210938}, {\"Date\": \"2020-03-27T00:00:00\", \"Symbol\": \"MMM\", \"Adj Close\": 133.24000549316406}, {\"Date\": \"2020-03-27T00:00:00\", \"Symbol\": \"MRK\", \"Adj Close\": 71.7300033569336}, {\"Date\": \"2020-03-27T00:00:00\", \"Symbol\": \"PFE\", \"Adj Close\": 30.5950927734375}, {\"Date\": \"2020-03-27T00:00:00\", \"Symbol\": \"PG\", \"Adj Close\": 109.44013977050781}, {\"Date\": \"2020-03-30T00:00:00\", \"Symbol\": \"JNJ\", \"Adj Close\": 133.00999450683594}, {\"Date\": \"2020-03-30T00:00:00\", \"Symbol\": \"MMM\", \"Adj Close\": 137.74000549316406}, {\"Date\": \"2020-03-30T00:00:00\", \"Symbol\": \"MRK\", \"Adj Close\": 76.94999694824219}, {\"Date\": \"2020-03-30T00:00:00\", \"Symbol\": \"PFE\", \"Adj Close\": 32.347625732421875}, {\"Date\": \"2020-03-30T00:00:00\", \"Symbol\": \"PG\", \"Adj Close\": 114.23814392089844}, {\"Date\": \"2020-03-31T00:00:00\", \"Symbol\": \"JNJ\", \"Adj Close\": 131.1300048828125}, {\"Date\": \"2020-03-31T00:00:00\", \"Symbol\": \"MMM\", \"Adj Close\": 136.50999450683594}, {\"Date\": \"2020-03-31T00:00:00\", \"Symbol\": \"MRK\", \"Adj Close\": 76.94000244140625}, {\"Date\": \"2020-03-31T00:00:00\", \"Symbol\": \"PFE\", \"Adj Close\": 32.31792449951172}, {\"Date\": \"2020-03-31T00:00:00\", \"Symbol\": \"PG\", \"Adj Close\": 109.27127075195312}, {\"Date\": \"2020-04-01T00:00:00\", \"Symbol\": \"JNJ\", \"Adj Close\": 128.80999755859375}, {\"Date\": \"2020-04-01T00:00:00\", \"Symbol\": \"MMM\", \"Adj Close\": 133.13999938964844}, {\"Date\": \"2020-04-01T00:00:00\", \"Symbol\": \"MRK\", \"Adj Close\": 73.80000305175781}, {\"Date\": \"2020-04-01T00:00:00\", \"Symbol\": \"PFE\", \"Adj Close\": 31.436704635620117}, {\"Date\": \"2020-04-01T00:00:00\", \"Symbol\": \"PG\", \"Adj Close\": 108.605712890625}, {\"Date\": \"2020-04-02T00:00:00\", \"Symbol\": \"JNJ\", \"Adj Close\": 133.14999389648438}, {\"Date\": \"2020-04-02T00:00:00\", \"Symbol\": \"MMM\", \"Adj Close\": 137.91000366210938}, {\"Date\": \"2020-04-02T00:00:00\", \"Symbol\": \"MRK\", \"Adj Close\": 76.87000274658203}, {\"Date\": \"2020-04-02T00:00:00\", \"Symbol\": \"PFE\", \"Adj Close\": 32.545654296875}, {\"Date\": \"2020-04-02T00:00:00\", \"Symbol\": \"PG\", \"Adj Close\": 113.64212036132812}, {\"Date\": \"2020-04-03T00:00:00\", \"Symbol\": \"JNJ\", \"Adj Close\": 134.1699981689453}, {\"Date\": \"2020-04-03T00:00:00\", \"Symbol\": \"MMM\", \"Adj Close\": 133.7899932861328}, {\"Date\": \"2020-04-03T00:00:00\", \"Symbol\": \"MRK\", \"Adj Close\": 76.25}, {\"Date\": \"2020-04-03T00:00:00\", \"Symbol\": \"PFE\", \"Adj Close\": 33.30805587768555}, {\"Date\": \"2020-04-03T00:00:00\", \"Symbol\": \"PG\", \"Adj Close\": 114.31761932373047}, {\"Date\": \"2020-04-06T00:00:00\", \"Symbol\": \"JNJ\", \"Adj Close\": 139.75999450683594}, {\"Date\": \"2020-04-06T00:00:00\", \"Symbol\": \"MMM\", \"Adj Close\": 140.6999969482422}, {\"Date\": \"2020-04-06T00:00:00\", \"Symbol\": \"MRK\", \"Adj Close\": 80.30999755859375}, {\"Date\": \"2020-04-06T00:00:00\", \"Symbol\": \"PFE\", \"Adj Close\": 34.228878021240234}, {\"Date\": \"2020-04-06T00:00:00\", \"Symbol\": \"PG\", \"Adj Close\": 117.02952575683594}, {\"Date\": \"2020-04-07T00:00:00\", \"Symbol\": \"JNJ\", \"Adj Close\": 137.47999572753906}, {\"Date\": \"2020-04-07T00:00:00\", \"Symbol\": \"MMM\", \"Adj Close\": 144.60000610351562}, {\"Date\": \"2020-04-07T00:00:00\", \"Symbol\": \"MRK\", \"Adj Close\": 78.55999755859375}, {\"Date\": \"2020-04-07T00:00:00\", \"Symbol\": \"PFE\", \"Adj Close\": 33.278350830078125}, {\"Date\": \"2020-04-07T00:00:00\", \"Symbol\": \"PG\", \"Adj Close\": 112.02291870117188}, {\"Date\": \"2020-04-08T00:00:00\", \"Symbol\": \"JNJ\", \"Adj Close\": 143.25999450683594}, {\"Date\": \"2020-04-08T00:00:00\", \"Symbol\": \"MMM\", \"Adj Close\": 148.99000549316406}, {\"Date\": \"2020-04-08T00:00:00\", \"Symbol\": \"MRK\", \"Adj Close\": 81.62000274658203}, {\"Date\": \"2020-04-08T00:00:00\", \"Symbol\": \"PFE\", \"Adj Close\": 34.258583068847656}, {\"Date\": \"2020-04-08T00:00:00\", \"Symbol\": \"PG\", \"Adj Close\": 114.33747863769531}, {\"Date\": \"2020-04-09T00:00:00\", \"Symbol\": \"JNJ\", \"Adj Close\": 141.22999572753906}, {\"Date\": \"2020-04-09T00:00:00\", \"Symbol\": \"MMM\", \"Adj Close\": 147.77999877929688}, {\"Date\": \"2020-04-09T00:00:00\", \"Symbol\": \"MRK\", \"Adj Close\": 82.48999786376953}, {\"Date\": \"2020-04-09T00:00:00\", \"Symbol\": \"PFE\", \"Adj Close\": 35.04078674316406}, {\"Date\": \"2020-04-09T00:00:00\", \"Symbol\": \"PG\", \"Adj Close\": 113.90039825439453}, {\"Date\": \"2020-04-13T00:00:00\", \"Symbol\": \"JNJ\", \"Adj Close\": 139.77000427246094}, {\"Date\": \"2020-04-13T00:00:00\", \"Symbol\": \"MMM\", \"Adj Close\": 146.39999389648438}, {\"Date\": \"2020-04-13T00:00:00\", \"Symbol\": \"MRK\", \"Adj Close\": 80.54000091552734}, {\"Date\": \"2020-04-13T00:00:00\", \"Symbol\": \"PFE\", \"Adj Close\": 34.79325485229492}, {\"Date\": \"2020-04-13T00:00:00\", \"Symbol\": \"PG\", \"Adj Close\": 115.18184661865234}, {\"Date\": \"2020-04-14T00:00:00\", \"Symbol\": \"JNJ\", \"Adj Close\": 146.02999877929688}, {\"Date\": \"2020-04-14T00:00:00\", \"Symbol\": \"MMM\", \"Adj Close\": 150.13999938964844}, {\"Date\": \"2020-04-14T00:00:00\", \"Symbol\": \"MRK\", \"Adj Close\": 82.83999633789062}, {\"Date\": \"2020-04-14T00:00:00\", \"Symbol\": \"PFE\", \"Adj Close\": 36.08042526245117}, {\"Date\": \"2020-04-14T00:00:00\", \"Symbol\": \"PG\", \"Adj Close\": 120.15866088867188}, {\"Date\": \"2020-04-15T00:00:00\", \"Symbol\": \"JNJ\", \"Adj Close\": 147.66000366210938}, {\"Date\": \"2020-04-15T00:00:00\", \"Symbol\": \"MMM\", \"Adj Close\": 145.16000366210938}, {\"Date\": \"2020-04-15T00:00:00\", \"Symbol\": \"MRK\", \"Adj Close\": 82.06999969482422}, {\"Date\": \"2020-04-15T00:00:00\", \"Symbol\": \"PFE\", \"Adj Close\": 35.61506652832031}, {\"Date\": \"2020-04-15T00:00:00\", \"Symbol\": \"PG\", \"Adj Close\": 120.41693878173828}, {\"Date\": \"2020-04-16T00:00:00\", \"Symbol\": \"JNJ\", \"Adj Close\": 149.6699981689453}, {\"Date\": \"2020-04-16T00:00:00\", \"Symbol\": \"MMM\", \"Adj Close\": 144.89999389648438}, {\"Date\": \"2020-04-16T00:00:00\", \"Symbol\": \"MRK\", \"Adj Close\": 83.0}, {\"Date\": \"2020-04-16T00:00:00\", \"Symbol\": \"PFE\", \"Adj Close\": 35.52595520019531}, {\"Date\": \"2020-04-16T00:00:00\", \"Symbol\": \"PG\", \"Adj Close\": 120.69508361816406}, {\"Date\": \"2020-04-17T00:00:00\", \"Symbol\": \"JNJ\", \"Adj Close\": 152.02000427246094}, {\"Date\": \"2020-04-17T00:00:00\", \"Symbol\": \"MMM\", \"Adj Close\": 146.4600067138672}, {\"Date\": \"2020-04-17T00:00:00\", \"Symbol\": \"MRK\", \"Adj Close\": 83.45999908447266}, {\"Date\": \"2020-04-17T00:00:00\", \"Symbol\": \"PFE\", \"Adj Close\": 36.5457878112793}, {\"Date\": \"2020-04-17T00:00:00\", \"Symbol\": \"PG\", \"Adj Close\": 123.86395263671875}, {\"Date\": \"2020-04-20T00:00:00\", \"Symbol\": \"JNJ\", \"Adj Close\": 151.6699981689453}, {\"Date\": \"2020-04-20T00:00:00\", \"Symbol\": \"MMM\", \"Adj Close\": 143.6699981689453}, {\"Date\": \"2020-04-20T00:00:00\", \"Symbol\": \"MRK\", \"Adj Close\": 83.0999984741211}, {\"Date\": \"2020-04-20T00:00:00\", \"Symbol\": \"PFE\", \"Adj Close\": 35.72397994995117}, {\"Date\": \"2020-04-20T00:00:00\", \"Symbol\": \"PG\", \"Adj Close\": 119.8010482788086}, {\"Date\": \"2020-04-21T00:00:00\", \"Symbol\": \"JNJ\", \"Adj Close\": 149.67999267578125}, {\"Date\": \"2020-04-21T00:00:00\", \"Symbol\": \"MMM\", \"Adj Close\": 141.6300048828125}, {\"Date\": \"2020-04-21T00:00:00\", \"Symbol\": \"MRK\", \"Adj Close\": 78.55999755859375}, {\"Date\": \"2020-04-21T00:00:00\", \"Symbol\": \"PFE\", \"Adj Close\": 35.268516540527344}, {\"Date\": \"2020-04-21T00:00:00\", \"Symbol\": \"PG\", \"Adj Close\": 118.88713836669922}, {\"Date\": \"2020-04-22T00:00:00\", \"Symbol\": \"JNJ\", \"Adj Close\": 152.99000549316406}, {\"Date\": \"2020-04-22T00:00:00\", \"Symbol\": \"MMM\", \"Adj Close\": 143.61000061035156}, {\"Date\": \"2020-04-22T00:00:00\", \"Symbol\": \"MRK\", \"Adj Close\": 79.9800033569336}, {\"Date\": \"2020-04-22T00:00:00\", \"Symbol\": \"PFE\", \"Adj Close\": 35.89229965209961}, {\"Date\": \"2020-04-22T00:00:00\", \"Symbol\": \"PG\", \"Adj Close\": 118.60900115966797}, {\"Date\": \"2020-04-23T00:00:00\", \"Symbol\": \"JNJ\", \"Adj Close\": 155.50999450683594}, {\"Date\": \"2020-04-23T00:00:00\", \"Symbol\": \"MMM\", \"Adj Close\": 144.3300018310547}, {\"Date\": \"2020-04-23T00:00:00\", \"Symbol\": \"MRK\", \"Adj Close\": 80.87999725341797}, {\"Date\": \"2020-04-23T00:00:00\", \"Symbol\": \"PFE\", \"Adj Close\": 36.32795715332031}, {\"Date\": \"2020-04-23T00:00:00\", \"Symbol\": \"PG\", \"Adj Close\": 119.4000015258789}, {\"Date\": \"2020-04-24T00:00:00\", \"Symbol\": \"JNJ\", \"Adj Close\": 154.86000061035156}, {\"Date\": \"2020-04-24T00:00:00\", \"Symbol\": \"MMM\", \"Adj Close\": 147.0}, {\"Date\": \"2020-04-24T00:00:00\", \"Symbol\": \"MRK\", \"Adj Close\": 81.43000030517578}, {\"Date\": \"2020-04-24T00:00:00\", \"Symbol\": \"PFE\", \"Adj Close\": 37.01115036010742}, {\"Date\": \"2020-04-24T00:00:00\", \"Symbol\": \"PG\", \"Adj Close\": 118.77999877929688}, {\"Date\": \"2020-04-27T00:00:00\", \"Symbol\": \"JNJ\", \"Adj Close\": 154.2899932861328}, {\"Date\": \"2020-04-27T00:00:00\", \"Symbol\": \"MMM\", \"Adj Close\": 153.64999389648438}, {\"Date\": \"2020-04-27T00:00:00\", \"Symbol\": \"MRK\", \"Adj Close\": 83.9800033569336}, {\"Date\": \"2020-04-27T00:00:00\", \"Symbol\": \"PFE\", \"Adj Close\": 37.951778411865234}, {\"Date\": \"2020-04-27T00:00:00\", \"Symbol\": \"PG\", \"Adj Close\": 117.44999694824219}, {\"Date\": \"2020-04-28T00:00:00\", \"Symbol\": \"JNJ\", \"Adj Close\": 151.38999938964844}, {\"Date\": \"2020-04-28T00:00:00\", \"Symbol\": \"MMM\", \"Adj Close\": 157.61000061035156}, {\"Date\": \"2020-04-28T00:00:00\", \"Symbol\": \"MRK\", \"Adj Close\": 81.18000030517578}, {\"Date\": \"2020-04-28T00:00:00\", \"Symbol\": \"PFE\", \"Adj Close\": 37.535919189453125}, {\"Date\": \"2020-04-28T00:00:00\", \"Symbol\": \"PG\", \"Adj Close\": 116.88999938964844}, {\"Date\": \"2020-04-29T00:00:00\", \"Symbol\": \"JNJ\", \"Adj Close\": 150.24000549316406}, {\"Date\": \"2020-04-29T00:00:00\", \"Symbol\": \"MMM\", \"Adj Close\": 156.25999450683594}, {\"Date\": \"2020-04-29T00:00:00\", \"Symbol\": \"MRK\", \"Adj Close\": 80.7699966430664}, {\"Date\": \"2020-04-29T00:00:00\", \"Symbol\": \"PFE\", \"Adj Close\": 37.74384689331055}, {\"Date\": \"2020-04-29T00:00:00\", \"Symbol\": \"PG\", \"Adj Close\": 117.08000183105469}, {\"Date\": \"2020-04-30T00:00:00\", \"Symbol\": \"JNJ\", \"Adj Close\": 150.0399932861328}, {\"Date\": \"2020-04-30T00:00:00\", \"Symbol\": \"MMM\", \"Adj Close\": 151.9199981689453}, {\"Date\": \"2020-04-30T00:00:00\", \"Symbol\": \"MRK\", \"Adj Close\": 79.33999633789062}, {\"Date\": \"2020-04-30T00:00:00\", \"Symbol\": \"PFE\", \"Adj Close\": 37.98147964477539}, {\"Date\": \"2020-04-30T00:00:00\", \"Symbol\": \"PG\", \"Adj Close\": 117.87000274658203}, {\"Date\": \"2020-05-01T00:00:00\", \"Symbol\": \"JNJ\", \"Adj Close\": 148.2899932861328}, {\"Date\": \"2020-05-01T00:00:00\", \"Symbol\": \"MMM\", \"Adj Close\": 148.60000610351562}, {\"Date\": \"2020-05-01T00:00:00\", \"Symbol\": \"MRK\", \"Adj Close\": 77.66999816894531}, {\"Date\": \"2020-05-01T00:00:00\", \"Symbol\": \"PFE\", \"Adj Close\": 37.268585205078125}, {\"Date\": \"2020-05-01T00:00:00\", \"Symbol\": \"PG\", \"Adj Close\": 116.81999969482422}, {\"Date\": \"2020-05-04T00:00:00\", \"Symbol\": \"JNJ\", \"Adj Close\": 148.27000427246094}, {\"Date\": \"2020-05-04T00:00:00\", \"Symbol\": \"MMM\", \"Adj Close\": 148.39999389648438}, {\"Date\": \"2020-05-04T00:00:00\", \"Symbol\": \"MRK\", \"Adj Close\": 76.86000061035156}, {\"Date\": \"2020-05-04T00:00:00\", \"Symbol\": \"PFE\", \"Adj Close\": 37.248783111572266}, {\"Date\": \"2020-05-04T00:00:00\", \"Symbol\": \"PG\", \"Adj Close\": 115.7699966430664}, {\"Date\": \"2020-05-05T00:00:00\", \"Symbol\": \"JNJ\", \"Adj Close\": 149.5}, {\"Date\": \"2020-05-05T00:00:00\", \"Symbol\": \"MMM\", \"Adj Close\": 147.42999267578125}, {\"Date\": \"2020-05-05T00:00:00\", \"Symbol\": \"MRK\", \"Adj Close\": 78.01000213623047}, {\"Date\": \"2020-05-05T00:00:00\", \"Symbol\": \"PFE\", \"Adj Close\": 38.12999725341797}, {\"Date\": \"2020-05-05T00:00:00\", \"Symbol\": \"PG\", \"Adj Close\": 116.01000213623047}, {\"Date\": \"2020-05-06T00:00:00\", \"Symbol\": \"JNJ\", \"Adj Close\": 148.0800018310547}, {\"Date\": \"2020-05-06T00:00:00\", \"Symbol\": \"MMM\", \"Adj Close\": 146.1999969482422}, {\"Date\": \"2020-05-06T00:00:00\", \"Symbol\": \"MRK\", \"Adj Close\": 77.12000274658203}, {\"Date\": \"2020-05-06T00:00:00\", \"Symbol\": \"PFE\", \"Adj Close\": 38.12999725341797}, {\"Date\": \"2020-05-06T00:00:00\", \"Symbol\": \"PG\", \"Adj Close\": 113.0999984741211}, {\"Date\": \"2020-05-07T00:00:00\", \"Symbol\": \"JNJ\", \"Adj Close\": 147.58999633789062}, {\"Date\": \"2020-05-07T00:00:00\", \"Symbol\": \"MMM\", \"Adj Close\": 145.74000549316406}, {\"Date\": \"2020-05-07T00:00:00\", \"Symbol\": \"MRK\", \"Adj Close\": 75.5999984741211}, {\"Date\": \"2020-05-07T00:00:00\", \"Symbol\": \"PFE\", \"Adj Close\": 36.959999084472656}, {\"Date\": \"2020-05-07T00:00:00\", \"Symbol\": \"PG\", \"Adj Close\": 112.16999816894531}, {\"Date\": \"2020-05-08T00:00:00\", \"Symbol\": \"JNJ\", \"Adj Close\": 148.6999969482422}, {\"Date\": \"2020-05-08T00:00:00\", \"Symbol\": \"MMM\", \"Adj Close\": 148.50999450683594}, {\"Date\": \"2020-05-08T00:00:00\", \"Symbol\": \"MRK\", \"Adj Close\": 76.4000015258789}, {\"Date\": \"2020-05-08T00:00:00\", \"Symbol\": \"PFE\", \"Adj Close\": 37.220001220703125}, {\"Date\": \"2020-05-08T00:00:00\", \"Symbol\": \"PG\", \"Adj Close\": 115.94999694824219}]}}, {\"mode\": \"vega-lite\"});\n",
       "</script>"
      ],
      "text/plain": [
       "alt.Chart(...)"
      ]
     },
     "execution_count": 25,
     "metadata": {},
     "output_type": "execute_result"
    }
   ],
   "source": [
    "base = alt.Chart(healthcare.reset_index()).mark_line().encode(\n",
    "    x=alt.X('Date:T',\n",
    "            axis=alt.Axis(\n",
    "                format='%m-%d-%Y',\n",
    "                labelAngle=-90)\n",
    "    ),\n",
    "    y='Adj Close:Q',\n",
    "    color='Symbol:N'\n",
    ")\n",
    "base"
   ]
  },
  {
   "cell_type": "markdown",
   "metadata": {
    "slideshow": {
     "slide_type": "subslide"
    }
   },
   "source": [
    "* Inspect missing values:  "
   ]
  },
  {
   "cell_type": "code",
   "execution_count": 26,
   "metadata": {
    "slideshow": {
     "slide_type": "-"
    }
   },
   "outputs": [
    {
     "data": {
      "text/plain": [
       "Symbol\n",
       "AAPL     3\n",
       "AXP      3\n",
       "BA       3\n",
       "BAC      3\n",
       "CAT      3\n",
       "CSCO     3\n",
       "CVX      3\n",
       "DD       3\n",
       "DIS      3\n",
       "GE       3\n",
       "HD       3\n",
       "HPQ      3\n",
       "IBM      3\n",
       "INTC     3\n",
       "JNJ      3\n",
       "JPM      3\n",
       "KO       3\n",
       "MCD      3\n",
       "MMM      3\n",
       "MRK      3\n",
       "MSFT     3\n",
       "PFE      3\n",
       "PG       3\n",
       "T        3\n",
       "TRV      3\n",
       "UTX     25\n",
       "VZ       3\n",
       "WMT      3\n",
       "XOM      3\n",
       "dtype: int64"
      ]
     },
     "execution_count": 26,
     "metadata": {},
     "output_type": "execute_result"
    }
   ],
   "source": [
    "rawdata['Adj Close'].isna().sum(axis=0)"
   ]
  },
  {
   "cell_type": "code",
   "execution_count": 27,
   "metadata": {
    "slideshow": {
     "slide_type": "subslide"
    }
   },
   "outputs": [
    {
     "data": {
      "text/html": [
       "<div>\n",
       "<style scoped>\n",
       "    .dataframe tbody tr th:only-of-type {\n",
       "        vertical-align: middle;\n",
       "    }\n",
       "\n",
       "    .dataframe tbody tr th {\n",
       "        vertical-align: top;\n",
       "    }\n",
       "\n",
       "    .dataframe thead tr th {\n",
       "        text-align: left;\n",
       "    }\n",
       "\n",
       "    .dataframe thead tr:last-of-type th {\n",
       "        text-align: right;\n",
       "    }\n",
       "</style>\n",
       "<table border=\"1\" class=\"dataframe\">\n",
       "  <thead>\n",
       "    <tr>\n",
       "      <th>Value</th>\n",
       "      <th colspan=\"10\" halign=\"left\">Adj Close</th>\n",
       "      <th>...</th>\n",
       "      <th colspan=\"10\" halign=\"left\">Volume</th>\n",
       "    </tr>\n",
       "    <tr>\n",
       "      <th>Symbol</th>\n",
       "      <th>AAPL</th>\n",
       "      <th>AXP</th>\n",
       "      <th>BA</th>\n",
       "      <th>BAC</th>\n",
       "      <th>CAT</th>\n",
       "      <th>CSCO</th>\n",
       "      <th>CVX</th>\n",
       "      <th>DD</th>\n",
       "      <th>DIS</th>\n",
       "      <th>GE</th>\n",
       "      <th>...</th>\n",
       "      <th>MRK</th>\n",
       "      <th>MSFT</th>\n",
       "      <th>PFE</th>\n",
       "      <th>PG</th>\n",
       "      <th>T</th>\n",
       "      <th>TRV</th>\n",
       "      <th>UTX</th>\n",
       "      <th>VZ</th>\n",
       "      <th>WMT</th>\n",
       "      <th>XOM</th>\n",
       "    </tr>\n",
       "    <tr>\n",
       "      <th>Date</th>\n",
       "      <th></th>\n",
       "      <th></th>\n",
       "      <th></th>\n",
       "      <th></th>\n",
       "      <th></th>\n",
       "      <th></th>\n",
       "      <th></th>\n",
       "      <th></th>\n",
       "      <th></th>\n",
       "      <th></th>\n",
       "      <th></th>\n",
       "      <th></th>\n",
       "      <th></th>\n",
       "      <th></th>\n",
       "      <th></th>\n",
       "      <th></th>\n",
       "      <th></th>\n",
       "      <th></th>\n",
       "      <th></th>\n",
       "      <th></th>\n",
       "      <th></th>\n",
       "    </tr>\n",
       "  </thead>\n",
       "  <tbody>\n",
       "    <tr>\n",
       "      <th>1999-12-31</th>\n",
       "      <td>NaN</td>\n",
       "      <td>NaN</td>\n",
       "      <td>NaN</td>\n",
       "      <td>NaN</td>\n",
       "      <td>NaN</td>\n",
       "      <td>NaN</td>\n",
       "      <td>NaN</td>\n",
       "      <td>NaN</td>\n",
       "      <td>NaN</td>\n",
       "      <td>NaN</td>\n",
       "      <td>...</td>\n",
       "      <td>NaN</td>\n",
       "      <td>NaN</td>\n",
       "      <td>NaN</td>\n",
       "      <td>NaN</td>\n",
       "      <td>NaN</td>\n",
       "      <td>NaN</td>\n",
       "      <td>NaN</td>\n",
       "      <td>NaN</td>\n",
       "      <td>NaN</td>\n",
       "      <td>NaN</td>\n",
       "    </tr>\n",
       "    <tr>\n",
       "      <th>2001-09-12</th>\n",
       "      <td>NaN</td>\n",
       "      <td>NaN</td>\n",
       "      <td>NaN</td>\n",
       "      <td>NaN</td>\n",
       "      <td>NaN</td>\n",
       "      <td>NaN</td>\n",
       "      <td>NaN</td>\n",
       "      <td>NaN</td>\n",
       "      <td>NaN</td>\n",
       "      <td>NaN</td>\n",
       "      <td>...</td>\n",
       "      <td>NaN</td>\n",
       "      <td>NaN</td>\n",
       "      <td>NaN</td>\n",
       "      <td>NaN</td>\n",
       "      <td>NaN</td>\n",
       "      <td>NaN</td>\n",
       "      <td>NaN</td>\n",
       "      <td>NaN</td>\n",
       "      <td>NaN</td>\n",
       "      <td>NaN</td>\n",
       "    </tr>\n",
       "    <tr>\n",
       "      <th>2016-01-18</th>\n",
       "      <td>NaN</td>\n",
       "      <td>NaN</td>\n",
       "      <td>NaN</td>\n",
       "      <td>NaN</td>\n",
       "      <td>NaN</td>\n",
       "      <td>NaN</td>\n",
       "      <td>NaN</td>\n",
       "      <td>NaN</td>\n",
       "      <td>NaN</td>\n",
       "      <td>NaN</td>\n",
       "      <td>...</td>\n",
       "      <td>NaN</td>\n",
       "      <td>NaN</td>\n",
       "      <td>NaN</td>\n",
       "      <td>NaN</td>\n",
       "      <td>NaN</td>\n",
       "      <td>NaN</td>\n",
       "      <td>NaN</td>\n",
       "      <td>NaN</td>\n",
       "      <td>NaN</td>\n",
       "      <td>NaN</td>\n",
       "    </tr>\n",
       "    <tr>\n",
       "      <th>2020-04-08</th>\n",
       "      <td>265.351715</td>\n",
       "      <td>92.080002</td>\n",
       "      <td>146.869995</td>\n",
       "      <td>23.450001</td>\n",
       "      <td>126.240997</td>\n",
       "      <td>41.740002</td>\n",
       "      <td>85.980003</td>\n",
       "      <td>38.860001</td>\n",
       "      <td>101.070000</td>\n",
       "      <td>7.30</td>\n",
       "      <td>...</td>\n",
       "      <td>10956000.0</td>\n",
       "      <td>48318200.0</td>\n",
       "      <td>24216300.0</td>\n",
       "      <td>12564500.0</td>\n",
       "      <td>40793300.0</td>\n",
       "      <td>1482100.0</td>\n",
       "      <td>NaN</td>\n",
       "      <td>18234200.0</td>\n",
       "      <td>9292200.0</td>\n",
       "      <td>33355600.0</td>\n",
       "    </tr>\n",
       "    <tr>\n",
       "      <th>2020-04-09</th>\n",
       "      <td>267.266510</td>\n",
       "      <td>94.820000</td>\n",
       "      <td>151.839996</td>\n",
       "      <td>24.860001</td>\n",
       "      <td>123.892555</td>\n",
       "      <td>41.200001</td>\n",
       "      <td>84.309998</td>\n",
       "      <td>40.779999</td>\n",
       "      <td>104.500000</td>\n",
       "      <td>7.14</td>\n",
       "      <td>...</td>\n",
       "      <td>13241600.0</td>\n",
       "      <td>51431800.0</td>\n",
       "      <td>29141300.0</td>\n",
       "      <td>12748600.0</td>\n",
       "      <td>50332700.0</td>\n",
       "      <td>1693400.0</td>\n",
       "      <td>NaN</td>\n",
       "      <td>19693900.0</td>\n",
       "      <td>10944400.0</td>\n",
       "      <td>60208100.0</td>\n",
       "    </tr>\n",
       "    <tr>\n",
       "      <th>2020-04-13</th>\n",
       "      <td>272.512329</td>\n",
       "      <td>90.330002</td>\n",
       "      <td>147.330002</td>\n",
       "      <td>23.920000</td>\n",
       "      <td>113.101631</td>\n",
       "      <td>41.220001</td>\n",
       "      <td>84.910004</td>\n",
       "      <td>38.320000</td>\n",
       "      <td>103.500000</td>\n",
       "      <td>7.02</td>\n",
       "      <td>...</td>\n",
       "      <td>7353700.0</td>\n",
       "      <td>41905300.0</td>\n",
       "      <td>17334100.0</td>\n",
       "      <td>7926700.0</td>\n",
       "      <td>34145800.0</td>\n",
       "      <td>1241500.0</td>\n",
       "      <td>NaN</td>\n",
       "      <td>12977700.0</td>\n",
       "      <td>8064700.0</td>\n",
       "      <td>29651900.0</td>\n",
       "    </tr>\n",
       "    <tr>\n",
       "      <th>2020-04-14</th>\n",
       "      <td>286.275055</td>\n",
       "      <td>88.389999</td>\n",
       "      <td>141.000000</td>\n",
       "      <td>23.730000</td>\n",
       "      <td>115.420349</td>\n",
       "      <td>42.779999</td>\n",
       "      <td>84.610001</td>\n",
       "      <td>38.430000</td>\n",
       "      <td>106.029999</td>\n",
       "      <td>6.93</td>\n",
       "      <td>...</td>\n",
       "      <td>11598600.0</td>\n",
       "      <td>52874300.0</td>\n",
       "      <td>20726100.0</td>\n",
       "      <td>10474200.0</td>\n",
       "      <td>31941500.0</td>\n",
       "      <td>2122800.0</td>\n",
       "      <td>NaN</td>\n",
       "      <td>16765600.0</td>\n",
       "      <td>11366300.0</td>\n",
       "      <td>30769000.0</td>\n",
       "    </tr>\n",
       "    <tr>\n",
       "      <th>2020-04-15</th>\n",
       "      <td>283.662140</td>\n",
       "      <td>83.790001</td>\n",
       "      <td>145.979996</td>\n",
       "      <td>22.190001</td>\n",
       "      <td>110.515373</td>\n",
       "      <td>41.520000</td>\n",
       "      <td>82.489998</td>\n",
       "      <td>35.570000</td>\n",
       "      <td>103.370003</td>\n",
       "      <td>6.50</td>\n",
       "      <td>...</td>\n",
       "      <td>10314000.0</td>\n",
       "      <td>40940800.0</td>\n",
       "      <td>20220300.0</td>\n",
       "      <td>14192900.0</td>\n",
       "      <td>37542900.0</td>\n",
       "      <td>1994700.0</td>\n",
       "      <td>NaN</td>\n",
       "      <td>18372800.0</td>\n",
       "      <td>7478400.0</td>\n",
       "      <td>33125000.0</td>\n",
       "    </tr>\n",
       "    <tr>\n",
       "      <th>2020-04-16</th>\n",
       "      <td>285.916046</td>\n",
       "      <td>81.349998</td>\n",
       "      <td>134.240005</td>\n",
       "      <td>21.420000</td>\n",
       "      <td>112.190002</td>\n",
       "      <td>41.500000</td>\n",
       "      <td>79.989998</td>\n",
       "      <td>36.220001</td>\n",
       "      <td>102.019997</td>\n",
       "      <td>6.24</td>\n",
       "      <td>...</td>\n",
       "      <td>8726200.0</td>\n",
       "      <td>50479600.0</td>\n",
       "      <td>19599100.0</td>\n",
       "      <td>12020200.0</td>\n",
       "      <td>32533900.0</td>\n",
       "      <td>1721100.0</td>\n",
       "      <td>NaN</td>\n",
       "      <td>17825800.0</td>\n",
       "      <td>10627400.0</td>\n",
       "      <td>30934000.0</td>\n",
       "    </tr>\n",
       "    <tr>\n",
       "      <th>2020-04-17</th>\n",
       "      <td>282.036530</td>\n",
       "      <td>87.389999</td>\n",
       "      <td>154.000000</td>\n",
       "      <td>23.280001</td>\n",
       "      <td>116.300003</td>\n",
       "      <td>42.480000</td>\n",
       "      <td>87.169998</td>\n",
       "      <td>38.360001</td>\n",
       "      <td>106.629997</td>\n",
       "      <td>6.84</td>\n",
       "      <td>...</td>\n",
       "      <td>14726300.0</td>\n",
       "      <td>52765600.0</td>\n",
       "      <td>23154500.0</td>\n",
       "      <td>15899800.0</td>\n",
       "      <td>34656200.0</td>\n",
       "      <td>2038500.0</td>\n",
       "      <td>NaN</td>\n",
       "      <td>15054300.0</td>\n",
       "      <td>10305100.0</td>\n",
       "      <td>40829100.0</td>\n",
       "    </tr>\n",
       "    <tr>\n",
       "      <th>2020-04-20</th>\n",
       "      <td>276.182373</td>\n",
       "      <td>84.010002</td>\n",
       "      <td>143.610001</td>\n",
       "      <td>22.500000</td>\n",
       "      <td>114.599998</td>\n",
       "      <td>42.540001</td>\n",
       "      <td>83.570000</td>\n",
       "      <td>39.720001</td>\n",
       "      <td>102.260002</td>\n",
       "      <td>6.51</td>\n",
       "      <td>...</td>\n",
       "      <td>11141000.0</td>\n",
       "      <td>36669600.0</td>\n",
       "      <td>21376300.0</td>\n",
       "      <td>10832000.0</td>\n",
       "      <td>30583200.0</td>\n",
       "      <td>2204500.0</td>\n",
       "      <td>NaN</td>\n",
       "      <td>14002200.0</td>\n",
       "      <td>8133900.0</td>\n",
       "      <td>39260800.0</td>\n",
       "    </tr>\n",
       "    <tr>\n",
       "      <th>2020-04-21</th>\n",
       "      <td>267.645477</td>\n",
       "      <td>81.519997</td>\n",
       "      <td>136.330002</td>\n",
       "      <td>21.639999</td>\n",
       "      <td>109.849998</td>\n",
       "      <td>40.549999</td>\n",
       "      <td>81.639999</td>\n",
       "      <td>39.070000</td>\n",
       "      <td>100.540001</td>\n",
       "      <td>6.48</td>\n",
       "      <td>...</td>\n",
       "      <td>17057800.0</td>\n",
       "      <td>56203700.0</td>\n",
       "      <td>22746900.0</td>\n",
       "      <td>9465400.0</td>\n",
       "      <td>43213100.0</td>\n",
       "      <td>3049200.0</td>\n",
       "      <td>NaN</td>\n",
       "      <td>14234500.0</td>\n",
       "      <td>9300200.0</td>\n",
       "      <td>44381600.0</td>\n",
       "    </tr>\n",
       "    <tr>\n",
       "      <th>2020-04-22</th>\n",
       "      <td>275.354614</td>\n",
       "      <td>82.540001</td>\n",
       "      <td>134.970001</td>\n",
       "      <td>21.799999</td>\n",
       "      <td>110.639999</td>\n",
       "      <td>41.759998</td>\n",
       "      <td>84.440002</td>\n",
       "      <td>39.869999</td>\n",
       "      <td>100.989998</td>\n",
       "      <td>6.43</td>\n",
       "      <td>...</td>\n",
       "      <td>11387300.0</td>\n",
       "      <td>34651600.0</td>\n",
       "      <td>19151900.0</td>\n",
       "      <td>10261000.0</td>\n",
       "      <td>50764200.0</td>\n",
       "      <td>2274100.0</td>\n",
       "      <td>NaN</td>\n",
       "      <td>12703200.0</td>\n",
       "      <td>6485000.0</td>\n",
       "      <td>27084700.0</td>\n",
       "    </tr>\n",
       "    <tr>\n",
       "      <th>2020-04-23</th>\n",
       "      <td>274.287506</td>\n",
       "      <td>82.459999</td>\n",
       "      <td>137.740005</td>\n",
       "      <td>21.870001</td>\n",
       "      <td>112.910004</td>\n",
       "      <td>41.619999</td>\n",
       "      <td>86.800003</td>\n",
       "      <td>41.200001</td>\n",
       "      <td>101.000000</td>\n",
       "      <td>6.52</td>\n",
       "      <td>...</td>\n",
       "      <td>7779100.0</td>\n",
       "      <td>32790800.0</td>\n",
       "      <td>19151200.0</td>\n",
       "      <td>17277000.0</td>\n",
       "      <td>34011500.0</td>\n",
       "      <td>1832100.0</td>\n",
       "      <td>NaN</td>\n",
       "      <td>15684400.0</td>\n",
       "      <td>9613300.0</td>\n",
       "      <td>35271000.0</td>\n",
       "    </tr>\n",
       "    <tr>\n",
       "      <th>2020-04-24</th>\n",
       "      <td>282.206085</td>\n",
       "      <td>83.169998</td>\n",
       "      <td>128.979996</td>\n",
       "      <td>22.180000</td>\n",
       "      <td>114.040001</td>\n",
       "      <td>42.520000</td>\n",
       "      <td>87.010002</td>\n",
       "      <td>41.900002</td>\n",
       "      <td>101.190002</td>\n",
       "      <td>6.26</td>\n",
       "      <td>...</td>\n",
       "      <td>7334900.0</td>\n",
       "      <td>34305300.0</td>\n",
       "      <td>16470000.0</td>\n",
       "      <td>12751900.0</td>\n",
       "      <td>35567700.0</td>\n",
       "      <td>2130000.0</td>\n",
       "      <td>NaN</td>\n",
       "      <td>15373600.0</td>\n",
       "      <td>5782800.0</td>\n",
       "      <td>28667000.0</td>\n",
       "    </tr>\n",
       "    <tr>\n",
       "      <th>2020-04-27</th>\n",
       "      <td>282.405548</td>\n",
       "      <td>85.059998</td>\n",
       "      <td>128.679993</td>\n",
       "      <td>23.469999</td>\n",
       "      <td>115.199997</td>\n",
       "      <td>43.060001</td>\n",
       "      <td>89.709999</td>\n",
       "      <td>43.820000</td>\n",
       "      <td>106.059998</td>\n",
       "      <td>6.43</td>\n",
       "      <td>...</td>\n",
       "      <td>12201100.0</td>\n",
       "      <td>33194400.0</td>\n",
       "      <td>22195500.0</td>\n",
       "      <td>10635700.0</td>\n",
       "      <td>33320700.0</td>\n",
       "      <td>1405200.0</td>\n",
       "      <td>NaN</td>\n",
       "      <td>16050100.0</td>\n",
       "      <td>5974600.0</td>\n",
       "      <td>28274400.0</td>\n",
       "    </tr>\n",
       "    <tr>\n",
       "      <th>2020-04-28</th>\n",
       "      <td>277.827911</td>\n",
       "      <td>88.190002</td>\n",
       "      <td>131.300003</td>\n",
       "      <td>23.889999</td>\n",
       "      <td>115.459999</td>\n",
       "      <td>42.490002</td>\n",
       "      <td>89.910004</td>\n",
       "      <td>46.410000</td>\n",
       "      <td>106.209999</td>\n",
       "      <td>6.80</td>\n",
       "      <td>...</td>\n",
       "      <td>19345000.0</td>\n",
       "      <td>34392700.0</td>\n",
       "      <td>33839400.0</td>\n",
       "      <td>9958000.0</td>\n",
       "      <td>30924800.0</td>\n",
       "      <td>1907100.0</td>\n",
       "      <td>NaN</td>\n",
       "      <td>13392600.0</td>\n",
       "      <td>6910700.0</td>\n",
       "      <td>26545100.0</td>\n",
       "    </tr>\n",
       "    <tr>\n",
       "      <th>2020-04-29</th>\n",
       "      <td>286.953247</td>\n",
       "      <td>96.120003</td>\n",
       "      <td>139.000000</td>\n",
       "      <td>24.780001</td>\n",
       "      <td>120.059998</td>\n",
       "      <td>43.340000</td>\n",
       "      <td>94.620003</td>\n",
       "      <td>48.169998</td>\n",
       "      <td>112.250000</td>\n",
       "      <td>6.58</td>\n",
       "      <td>...</td>\n",
       "      <td>13060300.0</td>\n",
       "      <td>51286600.0</td>\n",
       "      <td>25159900.0</td>\n",
       "      <td>8707900.0</td>\n",
       "      <td>33160100.0</td>\n",
       "      <td>1420200.0</td>\n",
       "      <td>NaN</td>\n",
       "      <td>17818100.0</td>\n",
       "      <td>14870700.0</td>\n",
       "      <td>29502500.0</td>\n",
       "    </tr>\n",
       "    <tr>\n",
       "      <th>2020-04-30</th>\n",
       "      <td>293.006836</td>\n",
       "      <td>91.250000</td>\n",
       "      <td>141.020004</td>\n",
       "      <td>24.049999</td>\n",
       "      <td>116.379997</td>\n",
       "      <td>42.380001</td>\n",
       "      <td>92.000000</td>\n",
       "      <td>47.020000</td>\n",
       "      <td>108.150002</td>\n",
       "      <td>6.80</td>\n",
       "      <td>...</td>\n",
       "      <td>11105800.0</td>\n",
       "      <td>53875900.0</td>\n",
       "      <td>27942100.0</td>\n",
       "      <td>10026400.0</td>\n",
       "      <td>40751900.0</td>\n",
       "      <td>1908800.0</td>\n",
       "      <td>NaN</td>\n",
       "      <td>17532400.0</td>\n",
       "      <td>13499300.0</td>\n",
       "      <td>37076300.0</td>\n",
       "    </tr>\n",
       "    <tr>\n",
       "      <th>2020-05-01</th>\n",
       "      <td>288.289612</td>\n",
       "      <td>88.320000</td>\n",
       "      <td>133.369995</td>\n",
       "      <td>23.080000</td>\n",
       "      <td>110.879997</td>\n",
       "      <td>40.919998</td>\n",
       "      <td>89.440002</td>\n",
       "      <td>45.070000</td>\n",
       "      <td>105.500000</td>\n",
       "      <td>6.50</td>\n",
       "      <td>...</td>\n",
       "      <td>9082600.0</td>\n",
       "      <td>39370500.0</td>\n",
       "      <td>21517900.0</td>\n",
       "      <td>7366400.0</td>\n",
       "      <td>36851300.0</td>\n",
       "      <td>2580200.0</td>\n",
       "      <td>NaN</td>\n",
       "      <td>13857400.0</td>\n",
       "      <td>10381300.0</td>\n",
       "      <td>35399300.0</td>\n",
       "    </tr>\n",
       "    <tr>\n",
       "      <th>2020-05-04</th>\n",
       "      <td>292.368561</td>\n",
       "      <td>86.379997</td>\n",
       "      <td>131.460007</td>\n",
       "      <td>22.930000</td>\n",
       "      <td>107.720001</td>\n",
       "      <td>41.349998</td>\n",
       "      <td>91.440002</td>\n",
       "      <td>44.720001</td>\n",
       "      <td>103.180000</td>\n",
       "      <td>6.21</td>\n",
       "      <td>...</td>\n",
       "      <td>8444900.0</td>\n",
       "      <td>30372900.0</td>\n",
       "      <td>18874300.0</td>\n",
       "      <td>5636000.0</td>\n",
       "      <td>35164100.0</td>\n",
       "      <td>1657700.0</td>\n",
       "      <td>NaN</td>\n",
       "      <td>11833600.0</td>\n",
       "      <td>5935900.0</td>\n",
       "      <td>27465600.0</td>\n",
       "    </tr>\n",
       "    <tr>\n",
       "      <th>2020-05-05</th>\n",
       "      <td>296.756683</td>\n",
       "      <td>86.739998</td>\n",
       "      <td>125.400002</td>\n",
       "      <td>22.660000</td>\n",
       "      <td>108.910004</td>\n",
       "      <td>41.459999</td>\n",
       "      <td>92.889999</td>\n",
       "      <td>44.689999</td>\n",
       "      <td>101.059998</td>\n",
       "      <td>6.20</td>\n",
       "      <td>...</td>\n",
       "      <td>7062400.0</td>\n",
       "      <td>36839200.0</td>\n",
       "      <td>22888000.0</td>\n",
       "      <td>5425200.0</td>\n",
       "      <td>24626100.0</td>\n",
       "      <td>1798700.0</td>\n",
       "      <td>NaN</td>\n",
       "      <td>10902400.0</td>\n",
       "      <td>6445800.0</td>\n",
       "      <td>29276200.0</td>\n",
       "    </tr>\n",
       "    <tr>\n",
       "      <th>2020-05-06</th>\n",
       "      <td>299.818390</td>\n",
       "      <td>84.000000</td>\n",
       "      <td>121.860001</td>\n",
       "      <td>22.350000</td>\n",
       "      <td>107.669998</td>\n",
       "      <td>41.150002</td>\n",
       "      <td>90.050003</td>\n",
       "      <td>44.040001</td>\n",
       "      <td>100.879997</td>\n",
       "      <td>5.98</td>\n",
       "      <td>...</td>\n",
       "      <td>11846300.0</td>\n",
       "      <td>32139300.0</td>\n",
       "      <td>22815400.0</td>\n",
       "      <td>7892200.0</td>\n",
       "      <td>45094200.0</td>\n",
       "      <td>1309000.0</td>\n",
       "      <td>NaN</td>\n",
       "      <td>12460400.0</td>\n",
       "      <td>5769700.0</td>\n",
       "      <td>22659000.0</td>\n",
       "    </tr>\n",
       "    <tr>\n",
       "      <th>2020-05-07</th>\n",
       "      <td>302.919983</td>\n",
       "      <td>86.730003</td>\n",
       "      <td>128.649994</td>\n",
       "      <td>22.840000</td>\n",
       "      <td>107.290001</td>\n",
       "      <td>41.369999</td>\n",
       "      <td>92.639999</td>\n",
       "      <td>44.759998</td>\n",
       "      <td>105.570000</td>\n",
       "      <td>6.11</td>\n",
       "      <td>...</td>\n",
       "      <td>12025200.0</td>\n",
       "      <td>28316000.0</td>\n",
       "      <td>31827400.0</td>\n",
       "      <td>8762800.0</td>\n",
       "      <td>31814300.0</td>\n",
       "      <td>1333100.0</td>\n",
       "      <td>NaN</td>\n",
       "      <td>14083100.0</td>\n",
       "      <td>9115200.0</td>\n",
       "      <td>22160300.0</td>\n",
       "    </tr>\n",
       "    <tr>\n",
       "      <th>2020-05-08</th>\n",
       "      <td>310.130005</td>\n",
       "      <td>89.500000</td>\n",
       "      <td>133.440002</td>\n",
       "      <td>23.570000</td>\n",
       "      <td>112.110001</td>\n",
       "      <td>42.990002</td>\n",
       "      <td>95.470001</td>\n",
       "      <td>46.930000</td>\n",
       "      <td>109.160004</td>\n",
       "      <td>6.29</td>\n",
       "      <td>...</td>\n",
       "      <td>8389000.0</td>\n",
       "      <td>30912600.0</td>\n",
       "      <td>18881700.0</td>\n",
       "      <td>9283100.0</td>\n",
       "      <td>24047700.0</td>\n",
       "      <td>1125200.0</td>\n",
       "      <td>NaN</td>\n",
       "      <td>11100300.0</td>\n",
       "      <td>6944400.0</td>\n",
       "      <td>19998700.0</td>\n",
       "    </tr>\n",
       "  </tbody>\n",
       "</table>\n",
       "<p>25 rows × 174 columns</p>\n",
       "</div>"
      ],
      "text/plain": [
       "Value        Adj Close                                                \\\n",
       "Symbol            AAPL        AXP          BA        BAC         CAT   \n",
       "Date                                                                   \n",
       "1999-12-31         NaN        NaN         NaN        NaN         NaN   \n",
       "2001-09-12         NaN        NaN         NaN        NaN         NaN   \n",
       "2016-01-18         NaN        NaN         NaN        NaN         NaN   \n",
       "2020-04-08  265.351715  92.080002  146.869995  23.450001  126.240997   \n",
       "2020-04-09  267.266510  94.820000  151.839996  24.860001  123.892555   \n",
       "2020-04-13  272.512329  90.330002  147.330002  23.920000  113.101631   \n",
       "2020-04-14  286.275055  88.389999  141.000000  23.730000  115.420349   \n",
       "2020-04-15  283.662140  83.790001  145.979996  22.190001  110.515373   \n",
       "2020-04-16  285.916046  81.349998  134.240005  21.420000  112.190002   \n",
       "2020-04-17  282.036530  87.389999  154.000000  23.280001  116.300003   \n",
       "2020-04-20  276.182373  84.010002  143.610001  22.500000  114.599998   \n",
       "2020-04-21  267.645477  81.519997  136.330002  21.639999  109.849998   \n",
       "2020-04-22  275.354614  82.540001  134.970001  21.799999  110.639999   \n",
       "2020-04-23  274.287506  82.459999  137.740005  21.870001  112.910004   \n",
       "2020-04-24  282.206085  83.169998  128.979996  22.180000  114.040001   \n",
       "2020-04-27  282.405548  85.059998  128.679993  23.469999  115.199997   \n",
       "2020-04-28  277.827911  88.190002  131.300003  23.889999  115.459999   \n",
       "2020-04-29  286.953247  96.120003  139.000000  24.780001  120.059998   \n",
       "2020-04-30  293.006836  91.250000  141.020004  24.049999  116.379997   \n",
       "2020-05-01  288.289612  88.320000  133.369995  23.080000  110.879997   \n",
       "2020-05-04  292.368561  86.379997  131.460007  22.930000  107.720001   \n",
       "2020-05-05  296.756683  86.739998  125.400002  22.660000  108.910004   \n",
       "2020-05-06  299.818390  84.000000  121.860001  22.350000  107.669998   \n",
       "2020-05-07  302.919983  86.730003  128.649994  22.840000  107.290001   \n",
       "2020-05-08  310.130005  89.500000  133.440002  23.570000  112.110001   \n",
       "\n",
       "Value                                                          ...  \\\n",
       "Symbol           CSCO        CVX         DD         DIS    GE  ...   \n",
       "Date                                                           ...   \n",
       "1999-12-31        NaN        NaN        NaN         NaN   NaN  ...   \n",
       "2001-09-12        NaN        NaN        NaN         NaN   NaN  ...   \n",
       "2016-01-18        NaN        NaN        NaN         NaN   NaN  ...   \n",
       "2020-04-08  41.740002  85.980003  38.860001  101.070000  7.30  ...   \n",
       "2020-04-09  41.200001  84.309998  40.779999  104.500000  7.14  ...   \n",
       "2020-04-13  41.220001  84.910004  38.320000  103.500000  7.02  ...   \n",
       "2020-04-14  42.779999  84.610001  38.430000  106.029999  6.93  ...   \n",
       "2020-04-15  41.520000  82.489998  35.570000  103.370003  6.50  ...   \n",
       "2020-04-16  41.500000  79.989998  36.220001  102.019997  6.24  ...   \n",
       "2020-04-17  42.480000  87.169998  38.360001  106.629997  6.84  ...   \n",
       "2020-04-20  42.540001  83.570000  39.720001  102.260002  6.51  ...   \n",
       "2020-04-21  40.549999  81.639999  39.070000  100.540001  6.48  ...   \n",
       "2020-04-22  41.759998  84.440002  39.869999  100.989998  6.43  ...   \n",
       "2020-04-23  41.619999  86.800003  41.200001  101.000000  6.52  ...   \n",
       "2020-04-24  42.520000  87.010002  41.900002  101.190002  6.26  ...   \n",
       "2020-04-27  43.060001  89.709999  43.820000  106.059998  6.43  ...   \n",
       "2020-04-28  42.490002  89.910004  46.410000  106.209999  6.80  ...   \n",
       "2020-04-29  43.340000  94.620003  48.169998  112.250000  6.58  ...   \n",
       "2020-04-30  42.380001  92.000000  47.020000  108.150002  6.80  ...   \n",
       "2020-05-01  40.919998  89.440002  45.070000  105.500000  6.50  ...   \n",
       "2020-05-04  41.349998  91.440002  44.720001  103.180000  6.21  ...   \n",
       "2020-05-05  41.459999  92.889999  44.689999  101.059998  6.20  ...   \n",
       "2020-05-06  41.150002  90.050003  44.040001  100.879997  5.98  ...   \n",
       "2020-05-07  41.369999  92.639999  44.759998  105.570000  6.11  ...   \n",
       "2020-05-08  42.990002  95.470001  46.930000  109.160004  6.29  ...   \n",
       "\n",
       "Value           Volume                                                  \\\n",
       "Symbol             MRK        MSFT         PFE          PG           T   \n",
       "Date                                                                     \n",
       "1999-12-31         NaN         NaN         NaN         NaN         NaN   \n",
       "2001-09-12         NaN         NaN         NaN         NaN         NaN   \n",
       "2016-01-18         NaN         NaN         NaN         NaN         NaN   \n",
       "2020-04-08  10956000.0  48318200.0  24216300.0  12564500.0  40793300.0   \n",
       "2020-04-09  13241600.0  51431800.0  29141300.0  12748600.0  50332700.0   \n",
       "2020-04-13   7353700.0  41905300.0  17334100.0   7926700.0  34145800.0   \n",
       "2020-04-14  11598600.0  52874300.0  20726100.0  10474200.0  31941500.0   \n",
       "2020-04-15  10314000.0  40940800.0  20220300.0  14192900.0  37542900.0   \n",
       "2020-04-16   8726200.0  50479600.0  19599100.0  12020200.0  32533900.0   \n",
       "2020-04-17  14726300.0  52765600.0  23154500.0  15899800.0  34656200.0   \n",
       "2020-04-20  11141000.0  36669600.0  21376300.0  10832000.0  30583200.0   \n",
       "2020-04-21  17057800.0  56203700.0  22746900.0   9465400.0  43213100.0   \n",
       "2020-04-22  11387300.0  34651600.0  19151900.0  10261000.0  50764200.0   \n",
       "2020-04-23   7779100.0  32790800.0  19151200.0  17277000.0  34011500.0   \n",
       "2020-04-24   7334900.0  34305300.0  16470000.0  12751900.0  35567700.0   \n",
       "2020-04-27  12201100.0  33194400.0  22195500.0  10635700.0  33320700.0   \n",
       "2020-04-28  19345000.0  34392700.0  33839400.0   9958000.0  30924800.0   \n",
       "2020-04-29  13060300.0  51286600.0  25159900.0   8707900.0  33160100.0   \n",
       "2020-04-30  11105800.0  53875900.0  27942100.0  10026400.0  40751900.0   \n",
       "2020-05-01   9082600.0  39370500.0  21517900.0   7366400.0  36851300.0   \n",
       "2020-05-04   8444900.0  30372900.0  18874300.0   5636000.0  35164100.0   \n",
       "2020-05-05   7062400.0  36839200.0  22888000.0   5425200.0  24626100.0   \n",
       "2020-05-06  11846300.0  32139300.0  22815400.0   7892200.0  45094200.0   \n",
       "2020-05-07  12025200.0  28316000.0  31827400.0   8762800.0  31814300.0   \n",
       "2020-05-08   8389000.0  30912600.0  18881700.0   9283100.0  24047700.0   \n",
       "\n",
       "Value                                                          \n",
       "Symbol            TRV UTX          VZ         WMT         XOM  \n",
       "Date                                                           \n",
       "1999-12-31        NaN NaN         NaN         NaN         NaN  \n",
       "2001-09-12        NaN NaN         NaN         NaN         NaN  \n",
       "2016-01-18        NaN NaN         NaN         NaN         NaN  \n",
       "2020-04-08  1482100.0 NaN  18234200.0   9292200.0  33355600.0  \n",
       "2020-04-09  1693400.0 NaN  19693900.0  10944400.0  60208100.0  \n",
       "2020-04-13  1241500.0 NaN  12977700.0   8064700.0  29651900.0  \n",
       "2020-04-14  2122800.0 NaN  16765600.0  11366300.0  30769000.0  \n",
       "2020-04-15  1994700.0 NaN  18372800.0   7478400.0  33125000.0  \n",
       "2020-04-16  1721100.0 NaN  17825800.0  10627400.0  30934000.0  \n",
       "2020-04-17  2038500.0 NaN  15054300.0  10305100.0  40829100.0  \n",
       "2020-04-20  2204500.0 NaN  14002200.0   8133900.0  39260800.0  \n",
       "2020-04-21  3049200.0 NaN  14234500.0   9300200.0  44381600.0  \n",
       "2020-04-22  2274100.0 NaN  12703200.0   6485000.0  27084700.0  \n",
       "2020-04-23  1832100.0 NaN  15684400.0   9613300.0  35271000.0  \n",
       "2020-04-24  2130000.0 NaN  15373600.0   5782800.0  28667000.0  \n",
       "2020-04-27  1405200.0 NaN  16050100.0   5974600.0  28274400.0  \n",
       "2020-04-28  1907100.0 NaN  13392600.0   6910700.0  26545100.0  \n",
       "2020-04-29  1420200.0 NaN  17818100.0  14870700.0  29502500.0  \n",
       "2020-04-30  1908800.0 NaN  17532400.0  13499300.0  37076300.0  \n",
       "2020-05-01  2580200.0 NaN  13857400.0  10381300.0  35399300.0  \n",
       "2020-05-04  1657700.0 NaN  11833600.0   5935900.0  27465600.0  \n",
       "2020-05-05  1798700.0 NaN  10902400.0   6445800.0  29276200.0  \n",
       "2020-05-06  1309000.0 NaN  12460400.0   5769700.0  22659000.0  \n",
       "2020-05-07  1333100.0 NaN  14083100.0   9115200.0  22160300.0  \n",
       "2020-05-08  1125200.0 NaN  11100300.0   6944400.0  19998700.0  \n",
       "\n",
       "[25 rows x 174 columns]"
      ]
     },
     "execution_count": 27,
     "metadata": {},
     "output_type": "execute_result"
    }
   ],
   "source": [
    "anymissing = rawdata['Adj Close'].isna().any(axis=1)\n",
    "rawdata.loc[anymissing]"
   ]
  },
  {
   "cell_type": "markdown",
   "metadata": {
    "slideshow": {
     "slide_type": "subslide"
    }
   },
   "source": [
    "* Raytheon bought United Technologies in April  \n",
    "    Let's remove UTX and keep other recent data\n",
    "* Remove missing day: '1999-12-31'\n",
    "* Fill '2001-09-12', '2016-01-18' with [`pandas.DataFrame.fillna()`](https://pandas.pydata.org/pandas-docs/stable/reference/api/pandas.DataFrame.fillna.html#pandas.DataFrame.fillna)"
   ]
  },
  {
   "cell_type": "code",
   "execution_count": 28,
   "metadata": {
    "slideshow": {
     "slide_type": "-"
    }
   },
   "outputs": [],
   "source": [
    "data_all = pd.concat([\n",
    "    rawdata.loc[:, idx[:, :'TRV']], \n",
    "    rawdata.loc[:, idx[:, 'VZ':]], \n",
    "], axis=1).fillna(method='pad').loc['2000-01-03':]\n",
    "\n",
    "data_all.columns = data_all.columns.set_names(['Value', 'Symbol'])"
   ]
  },
  {
   "cell_type": "markdown",
   "metadata": {
    "slideshow": {
     "slide_type": "subslide"
    }
   },
   "source": [
    "* Double check: did we remove all missing values?"
   ]
  },
  {
   "cell_type": "code",
   "execution_count": 29,
   "metadata": {
    "slideshow": {
     "slide_type": "-"
    }
   },
   "outputs": [
    {
     "data": {
      "text/plain": [
       "False"
      ]
     },
     "execution_count": 29,
     "metadata": {},
     "output_type": "execute_result"
    }
   ],
   "source": [
    "(data_all.isna().sum(axis=None)>0).any()"
   ]
  },
  {
   "cell_type": "markdown",
   "metadata": {
    "slideshow": {
     "slide_type": "subslide"
    }
   },
   "source": [
    "* Reset symbols to what is in `data` variable"
   ]
  },
  {
   "cell_type": "code",
   "execution_count": 30,
   "metadata": {
    "slideshow": {
     "slide_type": "-"
    }
   },
   "outputs": [
    {
     "data": {
      "text/html": [
       "<div>\n",
       "<style scoped>\n",
       "    .dataframe tbody tr th:only-of-type {\n",
       "        vertical-align: middle;\n",
       "    }\n",
       "\n",
       "    .dataframe tbody tr th {\n",
       "        vertical-align: top;\n",
       "    }\n",
       "\n",
       "    .dataframe thead th {\n",
       "        text-align: right;\n",
       "    }\n",
       "</style>\n",
       "<table border=\"1\" class=\"dataframe\">\n",
       "  <thead>\n",
       "    <tr style=\"text-align: right;\">\n",
       "      <th></th>\n",
       "      <th>name</th>\n",
       "    </tr>\n",
       "    <tr>\n",
       "      <th>code</th>\n",
       "      <th></th>\n",
       "    </tr>\n",
       "  </thead>\n",
       "  <tbody>\n",
       "    <tr>\n",
       "      <th>AAPL</th>\n",
       "      <td>Apple Inc (AAPL)</td>\n",
       "    </tr>\n",
       "    <tr>\n",
       "      <th>AXP</th>\n",
       "      <td>American Express Co. (AXP)</td>\n",
       "    </tr>\n",
       "    <tr>\n",
       "      <th>BA</th>\n",
       "      <td>The Boeing Co. (BA)</td>\n",
       "    </tr>\n",
       "    <tr>\n",
       "      <th>BAC</th>\n",
       "      <td>Bank of America Corp. (BAC)</td>\n",
       "    </tr>\n",
       "    <tr>\n",
       "      <th>CAT</th>\n",
       "      <td>Caterpillar Inc. (CAT)</td>\n",
       "    </tr>\n",
       "    <tr>\n",
       "      <th>CSCO</th>\n",
       "      <td>Cisco Systems Inc. (CSCO)</td>\n",
       "    </tr>\n",
       "    <tr>\n",
       "      <th>CVX</th>\n",
       "      <td>Chevron Corporation (CVX)</td>\n",
       "    </tr>\n",
       "    <tr>\n",
       "      <th>DD</th>\n",
       "      <td>E.I. du Pont de Nemours and Co. (DD)</td>\n",
       "    </tr>\n",
       "    <tr>\n",
       "      <th>DIS</th>\n",
       "      <td>Disney (Walt) Co. (The) (DIS)</td>\n",
       "    </tr>\n",
       "    <tr>\n",
       "      <th>GE</th>\n",
       "      <td>General Electric Co (GE)</td>\n",
       "    </tr>\n",
       "    <tr>\n",
       "      <th>HD</th>\n",
       "      <td>Home Depot Inc (HD)</td>\n",
       "    </tr>\n",
       "    <tr>\n",
       "      <th>HPQ</th>\n",
       "      <td>Hewlett-Packard Co (HPQ)</td>\n",
       "    </tr>\n",
       "    <tr>\n",
       "      <th>IBM</th>\n",
       "      <td>International Business Machines Corp (IBM)</td>\n",
       "    </tr>\n",
       "    <tr>\n",
       "      <th>INTC</th>\n",
       "      <td>Intel Corp (INTC)</td>\n",
       "    </tr>\n",
       "    <tr>\n",
       "      <th>JNJ</th>\n",
       "      <td>Johnson &amp; Johnson (JNJ)</td>\n",
       "    </tr>\n",
       "    <tr>\n",
       "      <th>JPM</th>\n",
       "      <td>JP Morgan Chase (JPM)</td>\n",
       "    </tr>\n",
       "    <tr>\n",
       "      <th>KO</th>\n",
       "      <td>Coca-Cola Co (The) (KO)</td>\n",
       "    </tr>\n",
       "    <tr>\n",
       "      <th>MCD</th>\n",
       "      <td>McDonald's Corp (MCD)</td>\n",
       "    </tr>\n",
       "    <tr>\n",
       "      <th>MMM</th>\n",
       "      <td>3M Co (MMM)</td>\n",
       "    </tr>\n",
       "    <tr>\n",
       "      <th>MRK</th>\n",
       "      <td>Merck &amp; Co. Inc (MRK)</td>\n",
       "    </tr>\n",
       "    <tr>\n",
       "      <th>MSFT</th>\n",
       "      <td>Microsoft Corporation (MSFT)</td>\n",
       "    </tr>\n",
       "    <tr>\n",
       "      <th>PFE</th>\n",
       "      <td>Pfizer Inc (PFE)</td>\n",
       "    </tr>\n",
       "    <tr>\n",
       "      <th>PG</th>\n",
       "      <td>Procter &amp; Gamble Co. (PG)</td>\n",
       "    </tr>\n",
       "    <tr>\n",
       "      <th>T</th>\n",
       "      <td>AT&amp;T Inc (T)</td>\n",
       "    </tr>\n",
       "    <tr>\n",
       "      <th>TRV</th>\n",
       "      <td>Travelers Companies Inc (The) (TRV)</td>\n",
       "    </tr>\n",
       "    <tr>\n",
       "      <th>VZ</th>\n",
       "      <td>Verizon Communications Inc (VZ)</td>\n",
       "    </tr>\n",
       "    <tr>\n",
       "      <th>WMT</th>\n",
       "      <td>Wal-Mart Stores (WMT)</td>\n",
       "    </tr>\n",
       "    <tr>\n",
       "      <th>XOM</th>\n",
       "      <td>Exxon Mobil Corp. (XOM)</td>\n",
       "    </tr>\n",
       "  </tbody>\n",
       "</table>\n",
       "</div>"
      ],
      "text/plain": [
       "                                            name\n",
       "code                                            \n",
       "AAPL                            Apple Inc (AAPL)\n",
       "AXP                   American Express Co. (AXP)\n",
       "BA                           The Boeing Co. (BA)\n",
       "BAC                  Bank of America Corp. (BAC)\n",
       "CAT                       Caterpillar Inc. (CAT)\n",
       "CSCO                   Cisco Systems Inc. (CSCO)\n",
       "CVX                    Chevron Corporation (CVX)\n",
       "DD          E.I. du Pont de Nemours and Co. (DD)\n",
       "DIS                Disney (Walt) Co. (The) (DIS)\n",
       "GE                      General Electric Co (GE)\n",
       "HD                           Home Depot Inc (HD)\n",
       "HPQ                     Hewlett-Packard Co (HPQ)\n",
       "IBM   International Business Machines Corp (IBM)\n",
       "INTC                           Intel Corp (INTC)\n",
       "JNJ                      Johnson & Johnson (JNJ)\n",
       "JPM                        JP Morgan Chase (JPM)\n",
       "KO                       Coca-Cola Co (The) (KO)\n",
       "MCD                        McDonald's Corp (MCD)\n",
       "MMM                                  3M Co (MMM)\n",
       "MRK                        Merck & Co. Inc (MRK)\n",
       "MSFT                Microsoft Corporation (MSFT)\n",
       "PFE                             Pfizer Inc (PFE)\n",
       "PG                     Procter & Gamble Co. (PG)\n",
       "T                                   AT&T Inc (T)\n",
       "TRV          Travelers Companies Inc (The) (TRV)\n",
       "VZ               Verizon Communications Inc (VZ)\n",
       "WMT                        Wal-Mart Stores (WMT)\n",
       "XOM                      Exxon Mobil Corp. (XOM)"
      ]
     },
     "execution_count": 30,
     "metadata": {},
     "output_type": "execute_result"
    }
   ],
   "source": [
    "symbols = symbols.loc[data_all.columns.levels[1].to_list()]\n",
    "symbols"
   ]
  },
  {
   "cell_type": "code",
   "execution_count": 31,
   "metadata": {
    "slideshow": {
     "slide_type": "subslide"
    }
   },
   "outputs": [
    {
     "data": {
      "text/html": [
       "<div>\n",
       "<style scoped>\n",
       "    .dataframe tbody tr th:only-of-type {\n",
       "        vertical-align: middle;\n",
       "    }\n",
       "\n",
       "    .dataframe tbody tr th {\n",
       "        vertical-align: top;\n",
       "    }\n",
       "\n",
       "    .dataframe thead tr th {\n",
       "        text-align: left;\n",
       "    }\n",
       "\n",
       "    .dataframe thead tr:last-of-type th {\n",
       "        text-align: right;\n",
       "    }\n",
       "</style>\n",
       "<table border=\"1\" class=\"dataframe\">\n",
       "  <thead>\n",
       "    <tr>\n",
       "      <th>Value</th>\n",
       "      <th colspan=\"10\" halign=\"left\">Adj Close</th>\n",
       "      <th>...</th>\n",
       "      <th>High</th>\n",
       "      <th colspan=\"3\" halign=\"left\">Low</th>\n",
       "      <th colspan=\"3\" halign=\"left\">Open</th>\n",
       "      <th colspan=\"3\" halign=\"left\">Volume</th>\n",
       "    </tr>\n",
       "    <tr>\n",
       "      <th>Symbol</th>\n",
       "      <th>AAPL</th>\n",
       "      <th>AXP</th>\n",
       "      <th>BA</th>\n",
       "      <th>BAC</th>\n",
       "      <th>CAT</th>\n",
       "      <th>CSCO</th>\n",
       "      <th>CVX</th>\n",
       "      <th>DD</th>\n",
       "      <th>DIS</th>\n",
       "      <th>GE</th>\n",
       "      <th>...</th>\n",
       "      <th>XOM</th>\n",
       "      <th>VZ</th>\n",
       "      <th>WMT</th>\n",
       "      <th>XOM</th>\n",
       "      <th>VZ</th>\n",
       "      <th>WMT</th>\n",
       "      <th>XOM</th>\n",
       "      <th>VZ</th>\n",
       "      <th>WMT</th>\n",
       "      <th>XOM</th>\n",
       "    </tr>\n",
       "    <tr>\n",
       "      <th>Date</th>\n",
       "      <th></th>\n",
       "      <th></th>\n",
       "      <th></th>\n",
       "      <th></th>\n",
       "      <th></th>\n",
       "      <th></th>\n",
       "      <th></th>\n",
       "      <th></th>\n",
       "      <th></th>\n",
       "      <th></th>\n",
       "      <th></th>\n",
       "      <th></th>\n",
       "      <th></th>\n",
       "      <th></th>\n",
       "      <th></th>\n",
       "      <th></th>\n",
       "      <th></th>\n",
       "      <th></th>\n",
       "      <th></th>\n",
       "      <th></th>\n",
       "      <th></th>\n",
       "    </tr>\n",
       "  </thead>\n",
       "  <tbody>\n",
       "    <tr>\n",
       "      <th>2000-01-03</th>\n",
       "      <td>3.460857</td>\n",
       "      <td>34.683704</td>\n",
       "      <td>25.741438</td>\n",
       "      <td>14.306108</td>\n",
       "      <td>11.845388</td>\n",
       "      <td>41.433525</td>\n",
       "      <td>17.419516</td>\n",
       "      <td>31.433344</td>\n",
       "      <td>23.115221</td>\n",
       "      <td>26.297499</td>\n",
       "      <td>...</td>\n",
       "      <td>40.37500</td>\n",
       "      <td>53.622120</td>\n",
       "      <td>65.5000</td>\n",
       "      <td>38.93750</td>\n",
       "      <td>54.521442</td>\n",
       "      <td>68.375</td>\n",
       "      <td>39.75000</td>\n",
       "      <td>4663700.0</td>\n",
       "      <td>8369900.0</td>\n",
       "      <td>13458200.0</td>\n",
       "    </tr>\n",
       "    <tr>\n",
       "      <th>2000-01-04</th>\n",
       "      <td>3.169071</td>\n",
       "      <td>33.374104</td>\n",
       "      <td>25.701408</td>\n",
       "      <td>13.456975</td>\n",
       "      <td>11.693136</td>\n",
       "      <td>39.109055</td>\n",
       "      <td>17.419516</td>\n",
       "      <td>30.574173</td>\n",
       "      <td>24.469255</td>\n",
       "      <td>25.245590</td>\n",
       "      <td>...</td>\n",
       "      <td>39.09375</td>\n",
       "      <td>51.486229</td>\n",
       "      <td>64.1875</td>\n",
       "      <td>38.25000</td>\n",
       "      <td>53.678326</td>\n",
       "      <td>65.500</td>\n",
       "      <td>38.68750</td>\n",
       "      <td>5005800.0</td>\n",
       "      <td>6745100.0</td>\n",
       "      <td>14510800.0</td>\n",
       "    </tr>\n",
       "    <tr>\n",
       "      <th>2000-01-05</th>\n",
       "      <td>3.215448</td>\n",
       "      <td>32.526413</td>\n",
       "      <td>27.302753</td>\n",
       "      <td>13.604647</td>\n",
       "      <td>11.967190</td>\n",
       "      <td>38.989223</td>\n",
       "      <td>17.731968</td>\n",
       "      <td>31.566656</td>\n",
       "      <td>25.484774</td>\n",
       "      <td>25.201761</td>\n",
       "      <td>...</td>\n",
       "      <td>40.87500</td>\n",
       "      <td>52.610382</td>\n",
       "      <td>62.1875</td>\n",
       "      <td>38.90625</td>\n",
       "      <td>53.060043</td>\n",
       "      <td>63.875</td>\n",
       "      <td>39.00000</td>\n",
       "      <td>6368500.0</td>\n",
       "      <td>7018700.0</td>\n",
       "      <td>17485000.0</td>\n",
       "    </tr>\n",
       "    <tr>\n",
       "      <th>2000-01-06</th>\n",
       "      <td>2.937188</td>\n",
       "      <td>33.189102</td>\n",
       "      <td>27.582977</td>\n",
       "      <td>14.767599</td>\n",
       "      <td>12.576205</td>\n",
       "      <td>38.342190</td>\n",
       "      <td>18.487068</td>\n",
       "      <td>32.455444</td>\n",
       "      <td>24.469255</td>\n",
       "      <td>25.538691</td>\n",
       "      <td>...</td>\n",
       "      <td>42.90625</td>\n",
       "      <td>52.497967</td>\n",
       "      <td>62.6875</td>\n",
       "      <td>40.09375</td>\n",
       "      <td>53.678326</td>\n",
       "      <td>63.000</td>\n",
       "      <td>40.31250</td>\n",
       "      <td>4705600.0</td>\n",
       "      <td>6544500.0</td>\n",
       "      <td>19461600.0</td>\n",
       "    </tr>\n",
       "    <tr>\n",
       "      <th>2000-01-07</th>\n",
       "      <td>3.076317</td>\n",
       "      <td>33.672298</td>\n",
       "      <td>28.383648</td>\n",
       "      <td>14.379949</td>\n",
       "      <td>12.987292</td>\n",
       "      <td>40.594810</td>\n",
       "      <td>18.812553</td>\n",
       "      <td>33.181282</td>\n",
       "      <td>24.082386</td>\n",
       "      <td>26.527594</td>\n",
       "      <td>...</td>\n",
       "      <td>43.12500</td>\n",
       "      <td>51.992096</td>\n",
       "      <td>64.5000</td>\n",
       "      <td>42.00000</td>\n",
       "      <td>52.947628</td>\n",
       "      <td>64.500</td>\n",
       "      <td>42.96875</td>\n",
       "      <td>5043800.0</td>\n",
       "      <td>7976900.0</td>\n",
       "      <td>16603800.0</td>\n",
       "    </tr>\n",
       "  </tbody>\n",
       "</table>\n",
       "<p>5 rows × 168 columns</p>\n",
       "</div>"
      ],
      "text/plain": [
       "Value      Adj Close                                                         \\\n",
       "Symbol          AAPL        AXP         BA        BAC        CAT       CSCO   \n",
       "Date                                                                          \n",
       "2000-01-03  3.460857  34.683704  25.741438  14.306108  11.845388  41.433525   \n",
       "2000-01-04  3.169071  33.374104  25.701408  13.456975  11.693136  39.109055   \n",
       "2000-01-05  3.215448  32.526413  27.302753  13.604647  11.967190  38.989223   \n",
       "2000-01-06  2.937188  33.189102  27.582977  14.767599  12.576205  38.342190   \n",
       "2000-01-07  3.076317  33.672298  28.383648  14.379949  12.987292  40.594810   \n",
       "\n",
       "Value                                                   ...      High  \\\n",
       "Symbol            CVX         DD        DIS         GE  ...       XOM   \n",
       "Date                                                    ...             \n",
       "2000-01-03  17.419516  31.433344  23.115221  26.297499  ...  40.37500   \n",
       "2000-01-04  17.419516  30.574173  24.469255  25.245590  ...  39.09375   \n",
       "2000-01-05  17.731968  31.566656  25.484774  25.201761  ...  40.87500   \n",
       "2000-01-06  18.487068  32.455444  24.469255  25.538691  ...  42.90625   \n",
       "2000-01-07  18.812553  33.181282  24.082386  26.527594  ...  43.12500   \n",
       "\n",
       "Value             Low                          Open                    \\\n",
       "Symbol             VZ      WMT       XOM         VZ     WMT       XOM   \n",
       "Date                                                                    \n",
       "2000-01-03  53.622120  65.5000  38.93750  54.521442  68.375  39.75000   \n",
       "2000-01-04  51.486229  64.1875  38.25000  53.678326  65.500  38.68750   \n",
       "2000-01-05  52.610382  62.1875  38.90625  53.060043  63.875  39.00000   \n",
       "2000-01-06  52.497967  62.6875  40.09375  53.678326  63.000  40.31250   \n",
       "2000-01-07  51.992096  64.5000  42.00000  52.947628  64.500  42.96875   \n",
       "\n",
       "Value          Volume                         \n",
       "Symbol             VZ        WMT         XOM  \n",
       "Date                                          \n",
       "2000-01-03  4663700.0  8369900.0  13458200.0  \n",
       "2000-01-04  5005800.0  6745100.0  14510800.0  \n",
       "2000-01-05  6368500.0  7018700.0  17485000.0  \n",
       "2000-01-06  4705600.0  6544500.0  19461600.0  \n",
       "2000-01-07  5043800.0  7976900.0  16603800.0  \n",
       "\n",
       "[5 rows x 168 columns]"
      ]
     },
     "execution_count": 31,
     "metadata": {},
     "output_type": "execute_result"
    }
   ],
   "source": [
    "data_all.head()"
   ]
  },
  {
   "cell_type": "markdown",
   "metadata": {
    "slideshow": {
     "slide_type": "subslide"
    }
   },
   "source": [
    "### Adjusted Close\n",
    "\n",
    "* [Adjusted closing prices](https://help.yahoo.com/kb/SLN28256.html) accounts for splits, etc"
   ]
  },
  {
   "cell_type": "code",
   "execution_count": 32,
   "metadata": {
    "slideshow": {
     "slide_type": "-"
    }
   },
   "outputs": [
    {
     "data": {
      "text/html": [
       "<div>\n",
       "<style scoped>\n",
       "    .dataframe tbody tr th:only-of-type {\n",
       "        vertical-align: middle;\n",
       "    }\n",
       "\n",
       "    .dataframe tbody tr th {\n",
       "        vertical-align: top;\n",
       "    }\n",
       "\n",
       "    .dataframe thead th {\n",
       "        text-align: right;\n",
       "    }\n",
       "</style>\n",
       "<table border=\"1\" class=\"dataframe\">\n",
       "  <thead>\n",
       "    <tr style=\"text-align: right;\">\n",
       "      <th>Symbol</th>\n",
       "      <th>AAPL</th>\n",
       "      <th>AXP</th>\n",
       "      <th>BA</th>\n",
       "      <th>BAC</th>\n",
       "      <th>CAT</th>\n",
       "      <th>CSCO</th>\n",
       "      <th>CVX</th>\n",
       "      <th>DD</th>\n",
       "      <th>DIS</th>\n",
       "      <th>GE</th>\n",
       "      <th>...</th>\n",
       "      <th>MMM</th>\n",
       "      <th>MRK</th>\n",
       "      <th>MSFT</th>\n",
       "      <th>PFE</th>\n",
       "      <th>PG</th>\n",
       "      <th>T</th>\n",
       "      <th>TRV</th>\n",
       "      <th>VZ</th>\n",
       "      <th>WMT</th>\n",
       "      <th>XOM</th>\n",
       "    </tr>\n",
       "    <tr>\n",
       "      <th>Date</th>\n",
       "      <th></th>\n",
       "      <th></th>\n",
       "      <th></th>\n",
       "      <th></th>\n",
       "      <th></th>\n",
       "      <th></th>\n",
       "      <th></th>\n",
       "      <th></th>\n",
       "      <th></th>\n",
       "      <th></th>\n",
       "      <th></th>\n",
       "      <th></th>\n",
       "      <th></th>\n",
       "      <th></th>\n",
       "      <th></th>\n",
       "      <th></th>\n",
       "      <th></th>\n",
       "      <th></th>\n",
       "      <th></th>\n",
       "      <th></th>\n",
       "      <th></th>\n",
       "    </tr>\n",
       "  </thead>\n",
       "  <tbody>\n",
       "    <tr>\n",
       "      <th>2000-01-03</th>\n",
       "      <td>3.460857</td>\n",
       "      <td>34.683704</td>\n",
       "      <td>25.741438</td>\n",
       "      <td>14.306108</td>\n",
       "      <td>11.845388</td>\n",
       "      <td>41.433525</td>\n",
       "      <td>17.419516</td>\n",
       "      <td>31.433344</td>\n",
       "      <td>23.115221</td>\n",
       "      <td>26.297499</td>\n",
       "      <td>...</td>\n",
       "      <td>28.592686</td>\n",
       "      <td>31.689192</td>\n",
       "      <td>37.393559</td>\n",
       "      <td>15.987980</td>\n",
       "      <td>30.989897</td>\n",
       "      <td>17.282593</td>\n",
       "      <td>19.621847</td>\n",
       "      <td>21.479733</td>\n",
       "      <td>45.984715</td>\n",
       "      <td>21.818495</td>\n",
       "    </tr>\n",
       "    <tr>\n",
       "      <th>2000-01-04</th>\n",
       "      <td>3.169071</td>\n",
       "      <td>33.374104</td>\n",
       "      <td>25.701408</td>\n",
       "      <td>13.456975</td>\n",
       "      <td>11.693136</td>\n",
       "      <td>39.109055</td>\n",
       "      <td>17.419516</td>\n",
       "      <td>30.574173</td>\n",
       "      <td>24.469255</td>\n",
       "      <td>25.245590</td>\n",
       "      <td>...</td>\n",
       "      <td>27.456560</td>\n",
       "      <td>30.576269</td>\n",
       "      <td>36.130390</td>\n",
       "      <td>15.392351</td>\n",
       "      <td>30.393608</td>\n",
       "      <td>16.271378</td>\n",
       "      <td>19.361706</td>\n",
       "      <td>20.785389</td>\n",
       "      <td>44.264072</td>\n",
       "      <td>21.400583</td>\n",
       "    </tr>\n",
       "    <tr>\n",
       "      <th>2000-01-05</th>\n",
       "      <td>3.215448</td>\n",
       "      <td>32.526413</td>\n",
       "      <td>27.302753</td>\n",
       "      <td>13.604647</td>\n",
       "      <td>11.967190</td>\n",
       "      <td>38.989223</td>\n",
       "      <td>17.731968</td>\n",
       "      <td>31.566656</td>\n",
       "      <td>25.484774</td>\n",
       "      <td>25.201761</td>\n",
       "      <td>...</td>\n",
       "      <td>28.251841</td>\n",
       "      <td>31.777040</td>\n",
       "      <td>36.511333</td>\n",
       "      <td>15.643135</td>\n",
       "      <td>29.815363</td>\n",
       "      <td>16.524181</td>\n",
       "      <td>19.213058</td>\n",
       "      <td>21.479733</td>\n",
       "      <td>43.360710</td>\n",
       "      <td>22.567265</td>\n",
       "    </tr>\n",
       "    <tr>\n",
       "      <th>2000-01-06</th>\n",
       "      <td>2.937188</td>\n",
       "      <td>33.189102</td>\n",
       "      <td>27.582977</td>\n",
       "      <td>14.767599</td>\n",
       "      <td>12.576205</td>\n",
       "      <td>38.342190</td>\n",
       "      <td>18.487068</td>\n",
       "      <td>32.455444</td>\n",
       "      <td>24.469255</td>\n",
       "      <td>25.538691</td>\n",
       "      <td>...</td>\n",
       "      <td>30.524109</td>\n",
       "      <td>32.040642</td>\n",
       "      <td>35.288280</td>\n",
       "      <td>16.207415</td>\n",
       "      <td>31.188662</td>\n",
       "      <td>16.175280</td>\n",
       "      <td>19.584684</td>\n",
       "      <td>21.370630</td>\n",
       "      <td>43.833904</td>\n",
       "      <td>23.733942</td>\n",
       "    </tr>\n",
       "    <tr>\n",
       "      <th>2000-01-07</th>\n",
       "      <td>3.076317</td>\n",
       "      <td>33.672298</td>\n",
       "      <td>28.383648</td>\n",
       "      <td>14.379949</td>\n",
       "      <td>12.987292</td>\n",
       "      <td>40.594810</td>\n",
       "      <td>18.812553</td>\n",
       "      <td>33.181282</td>\n",
       "      <td>24.082386</td>\n",
       "      <td>26.527594</td>\n",
       "      <td>...</td>\n",
       "      <td>31.130033</td>\n",
       "      <td>35.115833</td>\n",
       "      <td>35.749432</td>\n",
       "      <td>17.304638</td>\n",
       "      <td>33.682331</td>\n",
       "      <td>16.313929</td>\n",
       "      <td>20.365091</td>\n",
       "      <td>21.212824</td>\n",
       "      <td>47.146187</td>\n",
       "      <td>23.664276</td>\n",
       "    </tr>\n",
       "  </tbody>\n",
       "</table>\n",
       "<p>5 rows × 28 columns</p>\n",
       "</div>"
      ],
      "text/plain": [
       "Symbol          AAPL        AXP         BA        BAC        CAT       CSCO  \\\n",
       "Date                                                                          \n",
       "2000-01-03  3.460857  34.683704  25.741438  14.306108  11.845388  41.433525   \n",
       "2000-01-04  3.169071  33.374104  25.701408  13.456975  11.693136  39.109055   \n",
       "2000-01-05  3.215448  32.526413  27.302753  13.604647  11.967190  38.989223   \n",
       "2000-01-06  2.937188  33.189102  27.582977  14.767599  12.576205  38.342190   \n",
       "2000-01-07  3.076317  33.672298  28.383648  14.379949  12.987292  40.594810   \n",
       "\n",
       "Symbol            CVX         DD        DIS         GE  ...        MMM  \\\n",
       "Date                                                    ...              \n",
       "2000-01-03  17.419516  31.433344  23.115221  26.297499  ...  28.592686   \n",
       "2000-01-04  17.419516  30.574173  24.469255  25.245590  ...  27.456560   \n",
       "2000-01-05  17.731968  31.566656  25.484774  25.201761  ...  28.251841   \n",
       "2000-01-06  18.487068  32.455444  24.469255  25.538691  ...  30.524109   \n",
       "2000-01-07  18.812553  33.181282  24.082386  26.527594  ...  31.130033   \n",
       "\n",
       "Symbol            MRK       MSFT        PFE         PG          T        TRV  \\\n",
       "Date                                                                           \n",
       "2000-01-03  31.689192  37.393559  15.987980  30.989897  17.282593  19.621847   \n",
       "2000-01-04  30.576269  36.130390  15.392351  30.393608  16.271378  19.361706   \n",
       "2000-01-05  31.777040  36.511333  15.643135  29.815363  16.524181  19.213058   \n",
       "2000-01-06  32.040642  35.288280  16.207415  31.188662  16.175280  19.584684   \n",
       "2000-01-07  35.115833  35.749432  17.304638  33.682331  16.313929  20.365091   \n",
       "\n",
       "Symbol             VZ        WMT        XOM  \n",
       "Date                                         \n",
       "2000-01-03  21.479733  45.984715  21.818495  \n",
       "2000-01-04  20.785389  44.264072  21.400583  \n",
       "2000-01-05  21.479733  43.360710  22.567265  \n",
       "2000-01-06  21.370630  43.833904  23.733942  \n",
       "2000-01-07  21.212824  47.146187  23.664276  \n",
       "\n",
       "[5 rows x 28 columns]"
      ]
     },
     "execution_count": 32,
     "metadata": {},
     "output_type": "execute_result"
    }
   ],
   "source": [
    "data = data_all['Adj Close']\n",
    "data.head()"
   ]
  },
  {
   "cell_type": "markdown",
   "metadata": {
    "slideshow": {
     "slide_type": "subslide"
    }
   },
   "source": [
    "### Log returns from stock prices\n",
    "\n",
    "* Data is price per share\n",
    "* We need daily returns from the prices\n",
    "* Given the prices $P_t$ and $P_{t-1}$ for time $t$, the return is, \n",
    "$$ R_t = \\frac{P_t - P_{t-1}}{P_{t-1}} = \\frac{P_t}{P_{t-1}} - 1 $$"
   ]
  },
  {
   "cell_type": "markdown",
   "metadata": {
    "slideshow": {
     "slide_type": "subslide"
    }
   },
   "source": [
    "* Approximation $\\log(1+x)\\approx x$ is good when $x$ is small\n",
    "* Since daily returns of stocks are small, calculate as returns,\n",
    "$$ r_t = \\log(1 + R_t) = \\log\\left(\\frac{P_t}{P_{t-1}}\\right) = \\log(P_t) - \\log(P_{t-1})$$\n",
    "So, in order to compute the log-returns, compute the difference of log prices:"
   ]
  },
  {
   "cell_type": "code",
   "execution_count": 33,
   "metadata": {
    "slideshow": {
     "slide_type": "subslide"
    }
   },
   "outputs": [
    {
     "data": {
      "text/html": [
       "<div>\n",
       "<style scoped>\n",
       "    .dataframe tbody tr th:only-of-type {\n",
       "        vertical-align: middle;\n",
       "    }\n",
       "\n",
       "    .dataframe tbody tr th {\n",
       "        vertical-align: top;\n",
       "    }\n",
       "\n",
       "    .dataframe thead th {\n",
       "        text-align: right;\n",
       "    }\n",
       "</style>\n",
       "<table border=\"1\" class=\"dataframe\">\n",
       "  <thead>\n",
       "    <tr style=\"text-align: right;\">\n",
       "      <th>Symbol</th>\n",
       "      <th>AAPL</th>\n",
       "      <th>AXP</th>\n",
       "      <th>BA</th>\n",
       "      <th>BAC</th>\n",
       "      <th>CAT</th>\n",
       "      <th>CSCO</th>\n",
       "      <th>CVX</th>\n",
       "      <th>DD</th>\n",
       "      <th>DIS</th>\n",
       "      <th>GE</th>\n",
       "      <th>...</th>\n",
       "      <th>MMM</th>\n",
       "      <th>MRK</th>\n",
       "      <th>MSFT</th>\n",
       "      <th>PFE</th>\n",
       "      <th>PG</th>\n",
       "      <th>T</th>\n",
       "      <th>TRV</th>\n",
       "      <th>VZ</th>\n",
       "      <th>WMT</th>\n",
       "      <th>XOM</th>\n",
       "    </tr>\n",
       "    <tr>\n",
       "      <th>Date</th>\n",
       "      <th></th>\n",
       "      <th></th>\n",
       "      <th></th>\n",
       "      <th></th>\n",
       "      <th></th>\n",
       "      <th></th>\n",
       "      <th></th>\n",
       "      <th></th>\n",
       "      <th></th>\n",
       "      <th></th>\n",
       "      <th></th>\n",
       "      <th></th>\n",
       "      <th></th>\n",
       "      <th></th>\n",
       "      <th></th>\n",
       "      <th></th>\n",
       "      <th></th>\n",
       "      <th></th>\n",
       "      <th></th>\n",
       "      <th></th>\n",
       "      <th></th>\n",
       "    </tr>\n",
       "  </thead>\n",
       "  <tbody>\n",
       "    <tr>\n",
       "      <th>2000-01-03</th>\n",
       "      <td>NaN</td>\n",
       "      <td>NaN</td>\n",
       "      <td>NaN</td>\n",
       "      <td>NaN</td>\n",
       "      <td>NaN</td>\n",
       "      <td>NaN</td>\n",
       "      <td>NaN</td>\n",
       "      <td>NaN</td>\n",
       "      <td>NaN</td>\n",
       "      <td>NaN</td>\n",
       "      <td>...</td>\n",
       "      <td>NaN</td>\n",
       "      <td>NaN</td>\n",
       "      <td>NaN</td>\n",
       "      <td>NaN</td>\n",
       "      <td>NaN</td>\n",
       "      <td>NaN</td>\n",
       "      <td>NaN</td>\n",
       "      <td>NaN</td>\n",
       "      <td>NaN</td>\n",
       "      <td>NaN</td>\n",
       "    </tr>\n",
       "    <tr>\n",
       "      <th>2000-01-04</th>\n",
       "      <td>-0.088078</td>\n",
       "      <td>-0.038490</td>\n",
       "      <td>-0.001556</td>\n",
       "      <td>-0.061189</td>\n",
       "      <td>-0.012937</td>\n",
       "      <td>-0.057736</td>\n",
       "      <td>0.000000</td>\n",
       "      <td>-0.027714</td>\n",
       "      <td>0.056926</td>\n",
       "      <td>-0.040822</td>\n",
       "      <td>...</td>\n",
       "      <td>-0.040546</td>\n",
       "      <td>-0.035751</td>\n",
       "      <td>-0.034364</td>\n",
       "      <td>-0.037966</td>\n",
       "      <td>-0.019429</td>\n",
       "      <td>-0.060292</td>\n",
       "      <td>-0.013346</td>\n",
       "      <td>-0.032860</td>\n",
       "      <td>-0.038136</td>\n",
       "      <td>-0.019340</td>\n",
       "    </tr>\n",
       "    <tr>\n",
       "      <th>2000-01-05</th>\n",
       "      <td>0.014528</td>\n",
       "      <td>-0.025728</td>\n",
       "      <td>0.060442</td>\n",
       "      <td>0.010914</td>\n",
       "      <td>0.023167</td>\n",
       "      <td>-0.003069</td>\n",
       "      <td>0.017778</td>\n",
       "      <td>0.031946</td>\n",
       "      <td>0.040664</td>\n",
       "      <td>-0.001738</td>\n",
       "      <td>...</td>\n",
       "      <td>0.028553</td>\n",
       "      <td>0.038520</td>\n",
       "      <td>0.010488</td>\n",
       "      <td>0.016161</td>\n",
       "      <td>-0.019209</td>\n",
       "      <td>0.015417</td>\n",
       "      <td>-0.007707</td>\n",
       "      <td>0.032860</td>\n",
       "      <td>-0.020620</td>\n",
       "      <td>0.053082</td>\n",
       "    </tr>\n",
       "    <tr>\n",
       "      <th>2000-01-06</th>\n",
       "      <td>-0.090514</td>\n",
       "      <td>0.020169</td>\n",
       "      <td>0.010211</td>\n",
       "      <td>0.082024</td>\n",
       "      <td>0.049638</td>\n",
       "      <td>-0.016734</td>\n",
       "      <td>0.041702</td>\n",
       "      <td>0.027767</td>\n",
       "      <td>-0.040664</td>\n",
       "      <td>0.013281</td>\n",
       "      <td>...</td>\n",
       "      <td>0.077358</td>\n",
       "      <td>0.008261</td>\n",
       "      <td>-0.034072</td>\n",
       "      <td>0.035437</td>\n",
       "      <td>0.045031</td>\n",
       "      <td>-0.021341</td>\n",
       "      <td>0.019158</td>\n",
       "      <td>-0.005092</td>\n",
       "      <td>0.010854</td>\n",
       "      <td>0.050406</td>\n",
       "    </tr>\n",
       "    <tr>\n",
       "      <th>2000-01-07</th>\n",
       "      <td>0.046280</td>\n",
       "      <td>0.014454</td>\n",
       "      <td>0.028614</td>\n",
       "      <td>-0.026601</td>\n",
       "      <td>0.032165</td>\n",
       "      <td>0.057089</td>\n",
       "      <td>0.017453</td>\n",
       "      <td>0.022118</td>\n",
       "      <td>-0.015937</td>\n",
       "      <td>0.037991</td>\n",
       "      <td>...</td>\n",
       "      <td>0.019656</td>\n",
       "      <td>0.091647</td>\n",
       "      <td>0.012983</td>\n",
       "      <td>0.065506</td>\n",
       "      <td>0.076919</td>\n",
       "      <td>0.008535</td>\n",
       "      <td>0.039074</td>\n",
       "      <td>-0.007412</td>\n",
       "      <td>0.072846</td>\n",
       "      <td>-0.002940</td>\n",
       "    </tr>\n",
       "  </tbody>\n",
       "</table>\n",
       "<p>5 rows × 28 columns</p>\n",
       "</div>"
      ],
      "text/plain": [
       "Symbol          AAPL       AXP        BA       BAC       CAT      CSCO  \\\n",
       "Date                                                                     \n",
       "2000-01-03       NaN       NaN       NaN       NaN       NaN       NaN   \n",
       "2000-01-04 -0.088078 -0.038490 -0.001556 -0.061189 -0.012937 -0.057736   \n",
       "2000-01-05  0.014528 -0.025728  0.060442  0.010914  0.023167 -0.003069   \n",
       "2000-01-06 -0.090514  0.020169  0.010211  0.082024  0.049638 -0.016734   \n",
       "2000-01-07  0.046280  0.014454  0.028614 -0.026601  0.032165  0.057089   \n",
       "\n",
       "Symbol           CVX        DD       DIS        GE  ...       MMM       MRK  \\\n",
       "Date                                                ...                       \n",
       "2000-01-03       NaN       NaN       NaN       NaN  ...       NaN       NaN   \n",
       "2000-01-04  0.000000 -0.027714  0.056926 -0.040822  ... -0.040546 -0.035751   \n",
       "2000-01-05  0.017778  0.031946  0.040664 -0.001738  ...  0.028553  0.038520   \n",
       "2000-01-06  0.041702  0.027767 -0.040664  0.013281  ...  0.077358  0.008261   \n",
       "2000-01-07  0.017453  0.022118 -0.015937  0.037991  ...  0.019656  0.091647   \n",
       "\n",
       "Symbol          MSFT       PFE        PG         T       TRV        VZ  \\\n",
       "Date                                                                     \n",
       "2000-01-03       NaN       NaN       NaN       NaN       NaN       NaN   \n",
       "2000-01-04 -0.034364 -0.037966 -0.019429 -0.060292 -0.013346 -0.032860   \n",
       "2000-01-05  0.010488  0.016161 -0.019209  0.015417 -0.007707  0.032860   \n",
       "2000-01-06 -0.034072  0.035437  0.045031 -0.021341  0.019158 -0.005092   \n",
       "2000-01-07  0.012983  0.065506  0.076919  0.008535  0.039074 -0.007412   \n",
       "\n",
       "Symbol           WMT       XOM  \n",
       "Date                            \n",
       "2000-01-03       NaN       NaN  \n",
       "2000-01-04 -0.038136 -0.019340  \n",
       "2000-01-05 -0.020620  0.053082  \n",
       "2000-01-06  0.010854  0.050406  \n",
       "2000-01-07  0.072846 -0.002940  \n",
       "\n",
       "[5 rows x 28 columns]"
      ]
     },
     "execution_count": 33,
     "metadata": {},
     "output_type": "execute_result"
    }
   ],
   "source": [
    "logret = np.log(data).diff()\n",
    "logret.head()"
   ]
  },
  {
   "cell_type": "markdown",
   "metadata": {
    "slideshow": {
     "slide_type": "-"
    }
   },
   "source": [
    "* First time period is NaN since there is no data corresponding to $-1$.\n",
    "\n",
    "* Note that $100\\cdot r_t$% represent daily percentage returns."
   ]
  },
  {
   "cell_type": "markdown",
   "metadata": {
    "slideshow": {
     "slide_type": "subslide"
    }
   },
   "source": [
    "### Estimate expected returns\n",
    "\n",
    "Estimate the daily expected returns by computing the means:"
   ]
  },
  {
   "cell_type": "code",
   "execution_count": 34,
   "metadata": {
    "slideshow": {
     "slide_type": "-"
    }
   },
   "outputs": [
    {
     "data": {
      "text/plain": [
       "Symbol\n",
       "AAPL    0.000878\n",
       "AXP     0.000185\n",
       "BA      0.000321\n",
       "BAC     0.000097\n",
       "CAT     0.000439\n",
       "CSCO    0.000007\n",
       "CVX     0.000332\n",
       "DD      0.000078\n",
       "DIS     0.000303\n",
       "GE     -0.000279\n",
       "HD      0.000329\n",
       "HPQ     0.000018\n",
       "IBM     0.000098\n",
       "INTC    0.000150\n",
       "JNJ     0.000329\n",
       "JPM     0.000244\n",
       "KO      0.000263\n",
       "MCD     0.000396\n",
       "MMM     0.000322\n",
       "MRK     0.000172\n",
       "MSFT    0.000312\n",
       "PFE     0.000165\n",
       "PG      0.000258\n",
       "T       0.000106\n",
       "TRV     0.000313\n",
       "VZ      0.000191\n",
       "WMT     0.000192\n",
       "XOM     0.000143\n",
       "dtype: float64"
      ]
     },
     "execution_count": 34,
     "metadata": {},
     "output_type": "execute_result"
    }
   ],
   "source": [
    "mu = logret[1:].mean()\n",
    "mu"
   ]
  },
  {
   "cell_type": "markdown",
   "metadata": {
    "slideshow": {
     "slide_type": "subslide"
    }
   },
   "source": [
    "### Estimate covariance matrix (volatility structure)\n",
    "\n",
    "Estimate the covarince matrix of returns:"
   ]
  },
  {
   "cell_type": "code",
   "execution_count": 35,
   "metadata": {
    "slideshow": {
     "slide_type": "-"
    }
   },
   "outputs": [
    {
     "data": {
      "text/html": [
       "<div>\n",
       "<style scoped>\n",
       "    .dataframe tbody tr th:only-of-type {\n",
       "        vertical-align: middle;\n",
       "    }\n",
       "\n",
       "    .dataframe tbody tr th {\n",
       "        vertical-align: top;\n",
       "    }\n",
       "\n",
       "    .dataframe thead th {\n",
       "        text-align: right;\n",
       "    }\n",
       "</style>\n",
       "<table border=\"1\" class=\"dataframe\">\n",
       "  <thead>\n",
       "    <tr style=\"text-align: right;\">\n",
       "      <th>Symbol</th>\n",
       "      <th>AAPL</th>\n",
       "      <th>AXP</th>\n",
       "      <th>BA</th>\n",
       "      <th>BAC</th>\n",
       "      <th>CAT</th>\n",
       "      <th>CSCO</th>\n",
       "      <th>CVX</th>\n",
       "      <th>DD</th>\n",
       "      <th>DIS</th>\n",
       "      <th>GE</th>\n",
       "      <th>...</th>\n",
       "      <th>MMM</th>\n",
       "      <th>MRK</th>\n",
       "      <th>MSFT</th>\n",
       "      <th>PFE</th>\n",
       "      <th>PG</th>\n",
       "      <th>T</th>\n",
       "      <th>TRV</th>\n",
       "      <th>VZ</th>\n",
       "      <th>WMT</th>\n",
       "      <th>XOM</th>\n",
       "    </tr>\n",
       "    <tr>\n",
       "      <th>Symbol</th>\n",
       "      <th></th>\n",
       "      <th></th>\n",
       "      <th></th>\n",
       "      <th></th>\n",
       "      <th></th>\n",
       "      <th></th>\n",
       "      <th></th>\n",
       "      <th></th>\n",
       "      <th></th>\n",
       "      <th></th>\n",
       "      <th></th>\n",
       "      <th></th>\n",
       "      <th></th>\n",
       "      <th></th>\n",
       "      <th></th>\n",
       "      <th></th>\n",
       "      <th></th>\n",
       "      <th></th>\n",
       "      <th></th>\n",
       "      <th></th>\n",
       "      <th></th>\n",
       "    </tr>\n",
       "  </thead>\n",
       "  <tbody>\n",
       "    <tr>\n",
       "      <th>AAPL</th>\n",
       "      <td>0.000710</td>\n",
       "      <td>0.000221</td>\n",
       "      <td>0.000162</td>\n",
       "      <td>0.000240</td>\n",
       "      <td>0.000201</td>\n",
       "      <td>0.000297</td>\n",
       "      <td>0.000128</td>\n",
       "      <td>0.000171</td>\n",
       "      <td>0.000176</td>\n",
       "      <td>0.000195</td>\n",
       "      <td>...</td>\n",
       "      <td>0.000129</td>\n",
       "      <td>0.000095</td>\n",
       "      <td>0.000229</td>\n",
       "      <td>0.000093</td>\n",
       "      <td>0.000067</td>\n",
       "      <td>0.000120</td>\n",
       "      <td>0.000142</td>\n",
       "      <td>0.000104</td>\n",
       "      <td>0.000101</td>\n",
       "      <td>0.000121</td>\n",
       "    </tr>\n",
       "    <tr>\n",
       "      <th>AXP</th>\n",
       "      <td>0.000221</td>\n",
       "      <td>0.000524</td>\n",
       "      <td>0.000242</td>\n",
       "      <td>0.000444</td>\n",
       "      <td>0.000255</td>\n",
       "      <td>0.000251</td>\n",
       "      <td>0.000198</td>\n",
       "      <td>0.000271</td>\n",
       "      <td>0.000246</td>\n",
       "      <td>0.000284</td>\n",
       "      <td>...</td>\n",
       "      <td>0.000183</td>\n",
       "      <td>0.000147</td>\n",
       "      <td>0.000215</td>\n",
       "      <td>0.000152</td>\n",
       "      <td>0.000111</td>\n",
       "      <td>0.000169</td>\n",
       "      <td>0.000239</td>\n",
       "      <td>0.000148</td>\n",
       "      <td>0.000129</td>\n",
       "      <td>0.000176</td>\n",
       "    </tr>\n",
       "    <tr>\n",
       "      <th>BA</th>\n",
       "      <td>0.000162</td>\n",
       "      <td>0.000242</td>\n",
       "      <td>0.000447</td>\n",
       "      <td>0.000250</td>\n",
       "      <td>0.000205</td>\n",
       "      <td>0.000180</td>\n",
       "      <td>0.000172</td>\n",
       "      <td>0.000224</td>\n",
       "      <td>0.000188</td>\n",
       "      <td>0.000212</td>\n",
       "      <td>...</td>\n",
       "      <td>0.000148</td>\n",
       "      <td>0.000114</td>\n",
       "      <td>0.000165</td>\n",
       "      <td>0.000120</td>\n",
       "      <td>0.000090</td>\n",
       "      <td>0.000122</td>\n",
       "      <td>0.000166</td>\n",
       "      <td>0.000101</td>\n",
       "      <td>0.000098</td>\n",
       "      <td>0.000156</td>\n",
       "    </tr>\n",
       "    <tr>\n",
       "      <th>BAC</th>\n",
       "      <td>0.000240</td>\n",
       "      <td>0.000444</td>\n",
       "      <td>0.000250</td>\n",
       "      <td>0.000848</td>\n",
       "      <td>0.000295</td>\n",
       "      <td>0.000266</td>\n",
       "      <td>0.000221</td>\n",
       "      <td>0.000322</td>\n",
       "      <td>0.000249</td>\n",
       "      <td>0.000335</td>\n",
       "      <td>...</td>\n",
       "      <td>0.000208</td>\n",
       "      <td>0.000153</td>\n",
       "      <td>0.000220</td>\n",
       "      <td>0.000171</td>\n",
       "      <td>0.000119</td>\n",
       "      <td>0.000180</td>\n",
       "      <td>0.000275</td>\n",
       "      <td>0.000153</td>\n",
       "      <td>0.000126</td>\n",
       "      <td>0.000192</td>\n",
       "    </tr>\n",
       "    <tr>\n",
       "      <th>CAT</th>\n",
       "      <td>0.000201</td>\n",
       "      <td>0.000255</td>\n",
       "      <td>0.000205</td>\n",
       "      <td>0.000295</td>\n",
       "      <td>0.000421</td>\n",
       "      <td>0.000203</td>\n",
       "      <td>0.000187</td>\n",
       "      <td>0.000274</td>\n",
       "      <td>0.000185</td>\n",
       "      <td>0.000223</td>\n",
       "      <td>...</td>\n",
       "      <td>0.000182</td>\n",
       "      <td>0.000115</td>\n",
       "      <td>0.000176</td>\n",
       "      <td>0.000124</td>\n",
       "      <td>0.000093</td>\n",
       "      <td>0.000129</td>\n",
       "      <td>0.000167</td>\n",
       "      <td>0.000110</td>\n",
       "      <td>0.000106</td>\n",
       "      <td>0.000172</td>\n",
       "    </tr>\n",
       "    <tr>\n",
       "      <th>CSCO</th>\n",
       "      <td>0.000297</td>\n",
       "      <td>0.000251</td>\n",
       "      <td>0.000180</td>\n",
       "      <td>0.000266</td>\n",
       "      <td>0.000203</td>\n",
       "      <td>0.000596</td>\n",
       "      <td>0.000137</td>\n",
       "      <td>0.000199</td>\n",
       "      <td>0.000212</td>\n",
       "      <td>0.000223</td>\n",
       "      <td>...</td>\n",
       "      <td>0.000151</td>\n",
       "      <td>0.000103</td>\n",
       "      <td>0.000271</td>\n",
       "      <td>0.000115</td>\n",
       "      <td>0.000081</td>\n",
       "      <td>0.000139</td>\n",
       "      <td>0.000165</td>\n",
       "      <td>0.000131</td>\n",
       "      <td>0.000118</td>\n",
       "      <td>0.000130</td>\n",
       "    </tr>\n",
       "    <tr>\n",
       "      <th>CVX</th>\n",
       "      <td>0.000128</td>\n",
       "      <td>0.000198</td>\n",
       "      <td>0.000172</td>\n",
       "      <td>0.000221</td>\n",
       "      <td>0.000187</td>\n",
       "      <td>0.000137</td>\n",
       "      <td>0.000300</td>\n",
       "      <td>0.000193</td>\n",
       "      <td>0.000150</td>\n",
       "      <td>0.000167</td>\n",
       "      <td>...</td>\n",
       "      <td>0.000127</td>\n",
       "      <td>0.000118</td>\n",
       "      <td>0.000141</td>\n",
       "      <td>0.000114</td>\n",
       "      <td>0.000078</td>\n",
       "      <td>0.000115</td>\n",
       "      <td>0.000154</td>\n",
       "      <td>0.000099</td>\n",
       "      <td>0.000072</td>\n",
       "      <td>0.000228</td>\n",
       "    </tr>\n",
       "    <tr>\n",
       "      <th>DD</th>\n",
       "      <td>0.000171</td>\n",
       "      <td>0.000271</td>\n",
       "      <td>0.000224</td>\n",
       "      <td>0.000322</td>\n",
       "      <td>0.000274</td>\n",
       "      <td>0.000199</td>\n",
       "      <td>0.000193</td>\n",
       "      <td>0.000509</td>\n",
       "      <td>0.000201</td>\n",
       "      <td>0.000236</td>\n",
       "      <td>...</td>\n",
       "      <td>0.000189</td>\n",
       "      <td>0.000133</td>\n",
       "      <td>0.000170</td>\n",
       "      <td>0.000136</td>\n",
       "      <td>0.000111</td>\n",
       "      <td>0.000141</td>\n",
       "      <td>0.000187</td>\n",
       "      <td>0.000118</td>\n",
       "      <td>0.000113</td>\n",
       "      <td>0.000177</td>\n",
       "    </tr>\n",
       "    <tr>\n",
       "      <th>DIS</th>\n",
       "      <td>0.000176</td>\n",
       "      <td>0.000246</td>\n",
       "      <td>0.000188</td>\n",
       "      <td>0.000249</td>\n",
       "      <td>0.000185</td>\n",
       "      <td>0.000212</td>\n",
       "      <td>0.000150</td>\n",
       "      <td>0.000201</td>\n",
       "      <td>0.000370</td>\n",
       "      <td>0.000199</td>\n",
       "      <td>...</td>\n",
       "      <td>0.000139</td>\n",
       "      <td>0.000111</td>\n",
       "      <td>0.000174</td>\n",
       "      <td>0.000113</td>\n",
       "      <td>0.000083</td>\n",
       "      <td>0.000131</td>\n",
       "      <td>0.000153</td>\n",
       "      <td>0.000122</td>\n",
       "      <td>0.000102</td>\n",
       "      <td>0.000138</td>\n",
       "    </tr>\n",
       "    <tr>\n",
       "      <th>GE</th>\n",
       "      <td>0.000195</td>\n",
       "      <td>0.000284</td>\n",
       "      <td>0.000212</td>\n",
       "      <td>0.000335</td>\n",
       "      <td>0.000223</td>\n",
       "      <td>0.000223</td>\n",
       "      <td>0.000167</td>\n",
       "      <td>0.000236</td>\n",
       "      <td>0.000199</td>\n",
       "      <td>0.000429</td>\n",
       "      <td>...</td>\n",
       "      <td>0.000167</td>\n",
       "      <td>0.000123</td>\n",
       "      <td>0.000177</td>\n",
       "      <td>0.000134</td>\n",
       "      <td>0.000097</td>\n",
       "      <td>0.000135</td>\n",
       "      <td>0.000182</td>\n",
       "      <td>0.000124</td>\n",
       "      <td>0.000111</td>\n",
       "      <td>0.000154</td>\n",
       "    </tr>\n",
       "    <tr>\n",
       "      <th>HD</th>\n",
       "      <td>0.000170</td>\n",
       "      <td>0.000242</td>\n",
       "      <td>0.000186</td>\n",
       "      <td>0.000254</td>\n",
       "      <td>0.000187</td>\n",
       "      <td>0.000191</td>\n",
       "      <td>0.000136</td>\n",
       "      <td>0.000199</td>\n",
       "      <td>0.000184</td>\n",
       "      <td>0.000195</td>\n",
       "      <td>...</td>\n",
       "      <td>0.000143</td>\n",
       "      <td>0.000108</td>\n",
       "      <td>0.000166</td>\n",
       "      <td>0.000113</td>\n",
       "      <td>0.000086</td>\n",
       "      <td>0.000123</td>\n",
       "      <td>0.000168</td>\n",
       "      <td>0.000111</td>\n",
       "      <td>0.000159</td>\n",
       "      <td>0.000126</td>\n",
       "    </tr>\n",
       "    <tr>\n",
       "      <th>HPQ</th>\n",
       "      <td>0.000263</td>\n",
       "      <td>0.000232</td>\n",
       "      <td>0.000190</td>\n",
       "      <td>0.000244</td>\n",
       "      <td>0.000206</td>\n",
       "      <td>0.000299</td>\n",
       "      <td>0.000152</td>\n",
       "      <td>0.000206</td>\n",
       "      <td>0.000199</td>\n",
       "      <td>0.000202</td>\n",
       "      <td>...</td>\n",
       "      <td>0.000139</td>\n",
       "      <td>0.000109</td>\n",
       "      <td>0.000223</td>\n",
       "      <td>0.000105</td>\n",
       "      <td>0.000066</td>\n",
       "      <td>0.000124</td>\n",
       "      <td>0.000153</td>\n",
       "      <td>0.000116</td>\n",
       "      <td>0.000094</td>\n",
       "      <td>0.000134</td>\n",
       "    </tr>\n",
       "    <tr>\n",
       "      <th>IBM</th>\n",
       "      <td>0.000181</td>\n",
       "      <td>0.000179</td>\n",
       "      <td>0.000138</td>\n",
       "      <td>0.000189</td>\n",
       "      <td>0.000155</td>\n",
       "      <td>0.000215</td>\n",
       "      <td>0.000116</td>\n",
       "      <td>0.000161</td>\n",
       "      <td>0.000149</td>\n",
       "      <td>0.000167</td>\n",
       "      <td>...</td>\n",
       "      <td>0.000111</td>\n",
       "      <td>0.000086</td>\n",
       "      <td>0.000167</td>\n",
       "      <td>0.000089</td>\n",
       "      <td>0.000065</td>\n",
       "      <td>0.000112</td>\n",
       "      <td>0.000125</td>\n",
       "      <td>0.000099</td>\n",
       "      <td>0.000087</td>\n",
       "      <td>0.000112</td>\n",
       "    </tr>\n",
       "    <tr>\n",
       "      <th>INTC</th>\n",
       "      <td>0.000311</td>\n",
       "      <td>0.000255</td>\n",
       "      <td>0.000192</td>\n",
       "      <td>0.000264</td>\n",
       "      <td>0.000211</td>\n",
       "      <td>0.000362</td>\n",
       "      <td>0.000145</td>\n",
       "      <td>0.000205</td>\n",
       "      <td>0.000199</td>\n",
       "      <td>0.000212</td>\n",
       "      <td>...</td>\n",
       "      <td>0.000150</td>\n",
       "      <td>0.000114</td>\n",
       "      <td>0.000282</td>\n",
       "      <td>0.000115</td>\n",
       "      <td>0.000086</td>\n",
       "      <td>0.000139</td>\n",
       "      <td>0.000170</td>\n",
       "      <td>0.000130</td>\n",
       "      <td>0.000117</td>\n",
       "      <td>0.000141</td>\n",
       "    </tr>\n",
       "    <tr>\n",
       "      <th>JNJ</th>\n",
       "      <td>0.000072</td>\n",
       "      <td>0.000111</td>\n",
       "      <td>0.000095</td>\n",
       "      <td>0.000114</td>\n",
       "      <td>0.000093</td>\n",
       "      <td>0.000081</td>\n",
       "      <td>0.000090</td>\n",
       "      <td>0.000100</td>\n",
       "      <td>0.000086</td>\n",
       "      <td>0.000097</td>\n",
       "      <td>...</td>\n",
       "      <td>0.000087</td>\n",
       "      <td>0.000111</td>\n",
       "      <td>0.000084</td>\n",
       "      <td>0.000108</td>\n",
       "      <td>0.000080</td>\n",
       "      <td>0.000080</td>\n",
       "      <td>0.000087</td>\n",
       "      <td>0.000074</td>\n",
       "      <td>0.000067</td>\n",
       "      <td>0.000090</td>\n",
       "    </tr>\n",
       "    <tr>\n",
       "      <th>JPM</th>\n",
       "      <td>0.000235</td>\n",
       "      <td>0.000398</td>\n",
       "      <td>0.000234</td>\n",
       "      <td>0.000560</td>\n",
       "      <td>0.000265</td>\n",
       "      <td>0.000276</td>\n",
       "      <td>0.000199</td>\n",
       "      <td>0.000291</td>\n",
       "      <td>0.000243</td>\n",
       "      <td>0.000306</td>\n",
       "      <td>...</td>\n",
       "      <td>0.000184</td>\n",
       "      <td>0.000149</td>\n",
       "      <td>0.000226</td>\n",
       "      <td>0.000154</td>\n",
       "      <td>0.000106</td>\n",
       "      <td>0.000179</td>\n",
       "      <td>0.000259</td>\n",
       "      <td>0.000162</td>\n",
       "      <td>0.000132</td>\n",
       "      <td>0.000177</td>\n",
       "    </tr>\n",
       "    <tr>\n",
       "      <th>KO</th>\n",
       "      <td>0.000078</td>\n",
       "      <td>0.000115</td>\n",
       "      <td>0.000101</td>\n",
       "      <td>0.000112</td>\n",
       "      <td>0.000097</td>\n",
       "      <td>0.000084</td>\n",
       "      <td>0.000089</td>\n",
       "      <td>0.000105</td>\n",
       "      <td>0.000091</td>\n",
       "      <td>0.000095</td>\n",
       "      <td>...</td>\n",
       "      <td>0.000084</td>\n",
       "      <td>0.000083</td>\n",
       "      <td>0.000089</td>\n",
       "      <td>0.000080</td>\n",
       "      <td>0.000088</td>\n",
       "      <td>0.000085</td>\n",
       "      <td>0.000094</td>\n",
       "      <td>0.000080</td>\n",
       "      <td>0.000070</td>\n",
       "      <td>0.000090</td>\n",
       "    </tr>\n",
       "    <tr>\n",
       "      <th>MCD</th>\n",
       "      <td>0.000099</td>\n",
       "      <td>0.000138</td>\n",
       "      <td>0.000120</td>\n",
       "      <td>0.000138</td>\n",
       "      <td>0.000105</td>\n",
       "      <td>0.000111</td>\n",
       "      <td>0.000099</td>\n",
       "      <td>0.000119</td>\n",
       "      <td>0.000110</td>\n",
       "      <td>0.000113</td>\n",
       "      <td>...</td>\n",
       "      <td>0.000086</td>\n",
       "      <td>0.000082</td>\n",
       "      <td>0.000094</td>\n",
       "      <td>0.000077</td>\n",
       "      <td>0.000073</td>\n",
       "      <td>0.000078</td>\n",
       "      <td>0.000114</td>\n",
       "      <td>0.000072</td>\n",
       "      <td>0.000078</td>\n",
       "      <td>0.000088</td>\n",
       "    </tr>\n",
       "    <tr>\n",
       "      <th>MMM</th>\n",
       "      <td>0.000129</td>\n",
       "      <td>0.000183</td>\n",
       "      <td>0.000148</td>\n",
       "      <td>0.000208</td>\n",
       "      <td>0.000182</td>\n",
       "      <td>0.000151</td>\n",
       "      <td>0.000127</td>\n",
       "      <td>0.000189</td>\n",
       "      <td>0.000139</td>\n",
       "      <td>0.000167</td>\n",
       "      <td>...</td>\n",
       "      <td>0.000225</td>\n",
       "      <td>0.000096</td>\n",
       "      <td>0.000123</td>\n",
       "      <td>0.000106</td>\n",
       "      <td>0.000088</td>\n",
       "      <td>0.000100</td>\n",
       "      <td>0.000134</td>\n",
       "      <td>0.000089</td>\n",
       "      <td>0.000091</td>\n",
       "      <td>0.000125</td>\n",
       "    </tr>\n",
       "    <tr>\n",
       "      <th>MRK</th>\n",
       "      <td>0.000095</td>\n",
       "      <td>0.000147</td>\n",
       "      <td>0.000114</td>\n",
       "      <td>0.000153</td>\n",
       "      <td>0.000115</td>\n",
       "      <td>0.000103</td>\n",
       "      <td>0.000118</td>\n",
       "      <td>0.000133</td>\n",
       "      <td>0.000111</td>\n",
       "      <td>0.000123</td>\n",
       "      <td>...</td>\n",
       "      <td>0.000096</td>\n",
       "      <td>0.000300</td>\n",
       "      <td>0.000104</td>\n",
       "      <td>0.000154</td>\n",
       "      <td>0.000087</td>\n",
       "      <td>0.000103</td>\n",
       "      <td>0.000120</td>\n",
       "      <td>0.000098</td>\n",
       "      <td>0.000082</td>\n",
       "      <td>0.000112</td>\n",
       "    </tr>\n",
       "    <tr>\n",
       "      <th>MSFT</th>\n",
       "      <td>0.000229</td>\n",
       "      <td>0.000215</td>\n",
       "      <td>0.000165</td>\n",
       "      <td>0.000220</td>\n",
       "      <td>0.000176</td>\n",
       "      <td>0.000271</td>\n",
       "      <td>0.000141</td>\n",
       "      <td>0.000170</td>\n",
       "      <td>0.000174</td>\n",
       "      <td>0.000177</td>\n",
       "      <td>...</td>\n",
       "      <td>0.000123</td>\n",
       "      <td>0.000104</td>\n",
       "      <td>0.000381</td>\n",
       "      <td>0.000108</td>\n",
       "      <td>0.000074</td>\n",
       "      <td>0.000123</td>\n",
       "      <td>0.000150</td>\n",
       "      <td>0.000115</td>\n",
       "      <td>0.000104</td>\n",
       "      <td>0.000131</td>\n",
       "    </tr>\n",
       "    <tr>\n",
       "      <th>PFE</th>\n",
       "      <td>0.000093</td>\n",
       "      <td>0.000152</td>\n",
       "      <td>0.000120</td>\n",
       "      <td>0.000171</td>\n",
       "      <td>0.000124</td>\n",
       "      <td>0.000115</td>\n",
       "      <td>0.000114</td>\n",
       "      <td>0.000136</td>\n",
       "      <td>0.000113</td>\n",
       "      <td>0.000134</td>\n",
       "      <td>...</td>\n",
       "      <td>0.000106</td>\n",
       "      <td>0.000154</td>\n",
       "      <td>0.000108</td>\n",
       "      <td>0.000250</td>\n",
       "      <td>0.000085</td>\n",
       "      <td>0.000101</td>\n",
       "      <td>0.000119</td>\n",
       "      <td>0.000092</td>\n",
       "      <td>0.000087</td>\n",
       "      <td>0.000114</td>\n",
       "    </tr>\n",
       "    <tr>\n",
       "      <th>PG</th>\n",
       "      <td>0.000067</td>\n",
       "      <td>0.000111</td>\n",
       "      <td>0.000090</td>\n",
       "      <td>0.000119</td>\n",
       "      <td>0.000093</td>\n",
       "      <td>0.000081</td>\n",
       "      <td>0.000078</td>\n",
       "      <td>0.000111</td>\n",
       "      <td>0.000083</td>\n",
       "      <td>0.000097</td>\n",
       "      <td>...</td>\n",
       "      <td>0.000088</td>\n",
       "      <td>0.000087</td>\n",
       "      <td>0.000074</td>\n",
       "      <td>0.000085</td>\n",
       "      <td>0.000194</td>\n",
       "      <td>0.000086</td>\n",
       "      <td>0.000091</td>\n",
       "      <td>0.000076</td>\n",
       "      <td>0.000080</td>\n",
       "      <td>0.000080</td>\n",
       "    </tr>\n",
       "    <tr>\n",
       "      <th>T</th>\n",
       "      <td>0.000120</td>\n",
       "      <td>0.000169</td>\n",
       "      <td>0.000122</td>\n",
       "      <td>0.000180</td>\n",
       "      <td>0.000129</td>\n",
       "      <td>0.000139</td>\n",
       "      <td>0.000115</td>\n",
       "      <td>0.000141</td>\n",
       "      <td>0.000131</td>\n",
       "      <td>0.000135</td>\n",
       "      <td>...</td>\n",
       "      <td>0.000100</td>\n",
       "      <td>0.000103</td>\n",
       "      <td>0.000123</td>\n",
       "      <td>0.000101</td>\n",
       "      <td>0.000086</td>\n",
       "      <td>0.000271</td>\n",
       "      <td>0.000122</td>\n",
       "      <td>0.000180</td>\n",
       "      <td>0.000092</td>\n",
       "      <td>0.000118</td>\n",
       "    </tr>\n",
       "    <tr>\n",
       "      <th>TRV</th>\n",
       "      <td>0.000142</td>\n",
       "      <td>0.000239</td>\n",
       "      <td>0.000166</td>\n",
       "      <td>0.000275</td>\n",
       "      <td>0.000167</td>\n",
       "      <td>0.000165</td>\n",
       "      <td>0.000154</td>\n",
       "      <td>0.000187</td>\n",
       "      <td>0.000153</td>\n",
       "      <td>0.000182</td>\n",
       "      <td>...</td>\n",
       "      <td>0.000134</td>\n",
       "      <td>0.000120</td>\n",
       "      <td>0.000150</td>\n",
       "      <td>0.000119</td>\n",
       "      <td>0.000091</td>\n",
       "      <td>0.000122</td>\n",
       "      <td>0.000346</td>\n",
       "      <td>0.000113</td>\n",
       "      <td>0.000103</td>\n",
       "      <td>0.000138</td>\n",
       "    </tr>\n",
       "    <tr>\n",
       "      <th>VZ</th>\n",
       "      <td>0.000104</td>\n",
       "      <td>0.000148</td>\n",
       "      <td>0.000101</td>\n",
       "      <td>0.000153</td>\n",
       "      <td>0.000110</td>\n",
       "      <td>0.000131</td>\n",
       "      <td>0.000099</td>\n",
       "      <td>0.000118</td>\n",
       "      <td>0.000122</td>\n",
       "      <td>0.000124</td>\n",
       "      <td>...</td>\n",
       "      <td>0.000089</td>\n",
       "      <td>0.000098</td>\n",
       "      <td>0.000115</td>\n",
       "      <td>0.000092</td>\n",
       "      <td>0.000076</td>\n",
       "      <td>0.000180</td>\n",
       "      <td>0.000113</td>\n",
       "      <td>0.000240</td>\n",
       "      <td>0.000084</td>\n",
       "      <td>0.000101</td>\n",
       "    </tr>\n",
       "    <tr>\n",
       "      <th>WMT</th>\n",
       "      <td>0.000101</td>\n",
       "      <td>0.000129</td>\n",
       "      <td>0.000098</td>\n",
       "      <td>0.000126</td>\n",
       "      <td>0.000106</td>\n",
       "      <td>0.000118</td>\n",
       "      <td>0.000072</td>\n",
       "      <td>0.000113</td>\n",
       "      <td>0.000102</td>\n",
       "      <td>0.000111</td>\n",
       "      <td>...</td>\n",
       "      <td>0.000091</td>\n",
       "      <td>0.000082</td>\n",
       "      <td>0.000104</td>\n",
       "      <td>0.000087</td>\n",
       "      <td>0.000080</td>\n",
       "      <td>0.000092</td>\n",
       "      <td>0.000103</td>\n",
       "      <td>0.000084</td>\n",
       "      <td>0.000229</td>\n",
       "      <td>0.000078</td>\n",
       "    </tr>\n",
       "    <tr>\n",
       "      <th>XOM</th>\n",
       "      <td>0.000121</td>\n",
       "      <td>0.000176</td>\n",
       "      <td>0.000156</td>\n",
       "      <td>0.000192</td>\n",
       "      <td>0.000172</td>\n",
       "      <td>0.000130</td>\n",
       "      <td>0.000228</td>\n",
       "      <td>0.000177</td>\n",
       "      <td>0.000138</td>\n",
       "      <td>0.000154</td>\n",
       "      <td>...</td>\n",
       "      <td>0.000125</td>\n",
       "      <td>0.000112</td>\n",
       "      <td>0.000131</td>\n",
       "      <td>0.000114</td>\n",
       "      <td>0.000080</td>\n",
       "      <td>0.000118</td>\n",
       "      <td>0.000138</td>\n",
       "      <td>0.000101</td>\n",
       "      <td>0.000078</td>\n",
       "      <td>0.000252</td>\n",
       "    </tr>\n",
       "  </tbody>\n",
       "</table>\n",
       "<p>28 rows × 28 columns</p>\n",
       "</div>"
      ],
      "text/plain": [
       "Symbol      AAPL       AXP        BA       BAC       CAT      CSCO       CVX  \\\n",
       "Symbol                                                                         \n",
       "AAPL    0.000710  0.000221  0.000162  0.000240  0.000201  0.000297  0.000128   \n",
       "AXP     0.000221  0.000524  0.000242  0.000444  0.000255  0.000251  0.000198   \n",
       "BA      0.000162  0.000242  0.000447  0.000250  0.000205  0.000180  0.000172   \n",
       "BAC     0.000240  0.000444  0.000250  0.000848  0.000295  0.000266  0.000221   \n",
       "CAT     0.000201  0.000255  0.000205  0.000295  0.000421  0.000203  0.000187   \n",
       "CSCO    0.000297  0.000251  0.000180  0.000266  0.000203  0.000596  0.000137   \n",
       "CVX     0.000128  0.000198  0.000172  0.000221  0.000187  0.000137  0.000300   \n",
       "DD      0.000171  0.000271  0.000224  0.000322  0.000274  0.000199  0.000193   \n",
       "DIS     0.000176  0.000246  0.000188  0.000249  0.000185  0.000212  0.000150   \n",
       "GE      0.000195  0.000284  0.000212  0.000335  0.000223  0.000223  0.000167   \n",
       "HD      0.000170  0.000242  0.000186  0.000254  0.000187  0.000191  0.000136   \n",
       "HPQ     0.000263  0.000232  0.000190  0.000244  0.000206  0.000299  0.000152   \n",
       "IBM     0.000181  0.000179  0.000138  0.000189  0.000155  0.000215  0.000116   \n",
       "INTC    0.000311  0.000255  0.000192  0.000264  0.000211  0.000362  0.000145   \n",
       "JNJ     0.000072  0.000111  0.000095  0.000114  0.000093  0.000081  0.000090   \n",
       "JPM     0.000235  0.000398  0.000234  0.000560  0.000265  0.000276  0.000199   \n",
       "KO      0.000078  0.000115  0.000101  0.000112  0.000097  0.000084  0.000089   \n",
       "MCD     0.000099  0.000138  0.000120  0.000138  0.000105  0.000111  0.000099   \n",
       "MMM     0.000129  0.000183  0.000148  0.000208  0.000182  0.000151  0.000127   \n",
       "MRK     0.000095  0.000147  0.000114  0.000153  0.000115  0.000103  0.000118   \n",
       "MSFT    0.000229  0.000215  0.000165  0.000220  0.000176  0.000271  0.000141   \n",
       "PFE     0.000093  0.000152  0.000120  0.000171  0.000124  0.000115  0.000114   \n",
       "PG      0.000067  0.000111  0.000090  0.000119  0.000093  0.000081  0.000078   \n",
       "T       0.000120  0.000169  0.000122  0.000180  0.000129  0.000139  0.000115   \n",
       "TRV     0.000142  0.000239  0.000166  0.000275  0.000167  0.000165  0.000154   \n",
       "VZ      0.000104  0.000148  0.000101  0.000153  0.000110  0.000131  0.000099   \n",
       "WMT     0.000101  0.000129  0.000098  0.000126  0.000106  0.000118  0.000072   \n",
       "XOM     0.000121  0.000176  0.000156  0.000192  0.000172  0.000130  0.000228   \n",
       "\n",
       "Symbol        DD       DIS        GE  ...       MMM       MRK      MSFT  \\\n",
       "Symbol                                ...                                 \n",
       "AAPL    0.000171  0.000176  0.000195  ...  0.000129  0.000095  0.000229   \n",
       "AXP     0.000271  0.000246  0.000284  ...  0.000183  0.000147  0.000215   \n",
       "BA      0.000224  0.000188  0.000212  ...  0.000148  0.000114  0.000165   \n",
       "BAC     0.000322  0.000249  0.000335  ...  0.000208  0.000153  0.000220   \n",
       "CAT     0.000274  0.000185  0.000223  ...  0.000182  0.000115  0.000176   \n",
       "CSCO    0.000199  0.000212  0.000223  ...  0.000151  0.000103  0.000271   \n",
       "CVX     0.000193  0.000150  0.000167  ...  0.000127  0.000118  0.000141   \n",
       "DD      0.000509  0.000201  0.000236  ...  0.000189  0.000133  0.000170   \n",
       "DIS     0.000201  0.000370  0.000199  ...  0.000139  0.000111  0.000174   \n",
       "GE      0.000236  0.000199  0.000429  ...  0.000167  0.000123  0.000177   \n",
       "HD      0.000199  0.000184  0.000195  ...  0.000143  0.000108  0.000166   \n",
       "HPQ     0.000206  0.000199  0.000202  ...  0.000139  0.000109  0.000223   \n",
       "IBM     0.000161  0.000149  0.000167  ...  0.000111  0.000086  0.000167   \n",
       "INTC    0.000205  0.000199  0.000212  ...  0.000150  0.000114  0.000282   \n",
       "JNJ     0.000100  0.000086  0.000097  ...  0.000087  0.000111  0.000084   \n",
       "JPM     0.000291  0.000243  0.000306  ...  0.000184  0.000149  0.000226   \n",
       "KO      0.000105  0.000091  0.000095  ...  0.000084  0.000083  0.000089   \n",
       "MCD     0.000119  0.000110  0.000113  ...  0.000086  0.000082  0.000094   \n",
       "MMM     0.000189  0.000139  0.000167  ...  0.000225  0.000096  0.000123   \n",
       "MRK     0.000133  0.000111  0.000123  ...  0.000096  0.000300  0.000104   \n",
       "MSFT    0.000170  0.000174  0.000177  ...  0.000123  0.000104  0.000381   \n",
       "PFE     0.000136  0.000113  0.000134  ...  0.000106  0.000154  0.000108   \n",
       "PG      0.000111  0.000083  0.000097  ...  0.000088  0.000087  0.000074   \n",
       "T       0.000141  0.000131  0.000135  ...  0.000100  0.000103  0.000123   \n",
       "TRV     0.000187  0.000153  0.000182  ...  0.000134  0.000120  0.000150   \n",
       "VZ      0.000118  0.000122  0.000124  ...  0.000089  0.000098  0.000115   \n",
       "WMT     0.000113  0.000102  0.000111  ...  0.000091  0.000082  0.000104   \n",
       "XOM     0.000177  0.000138  0.000154  ...  0.000125  0.000112  0.000131   \n",
       "\n",
       "Symbol       PFE        PG         T       TRV        VZ       WMT       XOM  \n",
       "Symbol                                                                        \n",
       "AAPL    0.000093  0.000067  0.000120  0.000142  0.000104  0.000101  0.000121  \n",
       "AXP     0.000152  0.000111  0.000169  0.000239  0.000148  0.000129  0.000176  \n",
       "BA      0.000120  0.000090  0.000122  0.000166  0.000101  0.000098  0.000156  \n",
       "BAC     0.000171  0.000119  0.000180  0.000275  0.000153  0.000126  0.000192  \n",
       "CAT     0.000124  0.000093  0.000129  0.000167  0.000110  0.000106  0.000172  \n",
       "CSCO    0.000115  0.000081  0.000139  0.000165  0.000131  0.000118  0.000130  \n",
       "CVX     0.000114  0.000078  0.000115  0.000154  0.000099  0.000072  0.000228  \n",
       "DD      0.000136  0.000111  0.000141  0.000187  0.000118  0.000113  0.000177  \n",
       "DIS     0.000113  0.000083  0.000131  0.000153  0.000122  0.000102  0.000138  \n",
       "GE      0.000134  0.000097  0.000135  0.000182  0.000124  0.000111  0.000154  \n",
       "HD      0.000113  0.000086  0.000123  0.000168  0.000111  0.000159  0.000126  \n",
       "HPQ     0.000105  0.000066  0.000124  0.000153  0.000116  0.000094  0.000134  \n",
       "IBM     0.000089  0.000065  0.000112  0.000125  0.000099  0.000087  0.000112  \n",
       "INTC    0.000115  0.000086  0.000139  0.000170  0.000130  0.000117  0.000141  \n",
       "JNJ     0.000108  0.000080  0.000080  0.000087  0.000074  0.000067  0.000090  \n",
       "JPM     0.000154  0.000106  0.000179  0.000259  0.000162  0.000132  0.000177  \n",
       "KO      0.000080  0.000088  0.000085  0.000094  0.000080  0.000070  0.000090  \n",
       "MCD     0.000077  0.000073  0.000078  0.000114  0.000072  0.000078  0.000088  \n",
       "MMM     0.000106  0.000088  0.000100  0.000134  0.000089  0.000091  0.000125  \n",
       "MRK     0.000154  0.000087  0.000103  0.000120  0.000098  0.000082  0.000112  \n",
       "MSFT    0.000108  0.000074  0.000123  0.000150  0.000115  0.000104  0.000131  \n",
       "PFE     0.000250  0.000085  0.000101  0.000119  0.000092  0.000087  0.000114  \n",
       "PG      0.000085  0.000194  0.000086  0.000091  0.000076  0.000080  0.000080  \n",
       "T       0.000101  0.000086  0.000271  0.000122  0.000180  0.000092  0.000118  \n",
       "TRV     0.000119  0.000091  0.000122  0.000346  0.000113  0.000103  0.000138  \n",
       "VZ      0.000092  0.000076  0.000180  0.000113  0.000240  0.000084  0.000101  \n",
       "WMT     0.000087  0.000080  0.000092  0.000103  0.000084  0.000229  0.000078  \n",
       "XOM     0.000114  0.000080  0.000118  0.000138  0.000101  0.000078  0.000252  \n",
       "\n",
       "[28 rows x 28 columns]"
      ]
     },
     "execution_count": 35,
     "metadata": {},
     "output_type": "execute_result"
    }
   ],
   "source": [
    "sigma = logret.cov()\n",
    "sigma"
   ]
  },
  {
   "cell_type": "markdown",
   "metadata": {
    "slideshow": {
     "slide_type": "subslide"
    }
   },
   "source": [
    "### Visualize volatility structure\n",
    "\n",
    "* Heatmap visualization of covariance and correlation"
   ]
  },
  {
   "cell_type": "code",
   "execution_count": 36,
   "metadata": {
    "slideshow": {
     "slide_type": "-"
    }
   },
   "outputs": [
    {
     "data": {
      "image/png": "[encoded data removed]",
      "text/plain": [
       "<Figure size 1440x576 with 4 Axes>"
      ]
     },
     "metadata": {
      "needs_background": "light"
     },
     "output_type": "display_data"
    }
   ],
   "source": [
    "import seaborn as sns\n",
    "fig, ax = plt.subplots(1, 2, figsize=(20, 8))\n",
    "sns.heatmap(logret.cov(),  square=True, ax=ax[0]).set_title('Covariance Matrix')\n",
    "sns.heatmap(logret.corr(), square=True, ax=ax[1]).set_title('Correlation Matrix')\n",
    "fig.show()"
   ]
  },
  {
   "cell_type": "markdown",
   "metadata": {
    "slideshow": {
     "slide_type": "subslide"
    }
   },
   "source": [
    "* Reordering variables group similar stocks together"
   ]
  },
  {
   "cell_type": "code",
   "execution_count": 37,
   "metadata": {
    "slideshow": {
     "slide_type": "-"
    }
   },
   "outputs": [
    {
     "data": {
      "image/png": "[encoded data removed]",
      "text/plain": [
       "<Figure size 576x576 with 4 Axes>"
      ]
     },
     "metadata": {
      "needs_background": "light"
     },
     "output_type": "display_data"
    }
   ],
   "source": [
    "clmap = sns.clustermap(logret.corr(), square=True, figsize=(8, 8));\n",
    "ordering = clmap.dendrogram_col.reordered_ind # save the hierarchical clustering generated variable ordering"
   ]
  },
  {
   "cell_type": "code",
   "execution_count": 38,
   "metadata": {
    "slideshow": {
     "slide_type": "subslide"
    }
   },
   "outputs": [
    {
     "data": {
      "image/png": "[encoded data removed]",
      "text/plain": [
       "<Figure size 1440x576 with 4 Axes>"
      ]
     },
     "metadata": {
      "needs_background": "light"
     },
     "output_type": "display_data"
    }
   ],
   "source": [
    "fig, ax = plt.subplots(1, 2, figsize=(20, 8))\n",
    "sns.heatmap(logret.cov().iloc[ordering, ordering],  square=True, ax=ax[0]).set_title('Covariance Matrix')\n",
    "sns.heatmap(logret.corr().iloc[ordering, ordering], square=True, ax=ax[1]).set_title('Correlation Matrix')\n",
    "fig.show()"
   ]
  },
  {
   "cell_type": "markdown",
   "metadata": {
    "slideshow": {
     "slide_type": "subslide"
    }
   },
   "source": [
    "## Calculate Minimum Variance Portfolio\n",
    "\n",
    "* $\\Sigma$ matrix is all that is specified\n",
    "* $\\Sigma$ characterizes the market\n",
    "* Minimize variance of portfolio $R_p$"
   ]
  },
  {
   "cell_type": "code",
   "execution_count": 39,
   "metadata": {
    "slideshow": {
     "slide_type": "-"
    }
   },
   "outputs": [
    {
     "data": {
      "text/plain": [
       "8.698321065946202e-05"
      ]
     },
     "execution_count": 39,
     "metadata": {},
     "output_type": "execute_result"
    }
   ],
   "source": [
    "import cvxpy as cvx\n",
    "\n",
    "s, _ = sigma.shape # calculated from data\n",
    "\n",
    "w = cvx.Variable(s) # variables\n",
    "risk = cvx.quad_form(w, sigma.values)  # objective function\n",
    "prob = cvx.Problem(cvx.Minimize(risk), # optimization problem \n",
    "               [cvx.sum(w) == 1])      # fully invested portfolio constraint\n",
    "prob.solve()"
   ]
  },
  {
   "cell_type": "code",
   "execution_count": 40,
   "metadata": {
    "slideshow": {
     "slide_type": "subslide"
    }
   },
   "outputs": [
    {
     "data": {
      "text/plain": [
       "array([ 0.02014033, -0.07507116, -0.00686873, -0.01028328, -0.01082898,\n",
       "       -0.01634386,  0.04270768, -0.04155391,  0.01104616, -0.01437098,\n",
       "       -0.02261809,  0.01444665,  0.11143098, -0.02368283,  0.22019213,\n",
       "       -0.0337178 ,  0.15556661,  0.14567807,  0.09454289,  0.00406313,\n",
       "        0.01470036,  0.0321641 ,  0.12375195,  0.00673572,  0.01428235,\n",
       "        0.10017497,  0.13084268,  0.01287286])"
      ]
     },
     "execution_count": 40,
     "metadata": {},
     "output_type": "execute_result"
    }
   ],
   "source": [
    "w.value"
   ]
  },
  {
   "cell_type": "markdown",
   "metadata": {
    "slideshow": {
     "slide_type": "-"
    }
   },
   "source": [
    "* Positive weights indicate long positions\n",
    "* Negative weights indicate [short positions](https://en.wikipedia.org/wiki/Short_(finance))\n",
    "* Must sum to 1 (constraint)"
   ]
  },
  {
   "cell_type": "markdown",
   "metadata": {
    "slideshow": {
     "slide_type": "subslide"
    }
   },
   "source": [
    "* Other portfolio optimization variations:  \n",
    "    http://nbviewer.jupyter.org/github/cvxgrp/cvx_short_course/blob/master/applications/portfolio_optimization.ipynb"
   ]
  },
  {
   "cell_type": "markdown",
   "metadata": {
    "slideshow": {
     "slide_type": "subslide"
    }
   },
   "source": [
    "* `cvxpy` package makes it easy to solve many types of problems easily\n",
    "* Portfolio allocation problem with target expected return constraint:\n",
    "\n",
    "$$ \\min_{x\\in\\mathbb{R}^s}\\ \\ x^\\intercal \\Sigma x\\\\\n",
    "\\text{subject to }\\mu^\\intercal x\\geq \\mu^* \\text{, and } \\mathbf{1}^\\intercal x = 1,$$\n",
    "\n",
    "* Expected returns, $\\mu$, is estimated from data (also $\\Sigma$)\n",
    "* Investor specifies target return $\\mu^*$"
   ]
  },
  {
   "cell_type": "code",
   "execution_count": 41,
   "metadata": {
    "slideshow": {
     "slide_type": "-"
    }
   },
   "outputs": [
    {
     "data": {
      "text/plain": [
       "0.00020658194161401347"
      ]
     },
     "execution_count": 41,
     "metadata": {},
     "output_type": "execute_result"
    }
   ],
   "source": [
    "import cvxpy as cvx\n",
    "\n",
    "s,_ = sigma.shape\n",
    "\n",
    "w = cvx.Variable(s)\n",
    "risk = cvx.quad_form(w, sigma.values)\n",
    "prob = cvx.Problem(cvx.Minimize(risk), \n",
    "               [\n",
    "                   cvx.sum(w) == 1,\n",
    "                   mu.values*w >= 0.001\n",
    "               ])\n",
    "prob.solve()"
   ]
  },
  {
   "cell_type": "code",
   "execution_count": 42,
   "metadata": {
    "slideshow": {
     "slide_type": "subslide"
    }
   },
   "outputs": [
    {
     "data": {
      "text/plain": [
       "array([ 0.27323396, -0.09437553,  0.06022901, -0.08056145,  0.18441941,\n",
       "       -0.13350709,  0.34482683, -0.15228359,  0.09851376, -0.44326639,\n",
       "        0.04902361, -0.09949472,  0.00079075, -0.07460622,  0.41206477,\n",
       "        0.11455495,  0.11806182,  0.26990392,  0.2634796 , -0.06831378,\n",
       "        0.0935414 , -0.02636621,  0.13689362, -0.1363117 ,  0.07655206,\n",
       "        0.15763157,  0.03114486, -0.37577924])"
      ]
     },
     "execution_count": 42,
     "metadata": {},
     "output_type": "execute_result"
    }
   ],
   "source": [
    "w.value"
   ]
  },
  {
   "cell_type": "markdown",
   "metadata": {
    "slideshow": {
     "slide_type": "-"
    }
   },
   "source": [
    "* Higher target return achieved with more short positions\n",
    "* Constraint: $\\mu^\\intercal w=0.001$\n",
    "* Constraint: $\\mathbf{1}^\\intercal w=1$."
   ]
  },
  {
   "cell_type": "code",
   "execution_count": 43,
   "metadata": {
    "slideshow": {
     "slide_type": "subslide"
    }
   },
   "outputs": [
    {
     "data": {
      "text/plain": [
       "1.0"
      ]
     },
     "execution_count": 43,
     "metadata": {},
     "output_type": "execute_result"
    }
   ],
   "source": [
    "w.value.sum()"
   ]
  },
  {
   "cell_type": "code",
   "execution_count": 44,
   "metadata": {
    "slideshow": {
     "slide_type": "fragment"
    }
   },
   "outputs": [
    {
     "data": {
      "text/plain": [
       "0.0010000000000000005"
      ]
     },
     "execution_count": 44,
     "metadata": {},
     "output_type": "execute_result"
    }
   ],
   "source": [
    "np.dot(mu.values,w.value)"
   ]
  },
  {
   "cell_type": "markdown",
   "metadata": {
    "slideshow": {
     "slide_type": "slide"
    }
   },
   "source": [
    "### Making the investment\n",
    "\n",
    "* Investing 1 dollar in a stock with 3% return over one time period makes me 3 cents:  \n",
    "    $$\\$1 \\cdot (1 + 0.03) = 1.03$$\n",
    "    \n",
    "* Investing a portfolio of worth $A_0$ dollars returns,\n",
    "    $$ A = A_0 (1+r_t^T w_t), $$\n",
    "    where elements of $r_t$ are returns at time $t$ and $w$ is portfolio allocation\n",
    "\n",
    "* Take allocation `w.value` and compute portfolio returns using historical returns: `logret`."
   ]
  },
  {
   "cell_type": "code",
   "execution_count": 45,
   "metadata": {
    "slideshow": {
     "slide_type": "-"
    }
   },
   "outputs": [],
   "source": [
    "earned = np.dot(logret.fillna(method='bfill').values, w.value)"
   ]
  },
  {
   "cell_type": "markdown",
   "metadata": {
    "slideshow": {
     "slide_type": "subslide"
    }
   },
   "source": [
    "* Compute portfolio growth"
   ]
  },
  {
   "cell_type": "code",
   "execution_count": 46,
   "metadata": {
    "slideshow": {
     "slide_type": "fragment"
    }
   },
   "outputs": [
    {
     "data": {
      "image/png": "[encoded data removed]",
      "text/plain": [
       "<Figure size 720x576 with 1 Axes>"
      ]
     },
     "metadata": {
      "needs_background": "light"
     },
     "output_type": "display_data"
    }
   ],
   "source": [
    "earnedcp = (1+earned[1:]).cumprod()\n",
    "ecp = pd.DataFrame(data=earnedcp.T, index=logret.index.values[1:], columns=['Portfolio Value'])\n",
    "ecp.plot(figsize=(10, 8));"
   ]
  },
  {
   "cell_type": "code",
   "execution_count": 47,
   "metadata": {
    "slideshow": {
     "slide_type": "subslide"
    }
   },
   "outputs": [
    {
     "data": {
      "image/png": "[encoded data removed]",
      "text/plain": [
       "<Figure size 720x576 with 1 Axes>"
      ]
     },
     "metadata": {
      "needs_background": "light"
     },
     "output_type": "display_data"
    }
   ],
   "source": [
    "np.log10(ecp).plot(figsize=(10, 8));"
   ]
  },
  {
   "cell_type": "code",
   "execution_count": 48,
   "metadata": {
    "slideshow": {
     "slide_type": "subslide"
    }
   },
   "outputs": [
    {
     "data": {
      "text/html": [
       "<div>\n",
       "<style scoped>\n",
       "    .dataframe tbody tr th:only-of-type {\n",
       "        vertical-align: middle;\n",
       "    }\n",
       "\n",
       "    .dataframe tbody tr th {\n",
       "        vertical-align: top;\n",
       "    }\n",
       "\n",
       "    .dataframe thead th {\n",
       "        text-align: right;\n",
       "    }\n",
       "</style>\n",
       "<table border=\"1\" class=\"dataframe\">\n",
       "  <thead>\n",
       "    <tr style=\"text-align: right;\">\n",
       "      <th></th>\n",
       "      <th>Portfolio Value</th>\n",
       "    </tr>\n",
       "  </thead>\n",
       "  <tbody>\n",
       "    <tr>\n",
       "      <th>2000-01-04</th>\n",
       "      <td>0.997963</td>\n",
       "    </tr>\n",
       "    <tr>\n",
       "      <th>2000-01-05</th>\n",
       "      <td>1.012529</td>\n",
       "    </tr>\n",
       "    <tr>\n",
       "      <th>2000-01-06</th>\n",
       "      <td>1.017651</td>\n",
       "    </tr>\n",
       "    <tr>\n",
       "      <th>2000-01-07</th>\n",
       "      <td>1.059641</td>\n",
       "    </tr>\n",
       "    <tr>\n",
       "      <th>2000-01-10</th>\n",
       "      <td>1.027351</td>\n",
       "    </tr>\n",
       "    <tr>\n",
       "      <th>...</th>\n",
       "      <td>...</td>\n",
       "    </tr>\n",
       "    <tr>\n",
       "      <th>2020-05-04</th>\n",
       "      <td>97.020067</td>\n",
       "    </tr>\n",
       "    <tr>\n",
       "      <th>2020-05-05</th>\n",
       "      <td>97.676176</td>\n",
       "    </tr>\n",
       "    <tr>\n",
       "      <th>2020-05-06</th>\n",
       "      <td>97.850328</td>\n",
       "    </tr>\n",
       "    <tr>\n",
       "      <th>2020-05-07</th>\n",
       "      <td>98.529423</td>\n",
       "    </tr>\n",
       "    <tr>\n",
       "      <th>2020-05-08</th>\n",
       "      <td>98.416233</td>\n",
       "    </tr>\n",
       "  </tbody>\n",
       "</table>\n",
       "<p>5121 rows × 1 columns</p>\n",
       "</div>"
      ],
      "text/plain": [
       "            Portfolio Value\n",
       "2000-01-04         0.997963\n",
       "2000-01-05         1.012529\n",
       "2000-01-06         1.017651\n",
       "2000-01-07         1.059641\n",
       "2000-01-10         1.027351\n",
       "...                     ...\n",
       "2020-05-04        97.020067\n",
       "2020-05-05        97.676176\n",
       "2020-05-06        97.850328\n",
       "2020-05-07        98.529423\n",
       "2020-05-08        98.416233\n",
       "\n",
       "[5121 rows x 1 columns]"
      ]
     },
     "execution_count": 48,
     "metadata": {},
     "output_type": "execute_result"
    }
   ],
   "source": [
    "ecp"
   ]
  },
  {
   "cell_type": "markdown",
   "metadata": {
    "slideshow": {
     "slide_type": "subslide"
    }
   },
   "source": [
    "* 1 dollar invested in 2000 would be 98 dollars today?\n",
    "* Unrealistic! Why?\n",
    "* Having knowledge of 20 years worth of data is cheating!"
   ]
  },
  {
   "cell_type": "markdown",
   "metadata": {
    "slideshow": {
     "slide_type": "subslide"
    }
   },
   "source": [
    "### Quantify results"
   ]
  },
  {
   "cell_type": "code",
   "execution_count": 49,
   "metadata": {
    "slideshow": {
     "slide_type": "-"
    }
   },
   "outputs": [
    {
     "name": "stdout",
     "output_type": "stream",
     "text": [
      "portfolio average returns: 0.0009994070845034614\n",
      "          average stddev : 0.01437021493694505\n",
      "\n",
      "component stocks average: minimum: -0.000279\n",
      "                          average: 0.000227\n",
      "                          maximum: 0.000878\n",
      "component stocks stddev : minimum: 0.012456\n",
      "                          average: 0.019213\n",
      "                          maximum: 0.029129\n"
     ]
    }
   ],
   "source": [
    "retinfo = logret.mean(axis=0).agg(['min', 'mean', 'max'])\n",
    "stdinfo = logret.std(axis=0).agg(['min', 'mean', 'max'])\n",
    "print('portfolio average returns:', earned.mean())\n",
    "print('          average stddev :', earned.std())\n",
    "print('')\n",
    "print(\"component stocks average: minimum: %f\\n                          average: %f\\n                          maximum: %f\" % tuple(retinfo))\n",
    "print(\"component stocks stddev : minimum: %f\\n                          average: %f\\n                          maximum: %f\" % tuple(stdinfo))"
   ]
  },
  {
   "cell_type": "markdown",
   "metadata": {
    "slideshow": {
     "slide_type": "subslide"
    }
   },
   "source": [
    "Annual return would be:"
   ]
  },
  {
   "cell_type": "code",
   "execution_count": 50,
   "metadata": {
    "slideshow": {
     "slide_type": "-"
    }
   },
   "outputs": [
    {
     "data": {
      "text/plain": [
       "0.43993996760135157"
      ]
     },
     "execution_count": 50,
     "metadata": {},
     "output_type": "execute_result"
    }
   ],
   "source": [
    "(1+earned.mean())**365 - 1"
   ]
  },
  {
   "cell_type": "markdown",
   "metadata": {
    "slideshow": {
     "slide_type": "fragment"
    }
   },
   "source": [
    "Again, unrealistic"
   ]
  },
  {
   "cell_type": "markdown",
   "metadata": {
    "slideshow": {
     "slide_type": "slide"
    }
   },
   "source": [
    "### Qualitative Visualization of Relationships\n",
    "\n",
    "* Correlations are stricly pairwise quantities (what about other stocks?)\n",
    "* Inverse covariance"
   ]
  },
  {
   "cell_type": "code",
   "execution_count": 51,
   "metadata": {
    "slideshow": {
     "slide_type": "-"
    }
   },
   "outputs": [],
   "source": [
    "from sklearn import preprocessing\n",
    "scaler = preprocessing.StandardScaler()\n",
    "scaled_df = scaler.fit_transform(logret.dropna().values)\n",
    "scaled_df = pd.DataFrame(scaled_df, columns=logret.columns, index=logret.index[1:])"
   ]
  },
  {
   "cell_type": "markdown",
   "metadata": {},
   "source": [
    "#### Correlation Matrix: 2020"
   ]
  },
  {
   "cell_type": "code",
   "execution_count": 52,
   "metadata": {},
   "outputs": [
    {
     "data": {
      "image/png": "[encoded data removed]",
      "text/plain": [
       "<Figure size 576x576 with 4 Axes>"
      ]
     },
     "metadata": {
      "needs_background": "light"
     },
     "output_type": "display_data"
    }
   ],
   "source": [
    "clmap = sns.clustermap(scaled_df.loc['2020':'2020'].corr(), square=True, figsize=(8, 8));\n",
    "ordering = clmap.dendrogram_col.reordered_ind # save the hierarchical clustering generated variable ordering"
   ]
  },
  {
   "cell_type": "markdown",
   "metadata": {
    "slideshow": {
     "slide_type": "subslide"
    }
   },
   "source": [
    "#### Correlation Matrix: 2019 vs. 2020"
   ]
  },
  {
   "cell_type": "code",
   "execution_count": 53,
   "metadata": {
    "slideshow": {
     "slide_type": "-"
    }
   },
   "outputs": [
    {
     "data": {
      "image/png": "[encoded data removed]",
      "text/plain": [
       "<Figure size 1440x576 with 4 Axes>"
      ]
     },
     "metadata": {
      "needs_background": "light"
     },
     "output_type": "display_data"
    }
   ],
   "source": [
    "fig, ax = plt.subplots(1, 2, figsize=(20, 8))\n",
    "\n",
    "sns.heatmap(scaled_df.loc['2019':'2019'].corr().iloc[ordering, ordering],  square=True, ax=ax[0]).set_title('Correlation Matrix: 2019')\n",
    "sns.heatmap(scaled_df.loc['2020':'2020'].corr().iloc[ordering, ordering],  square=True, ax=ax[1]).set_title('Correlation Matrix: 2020')\n",
    "fig.show()"
   ]
  },
  {
   "cell_type": "markdown",
   "metadata": {},
   "source": [
    "### Reality check\n",
    "\n",
    "Obviously, this cannot be realistic. What aspects were unrealistic?\n",
    "\n",
    "1. We didn't take time into consideration: e.g. estimation of $\\Sigma$ and selecting `w`.\n",
    "1. We are investing with knowledge of the future returns!\n",
    "1. We did not take into account transaction costs (we will have to) \n",
    "1. We did not take into account shorting requires borrowing of money\n",
    "1. Is investing in stocks better than leaving our money in a savings account? What is the interest rate?\n",
    "\n",
    "Sharpe ratio tries to quantify the added benefit, i.e., excess returns, of investing in the volatile market by accounting for the volatility:\n",
    "$$\\text{Sharpe ratio}=\\frac{E\\left[R_{p}-R_{f}\\right]}{\\sigma_{p}}$$\n",
    "where $R_f$ is the risk-free rate."
   ]
  },
  {
   "cell_type": "markdown",
   "metadata": {},
   "source": [
    "### Other considerations\n",
    "\n",
    "1. Picking component stocks (choosing what to invest in)\n",
    "    1. Playing the role of the fund manager\n",
    "    1. Expertise about a specific market\n",
    "    1. Warren Buffet says stick with long term _value_ investing strategies\n",
    "    1. High-frequency trading makes money by constantly shuffling investments and making incremental returns\n",
    "    1. Where is the middle ground? i.e., choosing strategies\n",
    "1. Choosing monitoring strategies (keeping an eye out for changes in the market)\n",
    "    1. Estimation of $\\Sigma$ becomes challenging with shorter historical data\n",
    "    1. \"Regularized\" estimates of $\\Sigma$: Ledoit-Wolfe, Condition number, Sparsity inducing, Low-rank\n",
    "    1. How big of a change in the market is signficant change?\n",
    "    1. Where to look for a change? Component stocks? Market indices? Economic indicators? Consumer sentiment? Policy changes?\n",
    "    1. Deciding when to take action. How big of a change warrants an action? (Actions cost money)\n",
    "1. Choosing rebalancing strategy (deciding when to shuffle your investments)  \n",
    "    1. Fixed intervals? dynamic intervals? \n",
    "    1. Allowing for shorts?\n",
    "    1. If many component stocks, do you trade all of them even if the change is small? etc."
   ]
  },
  {
   "cell_type": "markdown",
   "metadata": {},
   "source": [
    "## Other optimization problems for modeling and learning\n",
    "\n",
    "1. [Online advertising](https://github.com/UCSB-PSTAT-134-234/Spring2019/blob/master/labs/lab05/lab05.ipynb)\n",
    "1. [Trend filtering](https://web.stanford.edu/~boyd/l1_tf/), [CVX example](https://www.cvxpy.org/examples/applications/l1_trend_filter.html)\n",
    "1. [Catching a smuggler](https://www.cvxpy.org/examples/applications/interdiction.html)\n",
    "1. [Estimating sparse inverse covariance matrix](https://www.cvxpy.org/examples/applications/sparse_covariance_est.html)\n",
    "1. [Max-flow, Min-cut problem](https://www.cvxpy.org/examples/applications/OOCO.html)\n",
    "1. Many more!!"
   ]
  }
 ],
 "metadata": {
  "celltoolbar": "Slideshow",
  "kernelspec": {
   "display_name": "Python 3",
   "language": "python",
   "name": "python3"
  },
  "language_info": {
   "codemirror_mode": {
    "name": "ipython",
    "version": 3
   },
   "file_extension": ".py",
   "mimetype": "text/x-python",
   "name": "python",
   "nbconvert_exporter": "python",
   "pygments_lexer": "ipython3",
   "version": "3.7.8"
  },
  "toc": {
   "base_numbering": 1,
   "nav_menu": {},
   "number_sections": false,
   "sideBar": true,
   "skip_h1_title": false,
   "title_cell": "Table of Contents",
   "title_sidebar": "Contents",
   "toc_cell": false,
   "toc_position": {},
   "toc_section_display": true,
   "toc_window_display": false
  }
 },
 "nbformat": 4,
 "nbformat_minor": 4
}
